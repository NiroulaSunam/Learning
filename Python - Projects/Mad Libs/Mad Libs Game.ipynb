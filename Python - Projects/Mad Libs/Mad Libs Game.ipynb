{
 "cells": [
  {
   "cell_type": "code",
   "execution_count": 1,
   "metadata": {},
   "outputs": [
    {
     "name": "stdout",
     "output_type": "stream",
     "text": [
      "Enter a adjective: good\n",
      "Enter Nationality: American\n",
      "Enter your name: Sunam Niroula\n",
      "Enter a noun: designer\n",
      "Write the plural of the noun: designers\n",
      "Enter a number: 34\n",
      "Enter a name of shape: rectangle\n",
      "Enter your favourite food: burger\n",
      "Pizza was invented by good American chef named Sunam Niroula .To make a pizza, you need to take a lump of designer and make a thin, round good designer .Then you cover it with good sauce, good cheese, and fresh chopped designers .Next you have to bake it in a very hot designer .When it is done, cut it into 34 rectangle .Some kids like burger pizza the best, but my favorite is the burger pizza. If I could, I would eat pizza 34 times a day!\n"
     ]
    }
   ],
   "source": [
    "a = input(\"Enter a adjective: \")\n",
    "b = input(\"Enter Nationality: \")\n",
    "c = input(\"Enter your name: \")\n",
    "d = input(\"Enter a noun: \")\n",
    "e = input(\"Write the plural of the noun: \")\n",
    "f = input(\"Enter a number: \")\n",
    "g = input(\"Enter a name of shape: \")\n",
    "h = input(\"Enter your favourite food: \")\n",
    "\n",
    "print(\"Pizza was invented by\",a,b,\"chef named\",c,\".To make a pizza, you need to take a lump of\",d,\"and make a thin, round\",a,d,\".Then you cover it with\",a,\"sauce,\",a,\"cheese, and fresh chopped\",e,\".Next you have to bake it in a very hot\",d,\".When it is done, cut it into\",f,g,\".Some kids like\",h,\"pizza the best, but my favorite is the\",h,\"pizza. If I could, I would eat pizza\",f,\"times a day!\")"
   ]
  },
  {
   "cell_type": "markdown",
   "metadata": {},
   "source": [
    "Things I should expand upon:\n",
    "- Giving different variables for different nouns. I was just practicing with it a bit so I didn't want to do the same thing which require more time.\n",
    "- Using /n to separate the texts and make it look more better than the earlier ones.\n",
    "- Using loop to make it go multiple times (instead of makeing it a designed loop, I can use a infininte loop (while loop)(or for loop with great range) which terminates when asked do you want to play again? And using if condition to end the loop(break) or continue."
   ]
  },
  {
   "cell_type": "code",
   "execution_count": null,
   "metadata": {},
   "outputs": [],
   "source": []
  }
 ],
 "metadata": {
  "kernelspec": {
   "display_name": "Python 3",
   "language": "python",
   "name": "python3"
  },
  "language_info": {
   "codemirror_mode": {
    "name": "ipython",
    "version": 3
   },
   "file_extension": ".py",
   "mimetype": "text/x-python",
   "name": "python",
   "nbconvert_exporter": "python",
   "pygments_lexer": "ipython3",
   "version": "3.8.3"
  }
 },
 "nbformat": 4,
 "nbformat_minor": 4
}

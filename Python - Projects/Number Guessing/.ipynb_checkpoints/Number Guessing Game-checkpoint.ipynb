{
 "cells": [
  {
   "cell_type": "code",
   "execution_count": 13,
   "metadata": {},
   "outputs": [
    {
     "name": "stdout",
     "output_type": "stream",
     "text": [
      "Enter the number: 34\n",
      "Keep Guessing\n",
      "First Hint: The given number lies above 50\n",
      "Enter the number: 87\n",
      "Keep Guessing\n",
      "Second Hint: The given number is odd.\n",
      "Enter the number: 89\n",
      "Keep Guessing\n",
      "Third Hint: It is a prime number.\n",
      "Enter the number: 83\n",
      "Keep Guessing\n",
      "Still want to continue?\n",
      "Press any key to contine and 'N' to end: r\n",
      "Enter the number: 34\n",
      "Keep Guessing\n",
      "Still want to continue?\n",
      "Press any key to contine and 'N' to end: 45\n",
      "Enter the number: 23\n",
      "Keep Guessing\n",
      "Still want to continue?\n",
      "Press any key to contine and 'N' to end: N\n"
     ]
    }
   ],
   "source": [
    "import random\n",
    "num = random.randint(0,100)\n",
    "\n",
    "for i in range(1,50): \n",
    "    guess = int(input(\"Enter the number: \"))\n",
    "    print(\"Keep Guessing\")\n",
    "    if num == guess:\n",
    "        print(\"Correct. The number is\",num)\n",
    "        break\n",
    "        \n",
    "    if i == 1:\n",
    "        if num <50:\n",
    "            print(\"First Hint: The given number lies below 50\")\n",
    "        else:\n",
    "            print(\"First Hint: The given number lies above 50\")\n",
    "            \n",
    "            \n",
    "    elif i == 2:\n",
    "        if num%2 == 0:\n",
    "            print(\"Second Hint: The given number is even.\")\n",
    "        else:\n",
    "            print(\"Second Hint: The given number is odd.\")  \n",
    "     \n",
    "    \n",
    "    elif i ==3:\n",
    "        if num == 2 or 3 or 5 or 7:\n",
    "            print(\"Third Hint: It is a prime number.\")\n",
    "        else:\n",
    "            print(\"Third Hint: It is not a prime number.\")\n",
    "            \n",
    "    elif i == 5 or 10 or 15 or 20 or 25:\n",
    "        print(\"Still want to continue?\")\n",
    "        end = input(\"Press any key to contine and 'N' to end: \")\n",
    "        if end == \"N\":\n",
    "            break\n",
    "        else:\n",
    "            continue\n",
    "        \n",
    "    elif i == 26:\n",
    "        print(\"Game over\")\n",
    "        break\n"
   ]
  }
 ],
 "metadata": {
  "kernelspec": {
   "display_name": "Python 3",
   "language": "python",
   "name": "python3"
  },
  "language_info": {
   "codemirror_mode": {
    "name": "ipython",
    "version": 3
   },
   "file_extension": ".py",
   "mimetype": "text/x-python",
   "name": "python",
   "nbconvert_exporter": "python",
   "pygments_lexer": "ipython3",
   "version": "3.8.3"
  }
 },
 "nbformat": 4,
 "nbformat_minor": 4
}

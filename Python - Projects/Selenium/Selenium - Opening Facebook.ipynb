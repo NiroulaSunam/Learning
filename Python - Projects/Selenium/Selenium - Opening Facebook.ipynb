{
 "cells": [
  {
   "cell_type": "code",
   "execution_count": 2,
   "metadata": {},
   "outputs": [],
   "source": [
    "from selenium import webdriver\n",
    "from selenium.webdriver.support.ui import WebDriverWait\n",
    "import time\n",
    "import unittest"
   ]
  },
  {
   "cell_type": "code",
   "execution_count": null,
   "metadata": {},
   "outputs": [],
   "source": [
    "class LoginTest(unittest.TestCase):\n",
    "    \n",
    "    def setUp(self):\n",
    "        self.driver = webdriver.Firefox() # if doesnot run, download its driver and install it in the path\n",
    "        self.driver.get(\"https://www.facebook.com\")\n",
    "        self.driver.maximize_window()\n",
    "        \n",
    "    def test_login(self):\n",
    "        driver = self.driver\n",
    "        facebookUsername = '' # put facebook username to test the code here\n",
    "        facebookPassword = '' # put facebook password to test the code here\n",
    "        \n",
    "        emailFieldID = 'email'\n",
    "        passFieldID = 'pass'\n",
    "        loginButtonID = 'u_0_b' \n",
    "        loginLogoxpath = (\"//a[@aria-label='Facebook']\")\n",
    "        \n",
    "        emailFieldElement = WebDriverWait(driver, 10).until(lambda driver: driver.find_element_by_id(emailFieldID))\n",
    "        passFieldElement = WebDriverWait(driver, 10).until(lambda driver: driver.find_element_by_id(passFieldID))\n",
    "        loginButtonElement = WebDriverWait(driver, 10).until(lambda driver: driver.find_element_by_id(loginButtonID))\n",
    "        emailFieldElement.clear()\n",
    "        emailFieldElement.send_keys(facebookUsername)\n",
    "        passFieldElement.clear()\n",
    "        passFieldElement.send_keys(facebookPassword)\n",
    "        loginButtonElement.click()\n",
    "        WebDriverWait(driver, 10).until(lambda driver: driver.find_element_by_xpath(loginLogoxpath))\n",
    "        \n",
    "    def tearDown(self):\n",
    "        self.driver.quit()\n",
    "        \n",
    "if __name__ == \"__main__\":\n",
    "    unittest.main(argv=['first-arg-is-ignored'], exit=False) # We use this for jupiter because of the error code\n",
    "    #unittest.main()     "
   ]
  },
  {
   "cell_type": "code",
   "execution_count": null,
   "metadata": {},
   "outputs": [],
   "source": []
  }
 ],
 "metadata": {
  "kernelspec": {
   "display_name": "Python 3",
   "language": "python",
   "name": "python3"
  },
  "language_info": {
   "codemirror_mode": {
    "name": "ipython",
    "version": 3
   },
   "file_extension": ".py",
   "mimetype": "text/x-python",
   "name": "python",
   "nbconvert_exporter": "python",
   "pygments_lexer": "ipython3",
   "version": "3.8.3"
  }
 },
 "nbformat": 4,
 "nbformat_minor": 4
}

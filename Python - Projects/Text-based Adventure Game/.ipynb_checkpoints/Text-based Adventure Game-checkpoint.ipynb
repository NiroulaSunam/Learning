{
 "cells": [
  {
   "cell_type": "code",
   "execution_count": 12,
   "metadata": {},
   "outputs": [
    {
     "name": "stdout",
     "output_type": "stream",
     "text": [
      "Enter 'Y' or 'y' to start the game.y\n",
      "You are a warrior on a journey and it's your last mission\n",
      "Get ready for your last adventure.\n",
      "which path will you choose? (1 or 2): 1\n",
      "You are on a desolate planet with corpsers all around you\n",
      "You are the only remaining living person in the world\n",
      "You see a shooting start in the sky\n",
      "You notice that the shooting star is getting bigger and bigger\n",
      "You start to panic...\n",
      "As you begin to panic you realise that it's a spaceship\n",
      "You are finally saved from this hellhole\n",
      "winner winner chicken dinner\n",
      "Do you want to play again? (yes or Y to continue playing)n\n"
     ]
    }
   ],
   "source": [
    "import random\n",
    "import time\n",
    "\n",
    "def displayIntro():\n",
    "    print(\"You are a warrior on a journey and it's your last mission\")\n",
    "    print(\"Get ready for your last adventure.\")\n",
    "\n",
    "def choosePath():\n",
    "    path = \"\"\n",
    "    while path != \"1\" and path != \"2\": #input validation (something that is there for errors when users do not go on default route)\n",
    "        path = input(\"which path will you choose? (1 or 2): \")\n",
    "    return path\n",
    "\n",
    "def checkPath(chosenPath):\n",
    "    print(\"You are on a desolate planet with corpsers all around you\")\n",
    "    time.sleep(2)\n",
    "    print(\"You are the only remaining living person in the world\")\n",
    "    time.sleep(2)\n",
    "    print(\"You see a shooting start in the sky\")\n",
    "    time.sleep(2)\n",
    "    print(\"You notice that the shooting star is getting bigger and bigger\")\n",
    "    time.sleep(2)\n",
    "    print(\"You start to panic...\")\n",
    "    \n",
    "    correctPath = random.randint(1,2)\n",
    "    \n",
    "    if chosenPath == str(correctPath):\n",
    "        print(\"As you begin to panic you realise that it's a spaceship\")\n",
    "        print(\"You are finally saved from this hellhole\")\n",
    "        print(\"winner winner chicken dinner\")\n",
    "        \n",
    "    else:\n",
    "        print(\"The metorite lands on the planet and kills all the people\")\n",
    "        print(\"No one will ever know what happened on this planet\")\n",
    "        \n",
    "Y = input(\"Enter 'Y' or 'y' to start the game.\") \n",
    "if Y == \"Y\" or Y == 'y':\n",
    "    playagain = \"yes\"\n",
    "    while playagain == \"yes\" or playagain == 'Y':\n",
    "        displayIntro()      \n",
    "        choice = choosePath()\n",
    "        checkPath(choice)\n",
    "        playagain = input(\"Do you want to play again? (yes or Y to continue playing)\")\n",
    "else:\n",
    "    print(\"Exited the game...\")"
   ]
  },
  {
   "cell_type": "code",
   "execution_count": null,
   "metadata": {},
   "outputs": [],
   "source": []
  }
 ],
 "metadata": {
  "kernelspec": {
   "display_name": "Python 3",
   "language": "python",
   "name": "python3"
  },
  "language_info": {
   "codemirror_mode": {
    "name": "ipython",
    "version": 3
   },
   "file_extension": ".py",
   "mimetype": "text/x-python",
   "name": "python",
   "nbconvert_exporter": "python",
   "pygments_lexer": "ipython3",
   "version": "3.8.3"
  }
 },
 "nbformat": 4,
 "nbformat_minor": 4
}

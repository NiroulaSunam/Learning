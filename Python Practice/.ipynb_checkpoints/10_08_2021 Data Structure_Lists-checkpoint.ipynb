{
 "cells": [
  {
   "cell_type": "markdown",
   "id": "0c7b004c",
   "metadata": {},
   "source": [
    "Numpy: For Algebric Operation \\\n",
    "Matplotlib: For Plotting \\\n",
    "Scipy: For Scientific Computing \\\n",
    "IPython: For Python Notebook \\\n",
    "Sympy: Symbolic Python \\\n",
    "Pandas: For Dataframe \\\n",
    "Seaborn: For Plotting \\\n",
    "PyData: For PyData \\\n",
    "Plotly: For Frontend Plotting \\\n",
    "Bohek: For Front End Plotting \\\n",
    "Scikit: For Machine Learning \\\n",
    "TensorFlow: For Deep Learning "
   ]
  },
  {
   "cell_type": "markdown",
   "id": "3dd9e781",
   "metadata": {},
   "source": [
    "## DataStructure:"
   ]
  },
  {
   "cell_type": "markdown",
   "id": "33026c0a",
   "metadata": {},
   "source": [
    "Primitive type*(Integer,Float,String, and Boolean***) and \\\n",
    "Non- Primitive type*(Array,List,Tuples,Dictionary,Set,and File***)"
   ]
  },
  {
   "cell_type": "markdown",
   "id": "9004be19",
   "metadata": {},
   "source": [
    "### List"
   ]
  },
  {
   "cell_type": "markdown",
   "id": "e76744bd",
   "metadata": {},
   "source": [
    "is built in data structure in python, mutable i.e. we can change or edit the size of list by appending, inserting and deleting the elements; can hold heterogenous object (eg: integer, string, boolean)"
   ]
  },
  {
   "cell_type": "markdown",
   "id": "27f2b7b1",
   "metadata": {},
   "source": [
    "- To initiate a blank list"
   ]
  },
  {
   "cell_type": "code",
   "execution_count": 6,
   "id": "dde451ca",
   "metadata": {},
   "outputs": [],
   "source": [
    "l =[]"
   ]
  },
  {
   "cell_type": "code",
   "execution_count": 7,
   "id": "8f5a073f",
   "metadata": {},
   "outputs": [
    {
     "name": "stdout",
     "output_type": "stream",
     "text": [
      "[]\n"
     ]
    }
   ],
   "source": [
    "print(l)"
   ]
  },
  {
   "cell_type": "code",
   "execution_count": 8,
   "id": "5dd27c22",
   "metadata": {},
   "outputs": [
    {
     "data": {
      "text/plain": [
       "list"
      ]
     },
     "execution_count": 8,
     "metadata": {},
     "output_type": "execute_result"
    }
   ],
   "source": [
    "type(l)"
   ]
  },
  {
   "cell_type": "code",
   "execution_count": 9,
   "id": "c21feb0d",
   "metadata": {},
   "outputs": [],
   "source": [
    "A=[1,2,3,4,5,6,7645,434]"
   ]
  },
  {
   "cell_type": "code",
   "execution_count": 10,
   "id": "a239730a",
   "metadata": {},
   "outputs": [
    {
     "name": "stdout",
     "output_type": "stream",
     "text": [
      "[1, 2, 3, 4, 5, 6, 7645, 434]\n"
     ]
    }
   ],
   "source": [
    "print(A)"
   ]
  },
  {
   "cell_type": "code",
   "execution_count": 11,
   "id": "aad21100",
   "metadata": {},
   "outputs": [
    {
     "data": {
      "text/plain": [
       "[1, 2, 3, 4, 5, 6, 7645, 434]"
      ]
     },
     "execution_count": 11,
     "metadata": {},
     "output_type": "execute_result"
    }
   ],
   "source": [
    "A"
   ]
  },
  {
   "cell_type": "code",
   "execution_count": 17,
   "id": "1320449f",
   "metadata": {},
   "outputs": [
    {
     "data": {
      "text/plain": [
       "(2, 4, 6)"
      ]
     },
     "execution_count": 17,
     "metadata": {},
     "output_type": "execute_result"
    }
   ],
   "source": [
    "A[1],A[3],A[5] #Indexing list"
   ]
  },
  {
   "cell_type": "code",
   "execution_count": 18,
   "id": "bf8d2a9c",
   "metadata": {},
   "outputs": [
    {
     "data": {
      "text/plain": [
       "(434, 7645, 6)"
      ]
     },
     "execution_count": 18,
     "metadata": {},
     "output_type": "execute_result"
    }
   ],
   "source": [
    "A[-1],A[-2],A[-3] #Reverse Indexing"
   ]
  },
  {
   "cell_type": "code",
   "execution_count": 19,
   "id": "53054b3b",
   "metadata": {},
   "outputs": [
    {
     "data": {
      "text/plain": [
       "8"
      ]
     },
     "execution_count": 19,
     "metadata": {},
     "output_type": "execute_result"
    }
   ],
   "source": [
    "len(A) #Length of list"
   ]
  },
  {
   "cell_type": "code",
   "execution_count": 20,
   "id": "c0155014",
   "metadata": {},
   "outputs": [
    {
     "data": {
      "text/plain": [
       "[1, 2, 3, 4, 5, 6, 7645, 434, 123]"
      ]
     },
     "execution_count": 20,
     "metadata": {},
     "output_type": "execute_result"
    }
   ],
   "source": [
    "A.append(123) #Add element from last in the list\n",
    "A"
   ]
  },
  {
   "cell_type": "code",
   "execution_count": 22,
   "id": "dc47beac",
   "metadata": {},
   "outputs": [
    {
     "data": {
      "text/plain": [
       "8223"
      ]
     },
     "execution_count": 22,
     "metadata": {},
     "output_type": "execute_result"
    }
   ],
   "source": [
    "sum(A) #Find sums when the types are same"
   ]
  },
  {
   "cell_type": "code",
   "execution_count": 23,
   "id": "5229a8a8",
   "metadata": {},
   "outputs": [
    {
     "data": {
      "text/plain": [
       "(7645, 1)"
      ]
     },
     "execution_count": 23,
     "metadata": {},
     "output_type": "execute_result"
    }
   ],
   "source": [
    "max(A),min(A) #Find Max and Min of the List"
   ]
  },
  {
   "cell_type": "markdown",
   "id": "cd15046b",
   "metadata": {},
   "source": [
    "- List of Heterogenous elements"
   ]
  },
  {
   "cell_type": "code",
   "execution_count": 24,
   "id": "41071981",
   "metadata": {},
   "outputs": [],
   "source": [
    "B = [1,2,45,32,1,-2,2.5,3.566,True,False,\"Apple\",\"Cat\"]"
   ]
  },
  {
   "cell_type": "code",
   "execution_count": 25,
   "id": "7611c41f",
   "metadata": {},
   "outputs": [
    {
     "data": {
      "text/plain": [
       "[1, 2, 45, 32, 1, -2, 2.5, 3.566, True, False, 'Apple', 'Cat']"
      ]
     },
     "execution_count": 25,
     "metadata": {},
     "output_type": "execute_result"
    }
   ],
   "source": [
    "B"
   ]
  },
  {
   "cell_type": "code",
   "execution_count": 26,
   "id": "85df143c",
   "metadata": {},
   "outputs": [
    {
     "data": {
      "text/plain": [
       "list"
      ]
     },
     "execution_count": 26,
     "metadata": {},
     "output_type": "execute_result"
    }
   ],
   "source": [
    "type(B)"
   ]
  },
  {
   "cell_type": "code",
   "execution_count": 29,
   "id": "28095d04",
   "metadata": {},
   "outputs": [
    {
     "data": {
      "text/plain": [
       "(2, -2, 3.566, False, 'Cat')"
      ]
     },
     "execution_count": 29,
     "metadata": {},
     "output_type": "execute_result"
    }
   ],
   "source": [
    "B[1],B[5],B[7],B[9],B[11]"
   ]
  },
  {
   "cell_type": "code",
   "execution_count": 30,
   "id": "f3f371b6",
   "metadata": {},
   "outputs": [
    {
     "data": {
      "text/plain": [
       "(int, int, float, bool, str)"
      ]
     },
     "execution_count": 30,
     "metadata": {},
     "output_type": "execute_result"
    }
   ],
   "source": [
    "type(B[1]),type(B[5]),type(B[7]),type(B[9]),type(B[11])"
   ]
  },
  {
   "cell_type": "code",
   "execution_count": 40,
   "id": "171db299",
   "metadata": {},
   "outputs": [
    {
     "data": {
      "text/plain": [
       "([1, 2, 3, 5, 2, 4, 6, 78], {1, 2, 3, 4, 5, 6, 78})"
      ]
     },
     "execution_count": 40,
     "metadata": {},
     "output_type": "execute_result"
    }
   ],
   "source": [
    "A1=[1,2,3,5]; A2=[2,4,6,78] # To add two lists one after another or in a specfic order\n",
    "A1+A2, set(A1+A2)"
   ]
  },
  {
   "cell_type": "code",
   "execution_count": 41,
   "id": "6bc7be0d",
   "metadata": {},
   "outputs": [
    {
     "name": "stdout",
     "output_type": "stream",
     "text": [
      "[1, 100, 100, 100, 2, 3, 4, 5, 6, 7645, 434, 123]\n",
      "[1, 100, 100, 100, 100, 2, 3, 4, 5, 6, 7645, 434, 123]\n"
     ]
    }
   ],
   "source": [
    "print(A) # To insert element (100) at specific index (1)\n",
    "A.insert(1,100)\n",
    "print(A)"
   ]
  },
  {
   "cell_type": "code",
   "execution_count": 44,
   "id": "fb4f6580",
   "metadata": {},
   "outputs": [
    {
     "name": "stdout",
     "output_type": "stream",
     "text": [
      "[1, 100, 100, 2, 3, 4, 5, 6, 7645, 434, 123]\n",
      "[1, 100, 2, 3, 4, 5, 6, 7645, 434, 123]\n"
     ]
    }
   ],
   "source": [
    "print(A)\n",
    "A.remove(100) # To remove a specfic element form list. It will remove the first occurence first.\n",
    "print(A)"
   ]
  },
  {
   "cell_type": "code",
   "execution_count": 45,
   "id": "6191e73d",
   "metadata": {},
   "outputs": [
    {
     "data": {
      "text/plain": [
       "[1, 100, 2, 3, 4, 5, 6, 7645, 434]"
      ]
     },
     "execution_count": 45,
     "metadata": {},
     "output_type": "execute_result"
    }
   ],
   "source": [
    "A.pop(-1) # To remove the elemt from specific index\n",
    "A"
   ]
  },
  {
   "cell_type": "code",
   "execution_count": 46,
   "id": "8c337c3d",
   "metadata": {},
   "outputs": [
    {
     "data": {
      "text/plain": [
       "[1, 2, 3, 4, 5, 6, 100, 434, 7645]"
      ]
     },
     "execution_count": 46,
     "metadata": {},
     "output_type": "execute_result"
    }
   ],
   "source": [
    "A.sort()\n",
    "A"
   ]
  },
  {
   "cell_type": "code",
   "execution_count": 47,
   "id": "d37c60ab",
   "metadata": {},
   "outputs": [
    {
     "data": {
      "text/plain": [
       "[7645, 434, 100, 6, 5, 4, 3, 2, 1]"
      ]
     },
     "execution_count": 47,
     "metadata": {},
     "output_type": "execute_result"
    }
   ],
   "source": [
    "A.reverse()\n",
    "A"
   ]
  },
  {
   "cell_type": "markdown",
   "id": "c301d21d",
   "metadata": {},
   "source": [
    "- **List Comprehension**"
   ]
  },
  {
   "cell_type": "code",
   "execution_count": 51,
   "id": "53cd7588",
   "metadata": {},
   "outputs": [
    {
     "name": "stdout",
     "output_type": "stream",
     "text": [
      "[0, 1, 2, 3, 4, 5, 6, 7, 8, 9, 10, 11, 12, 13, 14, 15, 16, 17, 18, 19, 20, 21, 22, 23, 24, 25, 26, 27, 28, 29, 30, 31, 32, 33, 34, 35, 36, 37, 38, 39, 40, 41, 42, 43, 44, 45, 46, 47, 48, 49, 50, 51, 52, 53, 54, 55, 56, 57, 58, 59, 60, 61, 62, 63, 64, 65, 66, 67, 68, 69, 70, 71, 72, 73, 74, 75, 76, 77, 78, 79, 80, 81, 82, 83, 84, 85, 86, 87, 88, 89, 90, 91, 92, 93, 94, 95, 96, 97, 98, 99]\n"
     ]
    }
   ],
   "source": [
    "C = [x for x in range(100)]\n",
    "print(C)"
   ]
  },
  {
   "cell_type": "code",
   "execution_count": 52,
   "id": "da8134d6",
   "metadata": {},
   "outputs": [
    {
     "name": "stdout",
     "output_type": "stream",
     "text": [
      "[0, 2, 4, 6, 8, 10, 12, 14, 16, 18, 20, 22, 24, 26, 28, 30, 32, 34, 36, 38, 40, 42, 44, 46, 48, 50, 52, 54, 56, 58, 60, 62, 64, 66, 68, 70, 72, 74, 76, 78, 80, 82, 84, 86, 88, 90, 92, 94, 96, 98]\n"
     ]
    }
   ],
   "source": [
    "D =[x for x in range(100) if x%2==0]\n",
    "print(D)"
   ]
  },
  {
   "cell_type": "code",
   "execution_count": 53,
   "id": "7149eb72",
   "metadata": {},
   "outputs": [
    {
     "data": {
      "text/plain": [
       "68"
      ]
     },
     "execution_count": 53,
     "metadata": {},
     "output_type": "execute_result"
    }
   ],
   "source": [
    "import random as rn\n",
    "rn.randint(0,100)"
   ]
  },
  {
   "cell_type": "code",
   "execution_count": 56,
   "id": "e4577906",
   "metadata": {},
   "outputs": [
    {
     "name": "stdout",
     "output_type": "stream",
     "text": [
      "[36, 25, 98, 83, 55, 39, 34, 37, 90, 29, 73, 83, 42, 26, 55, 77, 100, 19, 10, 6, 99, 72, 32, 28, 88, 16, 37, 32, 63, 22, 59, 14, 96, 16, 31, 53, 17, 86, 97, 57, 37, 8, 57, 41, 15, 54, 12, 93, 21, 42, 39, 55, 13, 84, 67, 3, 45, 44, 5, 13, 58, 57, 24, 14, 33, 69, 3, 66, 30, 3, 12, 64, 93, 49, 95, 16, 50, 30, 4, 47, 78, 54, 77, 83, 80, 17, 16, 43, 55, 64, 46, 40, 7, 35, 19, 79, 57, 21, 38, 85, 39, 15, 100, 29, 99, 31, 31, 86, 33, 56, 14, 92, 0, 83, 10, 18, 13, 58, 11, 75, 44, 32, 17, 42, 47, 84, 77, 45, 41, 82, 18, 4, 10, 4, 91, 59, 24, 78, 67, 55, 51, 13, 7, 63, 4, 98, 34, 98, 57, 11, 91, 6, 18, 87, 65, 29, 67, 84, 89, 57, 94, 48, 54, 69, 32, 25, 93, 53, 20, 81, 10, 55, 99, 24, 21, 34, 90, 66, 53, 9, 56, 46, 75, 83, 72, 34, 13, 58, 81, 12, 81, 21, 6, 12, 79, 24, 90, 87, 84, 53]\n"
     ]
    }
   ],
   "source": [
    "import random as rn\n",
    "E = [rn.randint(0,100) for k in range(200)]\n",
    "print (E)"
   ]
  },
  {
   "cell_type": "code",
   "execution_count": 57,
   "id": "db769362",
   "metadata": {},
   "outputs": [
    {
     "name": "stdout",
     "output_type": "stream",
     "text": [
      "Counter({55: 6, 57: 6, 83: 5, 13: 5, 34: 4, 10: 4, 32: 4, 16: 4, 53: 4, 12: 4, 21: 4, 84: 4, 24: 4, 4: 4, 98: 3, 39: 3, 37: 3, 90: 3, 29: 3, 42: 3, 77: 3, 6: 3, 99: 3, 14: 3, 31: 3, 17: 3, 54: 3, 93: 3, 67: 3, 3: 3, 58: 3, 18: 3, 81: 3, 25: 2, 100: 2, 19: 2, 72: 2, 63: 2, 59: 2, 86: 2, 41: 2, 15: 2, 45: 2, 44: 2, 33: 2, 69: 2, 66: 2, 30: 2, 64: 2, 47: 2, 78: 2, 46: 2, 7: 2, 79: 2, 56: 2, 11: 2, 75: 2, 91: 2, 87: 2, 36: 1, 73: 1, 26: 1, 28: 1, 88: 1, 22: 1, 96: 1, 97: 1, 8: 1, 5: 1, 49: 1, 95: 1, 50: 1, 80: 1, 43: 1, 40: 1, 35: 1, 38: 1, 85: 1, 92: 1, 0: 1, 82: 1, 51: 1, 65: 1, 89: 1, 94: 1, 48: 1, 20: 1, 9: 1})\n"
     ]
    }
   ],
   "source": [
    "import collections\n",
    "#High performance counting\n",
    "F = collections.Counter(E)\n",
    "print(F)"
   ]
  },
  {
   "cell_type": "code",
   "execution_count": 63,
   "id": "a4850ee2",
   "metadata": {},
   "outputs": [
    {
     "name": "stdout",
     "output_type": "stream",
     "text": [
      "['T', 'G', 'T', 'C', 'C', 'C', 'T', 'A', 'A', 'G', 'A', 'T', 'A', 'G', 'G', 'C', 'C', 'C', 'A', 'A', 'G', 'T', 'T', 'A', 'T', 'T', 'C', 'C', 'G', 'A', 'T', 'C', 'G', 'G', 'A', 'T', 'C', 'G', 'A', 'A', 'C', 'T', 'G', 'C', 'C', 'G', 'G', 'G', 'T', 'A', 'G', 'G', 'A', 'C', 'T', 'C', 'G', 'C', 'T', 'T', 'G', 'C', 'C', 'A', 'T', 'C', 'G', 'A', 'T', 'G', 'G', 'G', 'C', 'T', 'T', 'G', 'A', 'C', 'G', 'A', 'C', 'C', 'G', 'T', 'G', 'G', 'T', 'A', 'T', 'G', 'C', 'G', 'T', 'C', 'A', 'C', 'G', 'C', 'A', 'G', 'T', 'G', 'T', 'G', 'A', 'C', 'A', 'T', 'C', 'A', 'T', 'A', 'A', 'C', 'A', 'C', 'C', 'A', 'T', 'C', 'T', 'C', 'G', 'C', 'A', 'C', 'T', 'T', 'A', 'A', 'G', 'G', 'C', 'T', 'C', 'A', 'G', 'C', 'T', 'G', 'C', 'C', 'T', 'C', 'T', 'G', 'C', 'G', 'T', 'A', 'G', 'T', 'T', 'A', 'C', 'A', 'A', 'C', 'G', 'T', 'A', 'C', 'G', 'C', 'A', 'T', 'A', 'T', 'C', 'C', 'G', 'T', 'A', 'T', 'A', 'C', 'C', 'T', 'T', 'A', 'C', 'C', 'G', 'C', 'A', 'C', 'A', 'T', 'C', 'G', 'G', 'A', 'T', 'T', 'T', 'C', 'T', 'C', 'C', 'A']\n"
     ]
    }
   ],
   "source": [
    "G=[rn.choice(['A','T','G','C']) for i in range(200)]\n",
    "print(G)"
   ]
  },
  {
   "cell_type": "code",
   "execution_count": 68,
   "id": "ba6f82fd",
   "metadata": {},
   "outputs": [
    {
     "data": {
      "text/plain": [
       "'TGTCCCTAAGATAGGCCCAAGTTATTCCGATCGGATCGAACTGCCGGGTAGGACTCGCTTGCCATCGATGGGCTTGACGACCGTGGTATGCGTCACGCAGTGTGACATCATAACACCATCTCGCACTTAAGGCTCAGCTGCCTCTGCGTAGTTACAACGTACGCATATCCGTATACCTTACCGCACATCGGATTTCTCCA'"
      ]
     },
     "execution_count": 68,
     "metadata": {},
     "output_type": "execute_result"
    }
   ],
   "source": [
    "DNA = ''.join(G)\n",
    "DNA"
   ]
  },
  {
   "cell_type": "code",
   "execution_count": 69,
   "id": "c9a59cc4",
   "metadata": {},
   "outputs": [
    {
     "data": {
      "text/plain": [
       "(45, 15, 2)"
      ]
     },
     "execution_count": 69,
     "metadata": {},
     "output_type": "execute_result"
    }
   ],
   "source": [
    "DNA.count('A'),DNA.count('AT'),DNA.count('ATG')"
   ]
  },
  {
   "cell_type": "markdown",
   "id": "cb2460c5",
   "metadata": {},
   "source": [
    "**Mini Assignment**\\\n",
    "Creat a DNA string of 10,000 characters and count the following A,T,G,C, all combination of two characters, all combinations of three characters"
   ]
  },
  {
   "cell_type": "code",
   "execution_count": 5,
   "id": "d9b3dd45",
   "metadata": {},
   "outputs": [
    {
     "name": "stdout",
     "output_type": "stream",
     "text": [
      "['G', 'C', 'G', 'C', 'C', 'C', 'C', 'G', 'G', 'A', 'T', 'A', 'A', 'G', 'C', 'C', 'T', 'G', 'A', 'T', 'G', 'C', 'A', 'C', 'T', 'T', 'T', 'G', 'T', 'C', 'C', 'G', 'G', 'T', 'A', 'T', 'C', 'T', 'A', 'A', 'A', 'C', 'G', 'C', 'T', 'T', 'G', 'T', 'G', 'T', 'T', 'G', 'G', 'A', 'A', 'C', 'T', 'C', 'T', 'G', 'G', 'C', 'G', 'C', 'A', 'T', 'A', 'A', 'G', 'T', 'T', 'C', 'C', 'T', 'A', 'A', 'A', 'G', 'G', 'G', 'G', 'T', 'A', 'A', 'G', 'G', 'G', 'C', 'A', 'A', 'C', 'T', 'A', 'T', 'C', 'G', 'C', 'G', 'G', 'T', 'A', 'C', 'A', 'C', 'G', 'T', 'T', 'C', 'A', 'C', 'G', 'A', 'G', 'C', 'A', 'C', 'T', 'T', 'C', 'C', 'G', 'C', 'G', 'A', 'C', 'T', 'C', 'C', 'T', 'C', 'T', 'C', 'C', 'C', 'G', 'C', 'C', 'C', 'C', 'T', 'G', 'T', 'T', 'A', 'C', 'G', 'A', 'G', 'C', 'C', 'C', 'C', 'C', 'A', 'T', 'A', 'C', 'G', 'A', 'T', 'G', 'A', 'G', 'C', 'C', 'A', 'A', 'A', 'G', 'G', 'C', 'A', 'A', 'G', 'A', 'C', 'C', 'A', 'G', 'T', 'T', 'A', 'T', 'G', 'G', 'A', 'A', 'A', 'G', 'G', 'A', 'G', 'C', 'T', 'G', 'A', 'A', 'C', 'A', 'G', 'G', 'A', 'G', 'C', 'T', 'C', 'C', 'T', 'A', 'A', 'C', 'G', 'A', 'T', 'T', 'T', 'G', 'G', 'G', 'A', 'A', 'T', 'T', 'G', 'T', 'G', 'C', 'G', 'G', 'A', 'C', 'A', 'C', 'G', 'T', 'T', 'T', 'G', 'C', 'T', 'G', 'C', 'A', 'T', 'C', 'G', 'G', 'C', 'C', 'C', 'C', 'G', 'C', 'A', 'T', 'A', 'G', 'G', 'T', 'T', 'T', 'C', 'A', 'G', 'C', 'A', 'T', 'G', 'T', 'T', 'C', 'T', 'G', 'G', 'C', 'A', 'T', 'A', 'A', 'T', 'C', 'T', 'T', 'C', 'C', 'G', 'T', 'G', 'C', 'C', 'C', 'G', 'A', 'G', 'C', 'A', 'C', 'T', 'A', 'A', 'T', 'A', 'C', 'G', 'A', 'A', 'G', 'C', 'G', 'C', 'G', 'T', 'T', 'A', 'A', 'A', 'A', 'C', 'A', 'T', 'G', 'C', 'T', 'T', 'A', 'T', 'C', 'G', 'T', 'G', 'T', 'G', 'C', 'A', 'T', 'C', 'T', 'T', 'A', 'A', 'T', 'C', 'G', 'T', 'T', 'T', 'T', 'C', 'A', 'T', 'T', 'A', 'C', 'C', 'A', 'G', 'C', 'C', 'A', 'A', 'T', 'T', 'A', 'C', 'T', 'A', 'G', 'A', 'C', 'C', 'A', 'G', 'T', 'C', 'G', 'A', 'C', 'T', 'G', 'C', 'G', 'A', 'G', 'T', 'C', 'T', 'A', 'A', 'A', 'C', 'A', 'A', 'A', 'G', 'T', 'G', 'T', 'A', 'C', 'C', 'A', 'T', 'A', 'T', 'A', 'T', 'G', 'A', 'C', 'T', 'A', 'A', 'A', 'G', 'C', 'A', 'T', 'T', 'G', 'C', 'G', 'A', 'G', 'T', 'C', 'A', 'G', 'G', 'G', 'G', 'T', 'G', 'A', 'T', 'T', 'T', 'A', 'G', 'G', 'A', 'T', 'T', 'C', 'C', 'A', 'C', 'T', 'G', 'C', 'T', 'G', 'G', 'T', 'T', 'T', 'G', 'A', 'G', 'A', 'C', 'A', 'A', 'T', 'G', 'G', 'C', 'A', 'C', 'T', 'G', 'A', 'A', 'C', 'G', 'T', 'C', 'A', 'A', 'T', 'A', 'T', 'G', 'T', 'C', 'A', 'T', 'C', 'A', 'A', 'G', 'A', 'G', 'C', 'G', 'T', 'A', 'A', 'G', 'G', 'T', 'G', 'C', 'C', 'C', 'T', 'T', 'A', 'G', 'G', 'T', 'G', 'G', 'A', 'A', 'C', 'T', 'C', 'G', 'G', 'T', 'G', 'T', 'G', 'T', 'G', 'A', 'A', 'G', 'T', 'A', 'C', 'T', 'A', 'G', 'T', 'C', 'A', 'A', 'T', 'C', 'A', 'G', 'T', 'C', 'C', 'T', 'A', 'T', 'G', 'G', 'G', 'T', 'T', 'C', 'G', 'G', 'T', 'C', 'A', 'G', 'A', 'A', 'A', 'C', 'A', 'T', 'G', 'T', 'G', 'C', 'T', 'T', 'G', 'T', 'G', 'C', 'T', 'C', 'C', 'C', 'T', 'T', 'G', 'T', 'C', 'G', 'A', 'A', 'A', 'G', 'C', 'T', 'A', 'C', 'G', 'G', 'C', 'G', 'G', 'C', 'T', 'A', 'C', 'T', 'A', 'C', 'G', 'G', 'T', 'C', 'A', 'C', 'T', 'C', 'A', 'A', 'A', 'G', 'G', 'G', 'C', 'A', 'C', 'T', 'C', 'T', 'A', 'G', 'G', 'C', 'C', 'C', 'G', 'C', 'C', 'T', 'A', 'G', 'T', 'C', 'A', 'A', 'G', 'C', 'C', 'T', 'G', 'T', 'A', 'A', 'G', 'A', 'G', 'A', 'A', 'G', 'T', 'G', 'T', 'A', 'G', 'G', 'G', 'C', 'G', 'T', 'C', 'G', 'C', 'A', 'T', 'T', 'T', 'T', 'C', 'T', 'T', 'A', 'C', 'G', 'G', 'A', 'C', 'T', 'C', 'C', 'A', 'C', 'T', 'T', 'G', 'G', 'C', 'G', 'A', 'C', 'T', 'C', 'C', 'A', 'C', 'A', 'C', 'T', 'A', 'C', 'A', 'A', 'T', 'G', 'A', 'A', 'C', 'A', 'A', 'T', 'A', 'A', 'A', 'C', 'T', 'T', 'C', 'C', 'T', 'G', 'T', 'A', 'A', 'A', 'C', 'A', 'A', 'G', 'G', 'C', 'T', 'C', 'T', 'T', 'G', 'G', 'A', 'A', 'G', 'A', 'T', 'A', 'C', 'A', 'A', 'A', 'T', 'T', 'T', 'A', 'C', 'T', 'C', 'T', 'G', 'A', 'A', 'T', 'T', 'A', 'T', 'A', 'C', 'G', 'G', 'C', 'T', 'T', 'T', 'C', 'G', 'C', 'G', 'T', 'G', 'T', 'C', 'G', 'C', 'G', 'G', 'G', 'T', 'A', 'T', 'G', 'T', 'G', 'T', 'A', 'A', 'C', 'G', 'T', 'A', 'C', 'G', 'C', 'A', 'A', 'T', 'G', 'A', 'C', 'T', 'T', 'A', 'A', 'C', 'G', 'T', 'G', 'T', 'T', 'G', 'A', 'G', 'A', 'T', 'C', 'C', 'T', 'C', 'A', 'G', 'G', 'C', 'A', 'C', 'A', 'G', 'T', 'A', 'A', 'G', 'T', 'A', 'C', 'A', 'G', 'C', 'C', 'G', 'C', 'C', 'A', 'C', 'A', 'C', 'T', 'A', 'C', 'A', 'G', 'T', 'A', 'G', 'T', 'C', 'G', 'G', 'A', 'G', 'C', 'C', 'A', 'G', 'C', 'T', 'T', 'G', 'G', 'C', 'G', 'G', 'A', 'T', 'T', 'G', 'T', 'A', 'C', 'C', 'G', 'G', 'T', 'T', 'C', 'A', 'A', 'T', 'C', 'C', 'T', 'G', 'A', 'A', 'G', 'T', 'G', 'C', 'C', 'C', 'G', 'A', 'A', 'T', 'C', 'C', 'T', 'T', 'A', 'G', 'A', 'T', 'G', 'A', 'T', 'A', 'G', 'T', 'C', 'G', 'G', 'T', 'A', 'G', 'A', 'C', 'A', 'G', 'A', 'C', 'T', 'C', 'T', 'A', 'G', 'A', 'C', 'G', 'A', 'T', 'T', 'A', 'C', 'G', 'A', 'C', 'G', 'G', 'A', 'G', 'T', 'T', 'T', 'A', 'T', 'A', 'T', 'C', 'T', 'G', 'A', 'T', 'C', 'C', 'T', 'A', 'C', 'G', 'A', 'G', 'A', 'G', 'G', 'C', 'C', 'T', 'G', 'A', 'A', 'T', 'C', 'C', 'A', 'A', 'T', 'A', 'C', 'C', 'T', 'T', 'C', 'C', 'A', 'C', 'T', 'T', 'A', 'C', 'T', 'C', 'A', 'C', 'A', 'A', 'G', 'A', 'C', 'T', 'T', 'A', 'C', 'G', 'T', 'T', 'A', 'C', 'A', 'T', 'T', 'A', 'C', 'T', 'T', 'C', 'C', 'G', 'A', 'G', 'C', 'A', 'A', 'A', 'T', 'T', 'G', 'C', 'G', 'T', 'A', 'G', 'C', 'T', 'A', 'T', 'A', 'G', 'G', 'A', 'C', 'C', 'G', 'C', 'G', 'C', 'G', 'T', 'A', 'C', 'T', 'A', 'C', 'G', 'A', 'A', 'A', 'T', 'C', 'G', 'A', 'A', 'C', 'T', 'T', 'C', 'C', 'T', 'A', 'G', 'C', 'C', 'C', 'G', 'T', 'C', 'T', 'C', 'T', 'T', 'C', 'A', 'T', 'G', 'A', 'A', 'A', 'T', 'G', 'G', 'G', 'C', 'A', 'G', 'C', 'T', 'A', 'C', 'T', 'C', 'C', 'A', 'G', 'G', 'C', 'A', 'T', 'G', 'G', 'G', 'T', 'T', 'T', 'C', 'G', 'A', 'G', 'T', 'T', 'C', 'G', 'T', 'T', 'C', 'C', 'T', 'T', 'T', 'T', 'G', 'A', 'C', 'G', 'C', 'T', 'A', 'G', 'G', 'T', 'C', 'A', 'G', 'T', 'A', 'C', 'C', 'T', 'G', 'C', 'A', 'T', 'A', 'A', 'A', 'A', 'T', 'T', 'T', 'G', 'A', 'C', 'G', 'T', 'G', 'T', 'T', 'G', 'A', 'G', 'A', 'C', 'T', 'C', 'G', 'A', 'A', 'G', 'G', 'A', 'C', 'C', 'G', 'A', 'A', 'T', 'T', 'A', 'A', 'T', 'C', 'G', 'A', 'A', 'C', 'C', 'T', 'A', 'A', 'A', 'C', 'G', 'G', 'T', 'A', 'G', 'A', 'T', 'A', 'C', 'C', 'T', 'C', 'T', 'G', 'C', 'C', 'A', 'G', 'A', 'T', 'T', 'A', 'A', 'A', 'T', 'A', 'C', 'A', 'A', 'A', 'C', 'A', 'C', 'C', 'T', 'T', 'G', 'T', 'G', 'C', 'T', 'T', 'G', 'C', 'T', 'T', 'G', 'T', 'C', 'T', 'A', 'T', 'G', 'C', 'T', 'T', 'C', 'C', 'T', 'C', 'A', 'G', 'C', 'C', 'G', 'C', 'T', 'A', 'G', 'T', 'A', 'G', 'C', 'G', 'T', 'T', 'G', 'A', 'C', 'T', 'T', 'C', 'C', 'G', 'A', 'T', 'G', 'C', 'A', 'A', 'G', 'T', 'T', 'A', 'A', 'T', 'T', 'A', 'A', 'T', 'G', 'G', 'C', 'C', 'C', 'A', 'G', 'T', 'T', 'T', 'C', 'A', 'A', 'A', 'T', 'A', 'C', 'T', 'A', 'T', 'C', 'G', 'T', 'C', 'G', 'G', 'G', 'A', 'G', 'G', 'G', 'G', 'G', 'A', 'G', 'C', 'C', 'T', 'A', 'T', 'C', 'T', 'G', 'T', 'T', 'C', 'C', 'G', 'C', 'T', 'T', 'C', 'G', 'A', 'T', 'A', 'C', 'T', 'C', 'C', 'A', 'C', 'C', 'T', 'A', 'A', 'G', 'C', 'A', 'A', 'C', 'A', 'G', 'A', 'G', 'A', 'T', 'G', 'G', 'G', 'T', 'T', 'T', 'T', 'G', 'C', 'T', 'G', 'G', 'G', 'A', 'A', 'T', 'C', 'A', 'T', 'A', 'G', 'C', 'G', 'G', 'A', 'G', 'G', 'C', 'A', 'G', 'C', 'T', 'A', 'G', 'G', 'A', 'G', 'A', 'A', 'T', 'C', 'G', 'G', 'G', 'A', 'G', 'C', 'T', 'T', 'A', 'A', 'C', 'A', 'G', 'T', 'A', 'G', 'T', 'G', 'T', 'A', 'A', 'C', 'G', 'A', 'G', 'T', 'G', 'G', 'G', 'T', 'A', 'A', 'G', 'C', 'C', 'C', 'G', 'A', 'T', 'T', 'G', 'C', 'G', 'T', 'T', 'A', 'T', 'A', 'C', 'C', 'G', 'C', 'C', 'G', 'C', 'T', 'G', 'T', 'C', 'A', 'C', 'C', 'A', 'T', 'T', 'G', 'A', 'T', 'T', 'G', 'T', 'C', 'C', 'C', 'A', 'A', 'G', 'G', 'T', 'T', 'G', 'C', 'A', 'C', 'A', 'C', 'T', 'T', 'T', 'A', 'G', 'T', 'T', 'G', 'T', 'G', 'A', 'T', 'T', 'G', 'C', 'G', 'T', 'T', 'G', 'C', 'A', 'T', 'T', 'A', 'C', 'G', 'C', 'A', 'C', 'G', 'C', 'C', 'T', 'C', 'A', 'T', 'A', 'G', 'T', 'C', 'G', 'C', 'T', 'C', 'A', 'A', 'G', 'C', 'G', 'A', 'C', 'A', 'A', 'A', 'C', 'C', 'A', 'G', 'G', 'T', 'A', 'A', 'A', 'G', 'G', 'A', 'C', 'T', 'G', 'G', 'C', 'T', 'G', 'G', 'T', 'T', 'G', 'A', 'A', 'G', 'A', 'T', 'G', 'T', 'A', 'C', 'T', 'T', 'G', 'T', 'A', 'T', 'T', 'A', 'C', 'G', 'G', 'A', 'G', 'G', 'C', 'T', 'T', 'C', 'T', 'C', 'T', 'C', 'C', 'G', 'A', 'C', 'A', 'A', 'C', 'G', 'C', 'A', 'T', 'T', 'C', 'C', 'C', 'T', 'G', 'G', 'A', 'T', 'A', 'C', 'C', 'C', 'A', 'C', 'A', 'T', 'T', 'T', 'C', 'A', 'T', 'C', 'A', 'A', 'C', 'C', 'G', 'C', 'A', 'G', 'C', 'A', 'T', 'G', 'G', 'A', 'A', 'T', 'T', 'G', 'T', 'A', 'G', 'G', 'G', 'G', 'C', 'C', 'G', 'G', 'C', 'G', 'G', 'A', 'T', 'A', 'G', 'T', 'T', 'T', 'C', 'A', 'C', 'G', 'T', 'A', 'G', 'C', 'T', 'T', 'A', 'G', 'C', 'C', 'G', 'C', 'A', 'A', 'A', 'T', 'T', 'G', 'T', 'T', 'C', 'T', 'T', 'C', 'G', 'C', 'C', 'C', 'A', 'G', 'T', 'T', 'T', 'C', 'G', 'G', 'A', 'A', 'T', 'G', 'A', 'C', 'C', 'A', 'A', 'G', 'T', 'T', 'T', 'G', 'C', 'T', 'T', 'T', 'G', 'C', 'G', 'G', 'G', 'T', 'G', 'G', 'G', 'C', 'C', 'T', 'C', 'G', 'T', 'T', 'G', 'C', 'G', 'A', 'T', 'C', 'C', 'C', 'C', 'C', 'A', 'C', 'T', 'A', 'T', 'A', 'T', 'C', 'G', 'C', 'G', 'G', 'G', 'T', 'G', 'T', 'A', 'C', 'G', 'C', 'T', 'T', 'C', 'G', 'T', 'A', 'G', 'G', 'A', 'T', 'T', 'G', 'T', 'T', 'G', 'G', 'C', 'G', 'A', 'C', 'T', 'G', 'A', 'T', 'C', 'T', 'C', 'G', 'T', 'G', 'G', 'T', 'G', 'T', 'A', 'G', 'T', 'C', 'A', 'C', 'A', 'A', 'C', 'C', 'C', 'C', 'A', 'C', 'G', 'A', 'A', 'A', 'T', 'T', 'A', 'T', 'A', 'C', 'T', 'A', 'T', 'C', 'A', 'A', 'G', 'T', 'G', 'A', 'A', 'T', 'A', 'C', 'A', 'A', 'C', 'G', 'T', 'C', 'C', 'C', 'C', 'T', 'A', 'A', 'C', 'T', 'C', 'A', 'A', 'C', 'T', 'C', 'G', 'C', 'T', 'T', 'C', 'A', 'G', 'G', 'A', 'T', 'G', 'T', 'C', 'A', 'T', 'G', 'T', 'T', 'C', 'G', 'C', 'G', 'A', 'A', 'T', 'T', 'A', 'G', 'G', 'G', 'T', 'T', 'T', 'A', 'T', 'A', 'A', 'T', 'G', 'G', 'A', 'G', 'C', 'T', 'T', 'T', 'A', 'T', 'A', 'G', 'A', 'A', 'A', 'A', 'C', 'A', 'G', 'T', 'T', 'G', 'G', 'T', 'G', 'G', 'C', 'C', 'T', 'A', 'C', 'A', 'T', 'G', 'T', 'T', 'C', 'C', 'G', 'G', 'A', 'A', 'G', 'T', 'G', 'G', 'T', 'G', 'C', 'A', 'A', 'G', 'C', 'T', 'G', 'T', 'T', 'A', 'G', 'C', 'C', 'G', 'A', 'C', 'T', 'T', 'G', 'T', 'A', 'T', 'T', 'G', 'G', 'A', 'T', 'A', 'C', 'T', 'G', 'C', 'C', 'G', 'T', 'C', 'G', 'T', 'C', 'G', 'A', 'C', 'C', 'A', 'A', 'C', 'A', 'A', 'T', 'A', 'G', 'C', 'A', 'T', 'G', 'A', 'C', 'T', 'A', 'C', 'G', 'T', 'T', 'G', 'T', 'A', 'G', 'A', 'C', 'G', 'A', 'A', 'C', 'T', 'G', 'T', 'T', 'T', 'A', 'G', 'T', 'C', 'C', 'A', 'C', 'C', 'C', 'T', 'T', 'T', 'T', 'G', 'A', 'A', 'G', 'T', 'C', 'A', 'T', 'T', 'G', 'C', 'T', 'T', 'G', 'A', 'A', 'A', 'T', 'A', 'C', 'A', 'G', 'C', 'A', 'T', 'T', 'G', 'G', 'A', 'G', 'T', 'A', 'A', 'G', 'A', 'T', 'G', 'C', 'C', 'A', 'G', 'T', 'T', 'G', 'G', 'G', 'T', 'C', 'C', 'C', 'G', 'G', 'T', 'C', 'T', 'G', 'G', 'G', 'T', 'C', 'G', 'C', 'C', 'C', 'C', 'T', 'G', 'C', 'T', 'T', 'A', 'T', 'A', 'T', 'C', 'T', 'C', 'T', 'C', 'C', 'C', 'G', 'T', 'T', 'A', 'T', 'A', 'T', 'G', 'C', 'A', 'G', 'T', 'A', 'C', 'C', 'T', 'A', 'A', 'C', 'C', 'G', 'C', 'G', 'T', 'C', 'A', 'A', 'G', 'A', 'G', 'G', 'G', 'T', 'C', 'C', 'A', 'G', 'T', 'T', 'C', 'G', 'T', 'G', 'G', 'C', 'A', 'T', 'A', 'T', 'C', 'A', 'C', 'G', 'A', 'T', 'C', 'C', 'C', 'G', 'T', 'G', 'G', 'C', 'G', 'T', 'T', 'C', 'C', 'A', 'T', 'T', 'C', 'C', 'C', 'T', 'A', 'T', 'T', 'G', 'A', 'A', 'G', 'G', 'T', 'G', 'T', 'T', 'A', 'C', 'A', 'A', 'C', 'T', 'A', 'T', 'T', 'G', 'G', 'G', 'A', 'A', 'A', 'T', 'A', 'G', 'A', 'C', 'T', 'T', 'T', 'A', 'C', 'C', 'G', 'A', 'A', 'T', 'A', 'C', 'A', 'C', 'G', 'G', 'A', 'T', 'G', 'T', 'C', 'C', 'T', 'C', 'C', 'A', 'G', 'C', 'G', 'G', 'T', 'A', 'T', 'C', 'G', 'C', 'T', 'T', 'A', 'A', 'C', 'A', 'C', 'G', 'A', 'A', 'C', 'G', 'T', 'A', 'C', 'G', 'T', 'G', 'A', 'C', 'A', 'T', 'C', 'G', 'G', 'A', 'T', 'C', 'T', 'G', 'A', 'A', 'G', 'C', 'A', 'G', 'G', 'G', 'C', 'C', 'C', 'C', 'A', 'C', 'T', 'A', 'C', 'T', 'T', 'G', 'T', 'T', 'T', 'G', 'A', 'G', 'A', 'A', 'C', 'T', 'G', 'G', 'C', 'T', 'G', 'A', 'G', 'G', 'G', 'T', 'C', 'T', 'T', 'A', 'T', 'C', 'G', 'C', 'T', 'G', 'C', 'G', 'A', 'C', 'C', 'C', 'G', 'A', 'A', 'C', 'G', 'C', 'G', 'T', 'G', 'T', 'G', 'C', 'A', 'C', 'G', 'A', 'C', 'T', 'T', 'C', 'T', 'A', 'G', 'G', 'A', 'G', 'C', 'A', 'C', 'A', 'A', 'G', 'G', 'T', 'G', 'A', 'G', 'G', 'C', 'A', 'T', 'G', 'G', 'C', 'A', 'C', 'A', 'G', 'G', 'C', 'C', 'C', 'C', 'G', 'G', 'A', 'T', 'A', 'G', 'C', 'A', 'G', 'T', 'G', 'A', 'G', 'A', 'T', 'C', 'A', 'C', 'C', 'T', 'A', 'G', 'G', 'G', 'C', 'T', 'C', 'T', 'C', 'A', 'A', 'C', 'C', 'C', 'C', 'G', 'T', 'C', 'G', 'C', 'C', 'G', 'G', 'C', 'C', 'A', 'A', 'G', 'C', 'G', 'A', 'C', 'C', 'A', 'C', 'T', 'T', 'A', 'G', 'C', 'C', 'C', 'A', 'C', 'C', 'T', 'T', 'A', 'G', 'T', 'G', 'T', 'C', 'T', 'G', 'C', 'C', 'T', 'T', 'G', 'A', 'G', 'T', 'T', 'T', 'T', 'T', 'A', 'G', 'T', 'T', 'G', 'G', 'G', 'G', 'T', 'A', 'C', 'A', 'T', 'A', 'C', 'G', 'C', 'C', 'C', 'A', 'A', 'G', 'G', 'G', 'C', 'C', 'T', 'A', 'T', 'A', 'T', 'T', 'A', 'G', 'T', 'G', 'G', 'C', 'A', 'C', 'T', 'A', 'T', 'T', 'T', 'C', 'T', 'T', 'G', 'T', 'C', 'C', 'G', 'A', 'T', 'G', 'T', 'C', 'C', 'C', 'T', 'T', 'A', 'A', 'T', 'G', 'C', 'T', 'A', 'G', 'G', 'C', 'C', 'T', 'T', 'A', 'G', 'A', 'C', 'C', 'A', 'T', 'G', 'C', 'G', 'A', 'C', 'C', 'A', 'T', 'A', 'A', 'T', 'G', 'G', 'T', 'T', 'C', 'A', 'C', 'G', 'T', 'C', 'A', 'G', 'C', 'T', 'T', 'A', 'A', 'A', 'C', 'A', 'A', 'T', 'T', 'C', 'A', 'C', 'A', 'G', 'C', 'A', 'C', 'T', 'A', 'G', 'C', 'G', 'T', 'C', 'T', 'C', 'T', 'T', 'C', 'T', 'C', 'C', 'C', 'G', 'C', 'C', 'T', 'A', 'C', 'C', 'A', 'T', 'C', 'G', 'G', 'G', 'A', 'A', 'A', 'A', 'A', 'A', 'G', 'G', 'C', 'T', 'A', 'T', 'T', 'G', 'A', 'T', 'T', 'T', 'A', 'C', 'T', 'T', 'C', 'A', 'G', 'G', 'G', 'A', 'C', 'C', 'C', 'C', 'G', 'A', 'T', 'G', 'C', 'A', 'T', 'C', 'G', 'A', 'C', 'C', 'T', 'A', 'G', 'A', 'T', 'C', 'A', 'G', 'G', 'A', 'A', 'C', 'A', 'G', 'G', 'C', 'T', 'C', 'A', 'G', 'G', 'G', 'G', 'A', 'G', 'T', 'T', 'T', 'A', 'A', 'A', 'T', 'A', 'G', 'A', 'G', 'G', 'T', 'T', 'C', 'G', 'G', 'G', 'T', 'A', 'A', 'C', 'C', 'C', 'G', 'T', 'T', 'C', 'A', 'G', 'G', 'G', 'C', 'A', 'A', 'G', 'C', 'T', 'A', 'A', 'G', 'A', 'A', 'G', 'G', 'G', 'A', 'G', 'T', 'G', 'T', 'G', 'A', 'A', 'G', 'A', 'A', 'G', 'G', 'A', 'C', 'G', 'T', 'C', 'G', 'G', 'T', 'G', 'G', 'T', 'G', 'C', 'G', 'G', 'C', 'T', 'G', 'G', 'A', 'G', 'C', 'A', 'C', 'G', 'T', 'T', 'A', 'C', 'G', 'A', 'T', 'A', 'A', 'A', 'A', 'A', 'A', 'T', 'C', 'C', 'T', 'G', 'C', 'C', 'C', 'A', 'T', 'G', 'A', 'A', 'T', 'C', 'A', 'A', 'A', 'C', 'G', 'T', 'A', 'T', 'A', 'G', 'T', 'C', 'A', 'C', 'T', 'T', 'T', 'G', 'C', 'T', 'T', 'G', 'T', 'T', 'T', 'T', 'C', 'C', 'T', 'G', 'T', 'G', 'C', 'T', 'T', 'G', 'G', 'T', 'C', 'G', 'A', 'A', 'A', 'T', 'T', 'G', 'T', 'A', 'G', 'T', 'A', 'C', 'A', 'G', 'T', 'G', 'G', 'A', 'A', 'A', 'A', 'T', 'G', 'C', 'G', 'G', 'C', 'C', 'G', 'C', 'A', 'G', 'T', 'C', 'G', 'A', 'G', 'G', 'A', 'C', 'T', 'C', 'C', 'C', 'A', 'G', 'T', 'A', 'C', 'C', 'G', 'C', 'G', 'G', 'G', 'C', 'T', 'C', 'C', 'A', 'G', 'C', 'T', 'A', 'T', 'A', 'A', 'C', 'A', 'C', 'A', 'G', 'T', 'T', 'T', 'A', 'T', 'C', 'T', 'A', 'A', 'C', 'T', 'G', 'G', 'G', 'G', 'A', 'C', 'C', 'A', 'A', 'C', 'C', 'A', 'C', 'T', 'C', 'G', 'G', 'G', 'A', 'C', 'G', 'C', 'T', 'T', 'G', 'T', 'G', 'G', 'C', 'G', 'A', 'A', 'A', 'A', 'G', 'C', 'A', 'C', 'C', 'G', 'A', 'A', 'A', 'T', 'G', 'C', 'T', 'G', 'C', 'C', 'G', 'G', 'C', 'C', 'C', 'G', 'G', 'G', 'T', 'G', 'A', 'C', 'G', 'A', 'C', 'C', 'A', 'A', 'C', 'G', 'A', 'T', 'G', 'G', 'C', 'G', 'A', 'G', 'C', 'A', 'G', 'C', 'A', 'C', 'A', 'T', 'C', 'G', 'G', 'C', 'T', 'A', 'A', 'C', 'T', 'C', 'G', 'A', 'A', 'C', 'A', 'T', 'C', 'G', 'C', 'A', 'G', 'G', 'T', 'T', 'C', 'G', 'G', 'A', 'C', 'A', 'G', 'C', 'T', 'G', 'T', 'G', 'G', 'T', 'G', 'T', 'C', 'G', 'T', 'G', 'C', 'G', 'G', 'A', 'G', 'T', 'A', 'T', 'T', 'T', 'A', 'G', 'C', 'G', 'T', 'G', 'C', 'T', 'G', 'A', 'A', 'T', 'G', 'G', 'C', 'T', 'G', 'C', 'C', 'A', 'C', 'A', 'G', 'T', 'G', 'C', 'C', 'C', 'G', 'A', 'C', 'T', 'G', 'C', 'T', 'T', 'A', 'C', 'G', 'C', 'T', 'A', 'T', 'T', 'C', 'G', 'C', 'G', 'G', 'A', 'G', 'T', 'A', 'C', 'A', 'A', 'G', 'C', 'A', 'A', 'C', 'G', 'G', 'G', 'A', 'C', 'A', 'A', 'C', 'C', 'A', 'G', 'A', 'A', 'T', 'T', 'A', 'C', 'A', 'C', 'T', 'A', 'C', 'T', 'T', 'G', 'G', 'T', 'A', 'C', 'G', 'A', 'T', 'A', 'A', 'T', 'C', 'C', 'G', 'A', 'C', 'T', 'G', 'A', 'C', 'T', 'G', 'C', 'T', 'A', 'C', 'G', 'T', 'G', 'G', 'A', 'A', 'A', 'C', 'T', 'G', 'T', 'G', 'T', 'G', 'A', 'T', 'T', 'T', 'C', 'C', 'C', 'G', 'G', 'C', 'A', 'G', 'C', 'A', 'G', 'C', 'C', 'C', 'A', 'T', 'A', 'A', 'G', 'G', 'G', 'C', 'C', 'A', 'G', 'C', 'A', 'C', 'G', 'A', 'T', 'G', 'T', 'T', 'C', 'C', 'G', 'G', 'C', 'C', 'C', 'C', 'G', 'A', 'G', 'T', 'C', 'T', 'T', 'T', 'T', 'C', 'T', 'T', 'C', 'A', 'A', 'C', 'A', 'C', 'T', 'G', 'A', 'T', 'G', 'G', 'C', 'T', 'T', 'G', 'T', 'A', 'A', 'C', 'C', 'T', 'G', 'T', 'C', 'C', 'A', 'C', 'T', 'T', 'T', 'A', 'C', 'A', 'A', 'C', 'G', 'A', 'C', 'C', 'G', 'G', 'T', 'T', 'C', 'T', 'T', 'A', 'T', 'C', 'G', 'C', 'T', 'A', 'A', 'A', 'G', 'C', 'G', 'A', 'C', 'A', 'C', 'C', 'G', 'C', 'C', 'A', 'A', 'G', 'C', 'C', 'C', 'T', 'T', 'T', 'A', 'G', 'G', 'A', 'T', 'T', 'A', 'A', 'C', 'C', 'A', 'G', 'C', 'G', 'T', 'G', 'C', 'T', 'C', 'T', 'C', 'A', 'C', 'G', 'A', 'T', 'T', 'C', 'G', 'G', 'C', 'T', 'A', 'A', 'C', 'G', 'C', 'G', 'A', 'A', 'G', 'G', 'A', 'G', 'A', 'G', 'A', 'A', 'T', 'G', 'A', 'C', 'A', 'G', 'G', 'A', 'C', 'T', 'C', 'C', 'T', 'G', 'G', 'G', 'G', 'C', 'G', 'A', 'A', 'C', 'T', 'A', 'G', 'A', 'T', 'T', 'A', 'G', 'G', 'T', 'T', 'T', 'C', 'G', 'G', 'A', 'T', 'A', 'G', 'A', 'T', 'T', 'A', 'C', 'A', 'G', 'G', 'G', 'T', 'T', 'A', 'T', 'A', 'T', 'C', 'C', 'C', 'G', 'T', 'T', 'G', 'T', 'A', 'A', 'G', 'A', 'T', 'G', 'T', 'G', 'T', 'A', 'G', 'A', 'A', 'G', 'G', 'G', 'T', 'G', 'C', 'G', 'A', 'G', 'C', 'A', 'G', 'C', 'T', 'T', 'G', 'T', 'T', 'G', 'C', 'C', 'A', 'C', 'G', 'G', 'G', 'G', 'C', 'A', 'G', 'C', 'T', 'A', 'T', 'G', 'C', 'T', 'T', 'T', 'C', 'T', 'T', 'A', 'C', 'C', 'C', 'A', 'G', 'A', 'G', 'T', 'C', 'C', 'A', 'G', 'T', 'C', 'T', 'A', 'C', 'A', 'G', 'A', 'C', 'C', 'G', 'G', 'G', 'A', 'C', 'C', 'A', 'T', 'G', 'G', 'A', 'G', 'C', 'C', 'G', 'T', 'T', 'T', 'A', 'G', 'T', 'C', 'C', 'G', 'T', 'T', 'G', 'G', 'T', 'G', 'C', 'A', 'C', 'T', 'G', 'A', 'A', 'G', 'T', 'C', 'C', 'T', 'G', 'G', 'G', 'A', 'T', 'C', 'G', 'C', 'A', 'C', 'A', 'T', 'A', 'G', 'A', 'T', 'C', 'C', 'A', 'G', 'A', 'T', 'C', 'A', 'T', 'A', 'G', 'G', 'C', 'C', 'T', 'A', 'T', 'C', 'T', 'A', 'C', 'C', 'C', 'G', 'G', 'T', 'A', 'G', 'A', 'T', 'T', 'A', 'G', 'G', 'T', 'C', 'G', 'T', 'A', 'C', 'T', 'G', 'C', 'T', 'A', 'A', 'C', 'G', 'A', 'T', 'C', 'T', 'A', 'G', 'T', 'C', 'T', 'T', 'G', 'T', 'C', 'A', 'G', 'A', 'T', 'G', 'A', 'G', 'T', 'T', 'C', 'T', 'C', 'A', 'C', 'A', 'G', 'T', 'C', 'G', 'G', 'G', 'A', 'A', 'T', 'G', 'G', 'A', 'C', 'T', 'A', 'G', 'C', 'T', 'A', 'C', 'A', 'A', 'C', 'C', 'C', 'A', 'G', 'A', 'A', 'C', 'T', 'G', 'C', 'C', 'A', 'T', 'G', 'C', 'C', 'T', 'A', 'G', 'G', 'G', 'G', 'A', 'A', 'T', 'A', 'G', 'T', 'C', 'C', 'C', 'A', 'A', 'C', 'T', 'C', 'A', 'C', 'G', 'A', 'T', 'C', 'A', 'G', 'C', 'G', 'C', 'C', 'G', 'C', 'C', 'C', 'G', 'T', 'C', 'T', 'T', 'T', 'G', 'A', 'C', 'A', 'C', 'G', 'T', 'G', 'C', 'G', 'A', 'G', 'G', 'A', 'C', 'C', 'T', 'G', 'A', 'C', 'G', 'G', 'T', 'T', 'T', 'C', 'A', 'C', 'G', 'G', 'T', 'G', 'A', 'G', 'T', 'G', 'A', 'A', 'A', 'T', 'C', 'G', 'T', 'A', 'G', 'G', 'A', 'G', 'T', 'C', 'A', 'G', 'C', 'T', 'T', 'C', 'T', 'A', 'T', 'A', 'C', 'C', 'A', 'T', 'T', 'A', 'A', 'A', 'C', 'T', 'C', 'C', 'A', 'T', 'T', 'A', 'A', 'G', 'A', 'G', 'T', 'G', 'T', 'G', 'T', 'G', 'C', 'G', 'C', 'A', 'C', 'A', 'G', 'T', 'T', 'A', 'A', 'C', 'G', 'A', 'G', 'A', 'G', 'T', 'C', 'G', 'A', 'C', 'C', 'G', 'A', 'G', 'G', 'G', 'C', 'T', 'C', 'T', 'T', 'T', 'C', 'C', 'T', 'A', 'A', 'T', 'G', 'C', 'A', 'T', 'T', 'G', 'A', 'T', 'C', 'G', 'T', 'G', 'T', 'C', 'A', 'G', 'T', 'C', 'A', 'T', 'A', 'C', 'C', 'T', 'C', 'T', 'A', 'A', 'C', 'A', 'T', 'T', 'T', 'T', 'C', 'T', 'T', 'G', 'A', 'C', 'T', 'G', 'T', 'G', 'A', 'T', 'C', 'T', 'G', 'C', 'A', 'G', 'A', 'A', 'A', 'G', 'G', 'A', 'C', 'G', 'G', 'A', 'C', 'G', 'T', 'G', 'C', 'A', 'A', 'A', 'C', 'C', 'G', 'G', 'T', 'T', 'C', 'G', 'T', 'T', 'T', 'A', 'C', 'A', 'A', 'C', 'C', 'T', 'G', 'C', 'T', 'C', 'T', 'G', 'A', 'G', 'G', 'G', 'T', 'T', 'T', 'C', 'G', 'C', 'G', 'C', 'T', 'A', 'G', 'G', 'G', 'G', 'A', 'G', 'C', 'C', 'T', 'G', 'A', 'G', 'A', 'G', 'T', 'C', 'G', 'A', 'T', 'T', 'T', 'G', 'A', 'T', 'C', 'A', 'T', 'T', 'G', 'C', 'A', 'C', 'C', 'A', 'C', 'A', 'G', 'A', 'C', 'C', 'C', 'A', 'C', 'A', 'G', 'G', 'C', 'G', 'A', 'T', 'T', 'C', 'T', 'G', 'G', 'C', 'T', 'A', 'A', 'T', 'G', 'C', 'C', 'A', 'T', 'C', 'C', 'A', 'T', 'T', 'A', 'C', 'C', 'G', 'T', 'T', 'T', 'G', 'A', 'A', 'T', 'G', 'A', 'T', 'T', 'T', 'G', 'G', 'T', 'C', 'A', 'T', 'G', 'A', 'C', 'G', 'T', 'A', 'A', 'G', 'A', 'C', 'T', 'G', 'C', 'C', 'C', 'C', 'A', 'A', 'G', 'C', 'T', 'G', 'C', 'C', 'A', 'G', 'A', 'T', 'A', 'G', 'C', 'A', 'A', 'C', 'T', 'C', 'A', 'C', 'G', 'G', 'G', 'G', 'C', 'G', 'C', 'G', 'C', 'C', 'G', 'A', 'A', 'T', 'C', 'A', 'T', 'A', 'A', 'C', 'G', 'A', 'A', 'C', 'G', 'C', 'G', 'C', 'A', 'C', 'A', 'T', 'T', 'A', 'T', 'C', 'C', 'G', 'T', 'T', 'T', 'C', 'G', 'A', 'G', 'T', 'A', 'T', 'A', 'A', 'A', 'A', 'T', 'G', 'G', 'G', 'G', 'T', 'G', 'G', 'C', 'G', 'A', 'A', 'T', 'G', 'G', 'G', 'T', 'C', 'C', 'C', 'C', 'A', 'A', 'T', 'A', 'G', 'A', 'G', 'A', 'G', 'C', 'C', 'T', 'C', 'T', 'T', 'G', 'A', 'A', 'T', 'T', 'C', 'A', 'C', 'T', 'C', 'A', 'G', 'T', 'T', 'C', 'G', 'T', 'G', 'A', 'A', 'T', 'C', 'A', 'C', 'C', 'C', 'T', 'A', 'C', 'T', 'T', 'C', 'T', 'G', 'C', 'G', 'C', 'C', 'C', 'A', 'T', 'C', 'A', 'A', 'A', 'C', 'C', 'A', 'G', 'C', 'G', 'A', 'T', 'C', 'A', 'C', 'A', 'A', 'C', 'G', 'C', 'A', 'G', 'G', 'C', 'C', 'T', 'G', 'A', 'T', 'T', 'T', 'A', 'C', 'C', 'C', 'G', 'A', 'C', 'G', 'C', 'T', 'T', 'A', 'G', 'A', 'A', 'C', 'A', 'C', 'G', 'A', 'C', 'A', 'G', 'T', 'T', 'G', 'A', 'C', 'A', 'G', 'A', 'G', 'G', 'C', 'C', 'C', 'G', 'T', 'A', 'G', 'A', 'A', 'T', 'A', 'G', 'T', 'A', 'A', 'G', 'A', 'T', 'T', 'A', 'C', 'A', 'A', 'A', 'T', 'A', 'A', 'T', 'T', 'T', 'A', 'A', 'T', 'C', 'G', 'T', 'G', 'C', 'G', 'C', 'A', 'T', 'G', 'T', 'T', 'A', 'A', 'G', 'A', 'A', 'C', 'C', 'T', 'T', 'T', 'C', 'C', 'C', 'C', 'C', 'T', 'C', 'C', 'G', 'G', 'C', 'G', 'T', 'A', 'T', 'G', 'A', 'C', 'G', 'A', 'G', 'T', 'C', 'A', 'A', 'A', 'T', 'G', 'G', 'C', 'A', 'G', 'G', 'A', 'A', 'C', 'C', 'A', 'C', 'A', 'T', 'G', 'A', 'C', 'A', 'T', 'G', 'T', 'A', 'T', 'G', 'A', 'A', 'C', 'C', 'A', 'C', 'G', 'G', 'T', 'A', 'C', 'C', 'T', 'T', 'C', 'G', 'G', 'G', 'T', 'C', 'C', 'C', 'C', 'T', 'C', 'T', 'C', 'G', 'C', 'T', 'T', 'G', 'T', 'G', 'G', 'A', 'T', 'G', 'A', 'A', 'G', 'A', 'A', 'A', 'C', 'T', 'A', 'T', 'C', 'T', 'A', 'G', 'G', 'C', 'G', 'T', 'A', 'A', 'G', 'G', 'G', 'G', 'T', 'T', 'C', 'T', 'A', 'T', 'A', 'G', 'A', 'C', 'C', 'A', 'G', 'A', 'A', 'T', 'A', 'C', 'C', 'G', 'T', 'T', 'T', 'T', 'C', 'A', 'A', 'G', 'G', 'A', 'A', 'C', 'C', 'T', 'T', 'G', 'A', 'T', 'G', 'A', 'T', 'T', 'G', 'A', 'A', 'G', 'G', 'C', 'C', 'A', 'T', 'G', 'T', 'C', 'G', 'A', 'A', 'T', 'T', 'A', 'T', 'C', 'T', 'A', 'G', 'A', 'G', 'A', 'G', 'T', 'T', 'G', 'T', 'C', 'G', 'A', 'T', 'G', 'C', 'A', 'G', 'T', 'A', 'T', 'C', 'T', 'T', 'G', 'T', 'C', 'T', 'A', 'C', 'G', 'C', 'A', 'T', 'A', 'T', 'C', 'A', 'C', 'C', 'C', 'G', 'T', 'A', 'C', 'T', 'C', 'T', 'A', 'A', 'A', 'G', 'T', 'A', 'A', 'A', 'C', 'A', 'G', 'T', 'T', 'A', 'A', 'A', 'G', 'T', 'G', 'T', 'A', 'T', 'A', 'G', 'C', 'T', 'A', 'G', 'G', 'A', 'T', 'C', 'T', 'C', 'C', 'T', 'G', 'A', 'A', 'C', 'A', 'G', 'A', 'T', 'G', 'G', 'G', 'A', 'C', 'G', 'T', 'G', 'T', 'A', 'G', 'T', 'T', 'G', 'T', 'T', 'C', 'T', 'C', 'C', 'A', 'A', 'G', 'T', 'A', 'G', 'A', 'G', 'T', 'T', 'G', 'A', 'T', 'C', 'C', 'A', 'G', 'C', 'G', 'A', 'T', 'T', 'C', 'T', 'G', 'C', 'A', 'C', 'T', 'T', 'G', 'C', 'C', 'T', 'G', 'T', 'A', 'T', 'T', 'C', 'C', 'A', 'C', 'G', 'G', 'C', 'T', 'G', 'G', 'C', 'C', 'G', 'G', 'T', 'T', 'G', 'A', 'C', 'C', 'C', 'G', 'A', 'G', 'A', 'C', 'G', 'A', 'T', 'C', 'A', 'A', 'T', 'G', 'A', 'C', 'A', 'C', 'C', 'A', 'T', 'T', 'C', 'A', 'T', 'G', 'C', 'G', 'T', 'G', 'T', 'C', 'C', 'G', 'G', 'G', 'G', 'A', 'G', 'C', 'T', 'T', 'T', 'A', 'C', 'G', 'A', 'G', 'C', 'G', 'A', 'A', 'C', 'A', 'A', 'T', 'T', 'G', 'T', 'A', 'C', 'C', 'C', 'G', 'G', 'G', 'C', 'G', 'C', 'A', 'G', 'T', 'G', 'C', 'A', 'G', 'C', 'C', 'G', 'T', 'A', 'T', 'G', 'C', 'A', 'A', 'C', 'C', 'T', 'G', 'C', 'C', 'C', 'T', 'A', 'C', 'C', 'T', 'T', 'C', 'C', 'A', 'T', 'T', 'G', 'G', 'T', 'G', 'G', 'C', 'T', 'C', 'T', 'A', 'A', 'A', 'T', 'C', 'C', 'G', 'T', 'T', 'A', 'T', 'C', 'A', 'T', 'T', 'C', 'C', 'C', 'A', 'G', 'C', 'C', 'T', 'T', 'G', 'G', 'T', 'A', 'T', 'G', 'C', 'A', 'G', 'T', 'T', 'C', 'C', 'C', 'G', 'A', 'C', 'G', 'G', 'T', 'A', 'A', 'T', 'T', 'A', 'A', 'T', 'A', 'C', 'C', 'G', 'T', 'G', 'G', 'C', 'T', 'G', 'T', 'T', 'T', 'A', 'T', 'G', 'A', 'G', 'G', 'A', 'C', 'T', 'T', 'T', 'A', 'A', 'G', 'G', 'C', 'C', 'C', 'A', 'T', 'A', 'C', 'C', 'G', 'T', 'T', 'G', 'G', 'C', 'C', 'G', 'G', 'C', 'C', 'A', 'T', 'G', 'T', 'T', 'A', 'A', 'C', 'A', 'A', 'T', 'G', 'C', 'T', 'C', 'C', 'A', 'C', 'G', 'A', 'G', 'A', 'A', 'A', 'G', 'A', 'A', 'G', 'C', 'A', 'T', 'G', 'A', 'G', 'G', 'C', 'A', 'A', 'T', 'T', 'A', 'A', 'T', 'G', 'C', 'G', 'A', 'G', 'G', 'C', 'C', 'C', 'T', 'T', 'T', 'G', 'G', 'C', 'T', 'G', 'C', 'A', 'C', 'C', 'C', 'G', 'A', 'A', 'G', 'A', 'T', 'A', 'G', 'G', 'T', 'T', 'C', 'T', 'G', 'C', 'G', 'A', 'T', 'C', 'A', 'A', 'A', 'A', 'C', 'T', 'G', 'G', 'A', 'T', 'C', 'A', 'T', 'A', 'T', 'C', 'T', 'T', 'G', 'A', 'G', 'A', 'A', 'C', 'C', 'A', 'T', 'T', 'T', 'G', 'G', 'C', 'A', 'G', 'T', 'T', 'C', 'A', 'A', 'A', 'T', 'C', 'A', 'A', 'G', 'G', 'C', 'G', 'G', 'A', 'C', 'T', 'T', 'T', 'G', 'C', 'G', 'C', 'T', 'C', 'C', 'C', 'G', 'T', 'T', 'A', 'G', 'T', 'A', 'A', 'G', 'A', 'A', 'G', 'C', 'T', 'A', 'G', 'A', 'A', 'A', 'T', 'T', 'T', 'T', 'G', 'T', 'G', 'A', 'A', 'C', 'G', 'A', 'C', 'G', 'C', 'T', 'T', 'T', 'G', 'A', 'A', 'C', 'A', 'T', 'A', 'C', 'C', 'A', 'C', 'G', 'C', 'T', 'C', 'G', 'C', 'A', 'A', 'T', 'G', 'A', 'A', 'T', 'T', 'C', 'C', 'G', 'T', 'C', 'C', 'C', 'C', 'A', 'G', 'G', 'C', 'A', 'A', 'G', 'G', 'A', 'T', 'T', 'A', 'A', 'T', 'T', 'T', 'A', 'C', 'G', 'G', 'C', 'A', 'C', 'T', 'A', 'G', 'G', 'C', 'A', 'A', 'A', 'G', 'C', 'T', 'A', 'A', 'T', 'G', 'C', 'G', 'T', 'G', 'A', 'A', 'A', 'A', 'G', 'A', 'T', 'C', 'A', 'A', 'A', 'T', 'A', 'A', 'A', 'G', 'C', 'T', 'A', 'A', 'A', 'T', 'T', 'A', 'C', 'T', 'C', 'G', 'C', 'A', 'T', 'T', 'C', 'A', 'T', 'C', 'G', 'C', 'C', 'A', 'T', 'G', 'A', 'A', 'G', 'A', 'T', 'C', 'C', 'C', 'T', 'A', 'C', 'G', 'A', 'A', 'G', 'G', 'C', 'A', 'T', 'T', 'A', 'G', 'T', 'C', 'T', 'C', 'A', 'C', 'C', 'A', 'A', 'T', 'G', 'T', 'G', 'G', 'G', 'G', 'T', 'A', 'T', 'A', 'C', 'T', 'G', 'C', 'A', 'G', 'A', 'C', 'T', 'G', 'G', 'G', 'C', 'A', 'T', 'C', 'A', 'T', 'C', 'G', 'C', 'C', 'T', 'T', 'T', 'G', 'G', 'A', 'A', 'A', 'C', 'C', 'G', 'G', 'T', 'A', 'C', 'T', 'G', 'T', 'T', 'C', 'T', 'C', 'T', 'C', 'C', 'A', 'T', 'C', 'C', 'G', 'T', 'G', 'G', 'C', 'C', 'G', 'T', 'G', 'G', 'T', 'T', 'T', 'G', 'A', 'A', 'G', 'G', 'A', 'A', 'T', 'C', 'G', 'G', 'C', 'T', 'G', 'G', 'G', 'G', 'C', 'A', 'A', 'T', 'T', 'C', 'G', 'G', 'A', 'A', 'G', 'T', 'G', 'A', 'G', 'C', 'A', 'C', 'G', 'A', 'C', 'C', 'G', 'A', 'T', 'T', 'A', 'G', 'A', 'G', 'T', 'C', 'G', 'A', 'T', 'G', 'G', 'A', 'A', 'C', 'G', 'G', 'T', 'T', 'T', 'T', 'G', 'T', 'T', 'T', 'A', 'A', 'T', 'A', 'C', 'G', 'A', 'T', 'T', 'T', 'A', 'G', 'T', 'T', 'A', 'T', 'G', 'T', 'G', 'A', 'G', 'G', 'C', 'G', 'A', 'T', 'G', 'C', 'A', 'G', 'T', 'G', 'A', 'T', 'T', 'G', 'A', 'G', 'T', 'C', 'C', 'C', 'C', 'A', 'A', 'A', 'G', 'A', 'C', 'A', 'T', 'C', 'T', 'G', 'T', 'T', 'A', 'C', 'A', 'C', 'C', 'T', 'T', 'A', 'A', 'T', 'A', 'C', 'C', 'T', 'C', 'A', 'C', 'T', 'A', 'A', 'A', 'A', 'A', 'T', 'C', 'G', 'C', 'C', 'T', 'G', 'A', 'T', 'A', 'T', 'T', 'C', 'G', 'T', 'A', 'C', 'G', 'C', 'C', 'T', 'C', 'T', 'C', 'G', 'T', 'A', 'G', 'G', 'A', 'A', 'T', 'T', 'A', 'G', 'G', 'A', 'G', 'A', 'T', 'A', 'C', 'C', 'A', 'C', 'T', 'T', 'C', 'A', 'C', 'A', 'G', 'T', 'A', 'G', 'C', 'G', 'G', 'A', 'T', 'C', 'T', 'T', 'G', 'A', 'G', 'C', 'A', 'C', 'G', 'C', 'C', 'G', 'G', 'G', 'C', 'T', 'A', 'G', 'G', 'C', 'A', 'T', 'A', 'A', 'G', 'T', 'A', 'G', 'A', 'A', 'T', 'T', 'C', 'C', 'A', 'G', 'C', 'C', 'C', 'G', 'A', 'A', 'C', 'A', 'A', 'A', 'A', 'G', 'G', 'T', 'C', 'A', 'T', 'T', 'A', 'C', 'T', 'A', 'C', 'C', 'C', 'T', 'T', 'A', 'C', 'G', 'G', 'A', 'G', 'G', 'C', 'C', 'A', 'A', 'T', 'T', 'C', 'C', 'A', 'A', 'G', 'T', 'G', 'G', 'A', 'T', 'T', 'G', 'T', 'A', 'C', 'C', 'C', 'A', 'G', 'A', 'A', 'A', 'C', 'G', 'C', 'G', 'T', 'G', 'T', 'G', 'C', 'C', 'T', 'G', 'C', 'T', 'A', 'A', 'A', 'C', 'G', 'T', 'C', 'A', 'A', 'T', 'G', 'T', 'A', 'C', 'T', 'C', 'G', 'A', 'G', 'T', 'G', 'A', 'G', 'T', 'A', 'A', 'T', 'G', 'T', 'A', 'C', 'C', 'C', 'G', 'T', 'G', 'G', 'C', 'T', 'C', 'C', 'A', 'G', 'C', 'T', 'C', 'G', 'A', 'T', 'C', 'T', 'A', 'C', 'C', 'C', 'A', 'A', 'C', 'T', 'T', 'G', 'G', 'A', 'T', 'G', 'G', 'A', 'T', 'G', 'G', 'A', 'T', 'A', 'G', 'T', 'G', 'G', 'A', 'G', 'C', 'A', 'G', 'C', 'T', 'A', 'A', 'C', 'C', 'G', 'A', 'G', 'G', 'A', 'T', 'G', 'G', 'T', 'G', 'A', 'A', 'C', 'T', 'T', 'T', 'C', 'C', 'A', 'C', 'T', 'T', 'T', 'A', 'C', 'A', 'G', 'T', 'T', 'C', 'C', 'T', 'T', 'G', 'G', 'G', 'T', 'G', 'C', 'T', 'G', 'T', 'A', 'G', 'T', 'C', 'G', 'T', 'T', 'T', 'T', 'C', 'C', 'C', 'C', 'A', 'A', 'C', 'T', 'T', 'A', 'C', 'A', 'A', 'G', 'A', 'T', 'G', 'C', 'A', 'T', 'A', 'G', 'T', 'G', 'C', 'C', 'G', 'T', 'T', 'T', 'A', 'G', 'A', 'T', 'T', 'A', 'T', 'T', 'T', 'C', 'T', 'A', 'G', 'G', 'A', 'C', 'A', 'A', 'A', 'G', 'G', 'C', 'G', 'C', 'A', 'C', 'A', 'T', 'G', 'A', 'T', 'C', 'A', 'G', 'C', 'T', 'A', 'G', 'G', 'G', 'A', 'T', 'T', 'C', 'C', 'G', 'G', 'C', 'T', 'T', 'A', 'C', 'A', 'A', 'A', 'T', 'A', 'G', 'G', 'C', 'A', 'C', 'C', 'A', 'A', 'G', 'A', 'C', 'G', 'G', 'T', 'G', 'A', 'C', 'T', 'G', 'C', 'C', 'G', 'G', 'A', 'T', 'A', 'T', 'C', 'G', 'T', 'C', 'C', 'T', 'A', 'T', 'G', 'G', 'T', 'G', 'T', 'G', 'A', 'T', 'C', 'T', 'G', 'T', 'G', 'C', 'C', 'T', 'T', 'A', 'T', 'C', 'T', 'A', 'A', 'A', 'C', 'C', 'T', 'C', 'T', 'A', 'T', 'C', 'G', 'C', 'A', 'C', 'C', 'A', 'G', 'T', 'C', 'G', 'A', 'T', 'C', 'G', 'A', 'G', 'G', 'G', 'G', 'G', 'C', 'A', 'A', 'T', 'T', 'C', 'C', 'C', 'T', 'T', 'A', 'C', 'A', 'T', 'T', 'C', 'T', 'A', 'G', 'C', 'T', 'A', 'T', 'A', 'T', 'C', 'T', 'C', 'A', 'G', 'C', 'G', 'A', 'C', 'A', 'C', 'G', 'C', 'G', 'A', 'G', 'T', 'G', 'C', 'C', 'G', 'G', 'C', 'A', 'T', 'T', 'T', 'G', 'G', 'T', 'G', 'C', 'C', 'T', 'A', 'A', 'T', 'G', 'C', 'C', 'T', 'G', 'C', 'G', 'T', 'A', 'G', 'G', 'C', 'A', 'G', 'T', 'C', 'A', 'A', 'T', 'G', 'A', 'A', 'A', 'C', 'C', 'A', 'T', 'A', 'G', 'T', 'G', 'G', 'G', 'T', 'A', 'A', 'G', 'G', 'A', 'A', 'G', 'G', 'T', 'G', 'C', 'G', 'C', 'A', 'C', 'C', 'G', 'A', 'G', 'G', 'T', 'T', 'C', 'C', 'A', 'C', 'C', 'A', 'C', 'C', 'T', 'A', 'C', 'T', 'C', 'G', 'A', 'A', 'T', 'C', 'C', 'T', 'G', 'T', 'T', 'A', 'T', 'A', 'A', 'C', 'G', 'C', 'A', 'C', 'T', 'C', 'C', 'T', 'G', 'G', 'T', 'G', 'G', 'T', 'C', 'A', 'G', 'A', 'A', 'C', 'C', 'C', 'G', 'A', 'T', 'G', 'C', 'T', 'T', 'T', 'C', 'C', 'C', 'C', 'G', 'A', 'C', 'G', 'C', 'T', 'A', 'A', 'G', 'T', 'G', 'T', 'C', 'T', 'T', 'G', 'C', 'G', 'C', 'C', 'C', 'C', 'G', 'T', 'T', 'G', 'A', 'A', 'T', 'A', 'C', 'T', 'A', 'A', 'T', 'A', 'T', 'T', 'T', 'T', 'C', 'T', 'T', 'T', 'G', 'G', 'A', 'T', 'C', 'T', 'G', 'T', 'A', 'G', 'C', 'C', 'A', 'T', 'A', 'C', 'C', 'T', 'C', 'T', 'T', 'G', 'T', 'G', 'C', 'G', 'C', 'G', 'C', 'A', 'G', 'G', 'G', 'C', 'G', 'G', 'T', 'A', 'A', 'C', 'C', 'T', 'T', 'T', 'G', 'G', 'A', 'T', 'G', 'A', 'T', 'A', 'A', 'C', 'A', 'G', 'T', 'A', 'T', 'G', 'A', 'A', 'C', 'G', 'G', 'C', 'T', 'T', 'G', 'G', 'G', 'G', 'A', 'A', 'T', 'C', 'A', 'G', 'C', 'G', 'T', 'G', 'C', 'A', 'G', 'T', 'G', 'G', 'A', 'C', 'G', 'C', 'C', 'C', 'T', 'T', 'G', 'A', 'A', 'T', 'T', 'A', 'C', 'C', 'T', 'T', 'G', 'A', 'A', 'T', 'T', 'A', 'A', 'C', 'T', 'C', 'T', 'A', 'C', 'T', 'G', 'G', 'A', 'G', 'A', 'T', 'G', 'G', 'G', 'A', 'A', 'G', 'G', 'C', 'T', 'A', 'C', 'T', 'A', 'T', 'C', 'T', 'A', 'T', 'C', 'C', 'A', 'T', 'T', 'A', 'T', 'C', 'G', 'A', 'A', 'A', 'A', 'G', 'A', 'T', 'G', 'A', 'T', 'G', 'A', 'G', 'C', 'A', 'T', 'T', 'T', 'T', 'C', 'C', 'G', 'G', 'A', 'C', 'C', 'C', 'C', 'A', 'G', 'T', 'G', 'C', 'G', 'A', 'C', 'C', 'G', 'C', 'A', 'T', 'T', 'C', 'G', 'T', 'G', 'T', 'G', 'G', 'C', 'T', 'C', 'C', 'T', 'T', 'A', 'G', 'T', 'A', 'C', 'A', 'G', 'G', 'A', 'T', 'A', 'C', 'G', 'A', 'T', 'C', 'G', 'A', 'T', 'A', 'C', 'A', 'C', 'A', 'G', 'G', 'C', 'C', 'G', 'T', 'G', 'C', 'G', 'A', 'A', 'G', 'C', 'C', 'C', 'T', 'A', 'C', 'C', 'A', 'T', 'A', 'G', 'T', 'G', 'T', 'T', 'T', 'C', 'A', 'T', 'C', 'G', 'T', 'C', 'A', 'T', 'G', 'C', 'A', 'T', 'G', 'C', 'T', 'G', 'C', 'C', 'T', 'C', 'T', 'C', 'A', 'T', 'T', 'T', 'G', 'T', 'G', 'C', 'G', 'C', 'G', 'C', 'C', 'C', 'C', 'C', 'G', 'A', 'C', 'A', 'C', 'T', 'T', 'C', 'C', 'C', 'A', 'G', 'G', 'C', 'G', 'A', 'G', 'A', 'G', 'T', 'G', 'C', 'A', 'C', 'A', 'A', 'C', 'T', 'C', 'A', 'G', 'C', 'C', 'A', 'C', 'T', 'A', 'C', 'C', 'C', 'G', 'G', 'T', 'G', 'A', 'A', 'G', 'C', 'G', 'C', 'A', 'T', 'G', 'A', 'T', 'T', 'T', 'G', 'A', 'A', 'T', 'T', 'C', 'G', 'A', 'A', 'G', 'A', 'A', 'G', 'T', 'C', 'G', 'G', 'C', 'G', 'C', 'T', 'C', 'A', 'C', 'C', 'A', 'G', 'T', 'G', 'G', 'A', 'C', 'A', 'G', 'G', 'A', 'C', 'T', 'C', 'T', 'C', 'C', 'C', 'T', 'C', 'C', 'T', 'T', 'G', 'C', 'G', 'T', 'A', 'A', 'A', 'C', 'C', 'C', 'T', 'A', 'A', 'G', 'A', 'T', 'C', 'T', 'A', 'C', 'A', 'A', 'C', 'C', 'C', 'T', 'A', 'A', 'A', 'T', 'A', 'C', 'A', 'A', 'G', 'G', 'T', 'C', 'C', 'T', 'C', 'T', 'A', 'G', 'A', 'G', 'G', 'A', 'G', 'T', 'A', 'A', 'C', 'C', 'G', 'G', 'T', 'T', 'A', 'A', 'C', 'A', 'T', 'C', 'G', 'G', 'G', 'T', 'T', 'G', 'C', 'A', 'A', 'A', 'A', 'T', 'C', 'A', 'C', 'C', 'A', 'C', 'G', 'C', 'C', 'T', 'C', 'T', 'G', 'C', 'C', 'G', 'T', 'C', 'C', 'T', 'C', 'G', 'A', 'A', 'G', 'C', 'G', 'A', 'G', 'C', 'A', 'T', 'G', 'A', 'G', 'T', 'T', 'C', 'G', 'C', 'G', 'G', 'C', 'A', 'C', 'T', 'C', 'C', 'C', 'A', 'G', 'G', 'C', 'C', 'G', 'A', 'T', 'A', 'T', 'C', 'T', 'C', 'T', 'A', 'T', 'A', 'G', 'G', 'G', 'C', 'C', 'T', 'A', 'G', 'G', 'T', 'A', 'C', 'G', 'A', 'G', 'A', 'T', 'G', 'T', 'C', 'A', 'G', 'C', 'C', 'T', 'C', 'G', 'G', 'T', 'C', 'C', 'T', 'A', 'C', 'T', 'A', 'A', 'A', 'T', 'A', 'G', 'C', 'G', 'A', 'G', 'G', 'C', 'G', 'T', 'G', 'T', 'A', 'T', 'T', 'T', 'T', 'A', 'G', 'T', 'T', 'A', 'T', 'T', 'A', 'G', 'T', 'C', 'G', 'G', 'A', 'G', 'T', 'G', 'G', 'G', 'T', 'A', 'C', 'C', 'C', 'T', 'A', 'T', 'T', 'C', 'A', 'T', 'A', 'G', 'G', 'C', 'A', 'A', 'T', 'G', 'T', 'A', 'A', 'T', 'T', 'C', 'T', 'A', 'T', 'C', 'C', 'T', 'G', 'T', 'A', 'A', 'A', 'A', 'G', 'T', 'A', 'G', 'G', 'T', 'T', 'A', 'T', 'A', 'A', 'A', 'A', 'A', 'A', 'G', 'A', 'T', 'G', 'C', 'C', 'A', 'C', 'G', 'G', 'A', 'T', 'A', 'C', 'G', 'A', 'T', 'G', 'G', 'T', 'T', 'C', 'C', 'C', 'C', 'T', 'T', 'G', 'A', 'G', 'A', 'G', 'A', 'A', 'G', 'T', 'C', 'C', 'A', 'T', 'C', 'G', 'C', 'T', 'G', 'G', 'T', 'T', 'C', 'G', 'C', 'C', 'T', 'G', 'A', 'G', 'C', 'A', 'C', 'T', 'T', 'T', 'G', 'C', 'T', 'C', 'A', 'A', 'G', 'A', 'G', 'G', 'C', 'C', 'T', 'G', 'G', 'G', 'T', 'T', 'A', 'T', 'G', 'T', 'T', 'T', 'C', 'A', 'G', 'G', 'T', 'C', 'T', 'C', 'A', 'C', 'G', 'G', 'A', 'C', 'A', 'G', 'G', 'C', 'G', 'A', 'C', 'C', 'T', 'C', 'A', 'A', 'A', 'T', 'T', 'T', 'C', 'A', 'G', 'C', 'T', 'C', 'T', 'A', 'A', 'A', 'C', 'A', 'C', 'C', 'A', 'A', 'A', 'T', 'A', 'G', 'T', 'C', 'A', 'A', 'C', 'G', 'C', 'T', 'G', 'C', 'T', 'T', 'G', 'T', 'C', 'C', 'C', 'A', 'A', 'C', 'T', 'G', 'C', 'G', 'T', 'G', 'C', 'C', 'T', 'G', 'A', 'G', 'C', 'C', 'G', 'C', 'T', 'T', 'A', 'T', 'G', 'A', 'A', 'A', 'T', 'T', 'G', 'G', 'T', 'C', 'C', 'T', 'C', 'G', 'T', 'G', 'T', 'T', 'A', 'A', 'C', 'T', 'C', 'C', 'G', 'A', 'A', 'C', 'A', 'G', 'C', 'T', 'C', 'C', 'G', 'G', 'G', 'C', 'C', 'C', 'G', 'G', 'G', 'A', 'G', 'C', 'C', 'C', 'A', 'G', 'A', 'C', 'A', 'A', 'A', 'T', 'C', 'G', 'A', 'C', 'T', 'G', 'C', 'G', 'T', 'C', 'A', 'G', 'G', 'T', 'G', 'G', 'T', 'C', 'T', 'A', 'G', 'A', 'A', 'G', 'G', 'A', 'G', 'A', 'T', 'A', 'A', 'G', 'T', 'A', 'T', 'G', 'G', 'A', 'C', 'G', 'A', 'G', 'G', 'C', 'C', 'C', 'G', 'G', 'C', 'G', 'T', 'C', 'T', 'G', 'C', 'C', 'A', 'C', 'A', 'G', 'C', 'G', 'C', 'G', 'C', 'T', 'A', 'T', 'A', 'G', 'C', 'A', 'G', 'C', 'G', 'T', 'G', 'C', 'C', 'G', 'T', 'G', 'C', 'G', 'G', 'G', 'A', 'A', 'G', 'C', 'G', 'T', 'A', 'A', 'A', 'C', 'G', 'A', 'G', 'A', 'T', 'T', 'G', 'T', 'C', 'T', 'C', 'G', 'G', 'A', 'T', 'G', 'C', 'T', 'G', 'A', 'C', 'C', 'T', 'T', 'C', 'G', 'C', 'C', 'G', 'G', 'G', 'C', 'C', 'C', 'T', 'T', 'A', 'A', 'T', 'T', 'T', 'C', 'A', 'G', 'G', 'G', 'G', 'C', 'G', 'G', 'A', 'G', 'A', 'G', 'A', 'T', 'A', 'G', 'G', 'A', 'G', 'C', 'C', 'G', 'T', 'C', 'G', 'T', 'A', 'A', 'A', 'A', 'G', 'C', 'G', 'T', 'T', 'G', 'G', 'C', 'A', 'T', 'G', 'C', 'C', 'T', 'A', 'T', 'T', 'C', 'T', 'A', 'C', 'A', 'T', 'G', 'C', 'A', 'T', 'T', 'A', 'A', 'A', 'C', 'T', 'A', 'C', 'A', 'A', 'A', 'C', 'G', 'A', 'A', 'A', 'T', 'A', 'T', 'G', 'G', 'C', 'G', 'C', 'G', 'A', 'G', 'C', 'C', 'G', 'T', 'G', 'T', 'A', 'A', 'G', 'C', 'T', 'G', 'A', 'A', 'G', 'G', 'T', 'T', 'G', 'G', 'C', 'C', 'A', 'C', 'C', 'G', 'C', 'G', 'T', 'C', 'G', 'G', 'A', 'C', 'A', 'C', 'G', 'T', 'A', 'G', 'T', 'T', 'T', 'C', 'C', 'T', 'C', 'C', 'C', 'A', 'G', 'T', 'G', 'A', 'G', 'G', 'T', 'T', 'T', 'A', 'G', 'T', 'A', 'G', 'C', 'A', 'C', 'A', 'T', 'T', 'C', 'A', 'G', 'A', 'A', 'T', 'T', 'A', 'G', 'A', 'C', 'C', 'A', 'T', 'T', 'A', 'T', 'G', 'T', 'T', 'G', 'T', 'T', 'G', 'A', 'G', 'A', 'C', 'T', 'C', 'G', 'G', 'G', 'G', 'A', 'T', 'A', 'G', 'G', 'T', 'A', 'C', 'T', 'G', 'T', 'G', 'A', 'T', 'C', 'C', 'C', 'G', 'C', 'C', 'C', 'T', 'G', 'G', 'G', 'A', 'T', 'G', 'A', 'A', 'A', 'A', 'T', 'A', 'C', 'A', 'T', 'C', 'G', 'A', 'A', 'G', 'T', 'A', 'T', 'C', 'A', 'C', 'G', 'A', 'A', 'T', 'G', 'T', 'T', 'T', 'T', 'G', 'C', 'G', 'T', 'C', 'T', 'T', 'T', 'G', 'T', 'T', 'G', 'G', 'T', 'T', 'A', 'T', 'G', 'A', 'G', 'G', 'G', 'T', 'T', 'A', 'T', 'C', 'T', 'T', 'A', 'C', 'A', 'A', 'G', 'A', 'G', 'T', 'G', 'C', 'A', 'C', 'T', 'G', 'C', 'A', 'G', 'T', 'A', 'T', 'C', 'T', 'A', 'G', 'G', 'G', 'G', 'T', 'A', 'T', 'A', 'C', 'T', 'T', 'T', 'T', 'G', 'G', 'G', 'C', 'G', 'A', 'C', 'C', 'A', 'G', 'G', 'T', 'C', 'A', 'C', 'G', 'G', 'T', 'G', 'C', 'A', 'A', 'G', 'T', 'G', 'C', 'T', 'C', 'C', 'G', 'C', 'A', 'T', 'G', 'A', 'C', 'C', 'C', 'T', 'A', 'A', 'T', 'G', 'C', 'A', 'A', 'A', 'A', 'T', 'A', 'C', 'C', 'G', 'C', 'A', 'T', 'A', 'A', 'C', 'T', 'G', 'G', 'C', 'A', 'T', 'G', 'A', 'T', 'T', 'T', 'C', 'C', 'G', 'T', 'A', 'G', 'T', 'A', 'C', 'T', 'T', 'A', 'C', 'T', 'T', 'T', 'T', 'A', 'T', 'G', 'T', 'T', 'A', 'A', 'T', 'T', 'A', 'C', 'A', 'C', 'C', 'G', 'A', 'G', 'G', 'C', 'C', 'A', 'G', 'T', 'A', 'C', 'C', 'A', 'A', 'C', 'A', 'A', 'T', 'A', 'G', 'C', 'G', 'T', 'C', 'A', 'G', 'T', 'C', 'A', 'A', 'T', 'C', 'A', 'T', 'C', 'A', 'A', 'A', 'G', 'T', 'C', 'T', 'T', 'G', 'C', 'C', 'C', 'C', 'C', 'T', 'A', 'G', 'T', 'G', 'G', 'T', 'T', 'A', 'A', 'T', 'C', 'G', 'A', 'A', 'A', 'A', 'A', 'T', 'G', 'G', 'T', 'G', 'T', 'C', 'A', 'C', 'G', 'G', 'T', 'A', 'C', 'A', 'C', 'G', 'G', 'G', 'G', 'A', 'C', 'T', 'C', 'T', 'C', 'C', 'A', 'C', 'A', 'G', 'C', 'C', 'C', 'T', 'A', 'C', 'G', 'G', 'G', 'T', 'A', 'A', 'G', 'G', 'C', 'A', 'G', 'G', 'G', 'A', 'A', 'G', 'A', 'A', 'A', 'T', 'C', 'T', 'A', 'T', 'A', 'G', 'G', 'C', 'A', 'C', 'C', 'G', 'T', 'A', 'T', 'G', 'G', 'G', 'T', 'G', 'G', 'A', 'C', 'G', 'G', 'T', 'C', 'T', 'A', 'G', 'T', 'T', 'C', 'C', 'A', 'A', 'A', 'C', 'T', 'G', 'G', 'A', 'T', 'G', 'T', 'C', 'G', 'G', 'A', 'A', 'A', 'A', 'A', 'A', 'G', 'C', 'G', 'G', 'T', 'G', 'G', 'A', 'C', 'A', 'A', 'C', 'T', 'A', 'G', 'A', 'C', 'A', 'G', 'A', 'C', 'T', 'T', 'G', 'T', 'C', 'T', 'C', 'A', 'A', 'A', 'T', 'A', 'C', 'A', 'T', 'A', 'T', 'T', 'A', 'T', 'A', 'A', 'G', 'A', 'A', 'C', 'G', 'T', 'G', 'G', 'G', 'G', 'A', 'A', 'G', 'A', 'T', 'T', 'G', 'T', 'A', 'A', 'C', 'G', 'G', 'C', 'G', 'C', 'G', 'G', 'G', 'C', 'G', 'G', 'A', 'G', 'T', 'C', 'C', 'A', 'C', 'G', 'C', 'T', 'C', 'G', 'C', 'A', 'G', 'A', 'T', 'A', 'C', 'A', 'T', 'C', 'C', 'A', 'T', 'A', 'T', 'G', 'C', 'C', 'A', 'T', 'T', 'G', 'T', 'A', 'A', 'T', 'G', 'A', 'T', 'G', 'T', 'C', 'T', 'A', 'C', 'A', 'G', 'A', 'T', 'T', 'G', 'C', 'G', 'A', 'A', 'G', 'A', 'C', 'G', 'C', 'A', 'G', 'A', 'G', 'A', 'G', 'C', 'G', 'C', 'T', 'C', 'T', 'T', 'A', 'G', 'A', 'G', 'A', 'C', 'C', 'C', 'T', 'C', 'G', 'A', 'T', 'A', 'C', 'G', 'C', 'G', 'A', 'A', 'G', 'T', 'G', 'T', 'G', 'T', 'A', 'G', 'C', 'T', 'T', 'G', 'G', 'G', 'A', 'T', 'C', 'G', 'G', 'T', 'T', 'G', 'T', 'T', 'T', 'G', 'A', 'T', 'C', 'G', 'A', 'G', 'T', 'C', 'A', 'G', 'T', 'T', 'C', 'C', 'A', 'C', 'G', 'T', 'A', 'A', 'G', 'C', 'A', 'G', 'C', 'G', 'T', 'G', 'G', 'C', 'A', 'C', 'C', 'C', 'T', 'C', 'T', 'C', 'G', 'C', 'A', 'G', 'G', 'T', 'G', 'G', 'G', 'C', 'C', 'G', 'A', 'A', 'G', 'T', 'C', 'G', 'G', 'G', 'C', 'G', 'T', 'C', 'A', 'T', 'T', 'A', 'G', 'A', 'C', 'C', 'C', 'T', 'G', 'A', 'T', 'G', 'G', 'T', 'C', 'G', 'A', 'A', 'A', 'G', 'G', 'G', 'A', 'T', 'G', 'A', 'T', 'G', 'T', 'G', 'T', 'A', 'T', 'G', 'T', 'A', 'C', 'A', 'A', 'T', 'C', 'A', 'T', 'T', 'T', 'G', 'T', 'A', 'C', 'T', 'C', 'G', 'G', 'A', 'G', 'T', 'T', 'A', 'G', 'T', 'G', 'T', 'A', 'T', 'G', 'T', 'A', 'C', 'A', 'A', 'G', 'T', 'T', 'G', 'A', 'G', 'T', 'C', 'G', 'T', 'A', 'A', 'C', 'C', 'T', 'C', 'C', 'T', 'A', 'T', 'C', 'G', 'A', 'C', 'T', 'G', 'C', 'G', 'G', 'A', 'A', 'C', 'T', 'T', 'G', 'T', 'G', 'A', 'G', 'A', 'A', 'G', 'A', 'C', 'A', 'T', 'T', 'A', 'A', 'A', 'C', 'G', 'A', 'G', 'T', 'C', 'C', 'A', 'C', 'G', 'T', 'T', 'A', 'T', 'G', 'G', 'G', 'G', 'G', 'A', 'A', 'C', 'A', 'G', 'C', 'G', 'A', 'C', 'A', 'T', 'C', 'A', 'C', 'C', 'A', 'C', 'C', 'T', 'T', 'A', 'T', 'A', 'C', 'C', 'A', 'G', 'G', 'A', 'G', 'C', 'A', 'C', 'C', 'A', 'G', 'A', 'T', 'T', 'A', 'G', 'T', 'G', 'A', 'C', 'A', 'C', 'G', 'A', 'C', 'A', 'C', 'A', 'T', 'T', 'T', 'G', 'T', 'G', 'C', 'T', 'T', 'A', 'T', 'G', 'T', 'C', 'G', 'C', 'T', 'C', 'G', 'C', 'A', 'T', 'G', 'T', 'A', 'G', 'A', 'A', 'C', 'A', 'T', 'A', 'C', 'G', 'C', 'C', 'A', 'T', 'A', 'T', 'T', 'G', 'T', 'G', 'T', 'C', 'A', 'C', 'G', 'A', 'T', 'A', 'C', 'C', 'T', 'G', 'T', 'C', 'A', 'T', 'A', 'C', 'A', 'T', 'C', 'G', 'C', 'C', 'C', 'G', 'C', 'A', 'A', 'A', 'A', 'A', 'A', 'C', 'T', 'G', 'C', 'A', 'A', 'G', 'A', 'G', 'G', 'A', 'C', 'G', 'T', 'A', 'C', 'T', 'A', 'T', 'T', 'G', 'A', 'A', 'T', 'T', 'G', 'G', 'T', 'T', 'C', 'G', 'C', 'G', 'A', 'C', 'C', 'A', 'G', 'T', 'G', 'C', 'T', 'T', 'T', 'T', 'T', 'A', 'T', 'T', 'G', 'T', 'A', 'G', 'T', 'C', 'T', 'A', 'C', 'T', 'C', 'C', 'C', 'T', 'C', 'A', 'T', 'T', 'A', 'A', 'G', 'C', 'C', 'C', 'A', 'C', 'A', 'T', 'C', 'T', 'C', 'G', 'A', 'G', 'A', 'A', 'T', 'G', 'G', 'T', 'T', 'C', 'T', 'G', 'C', 'G', 'A', 'A', 'T', 'C', 'C', 'A', 'G', 'A', 'T', 'G', 'C', 'G', 'C', 'T', 'C', 'C', 'G', 'C', 'T', 'G', 'G', 'A', 'G', 'A', 'C', 'G', 'T', 'A', 'G', 'A', 'C', 'C', 'C', 'G', 'C', 'A', 'A', 'T', 'T', 'G', 'A', 'G', 'T', 'G', 'T', 'C', 'C', 'T', 'C', 'G', 'G', 'T', 'T', 'G', 'T', 'A', 'C', 'A', 'A', 'G', 'C', 'T', 'A', 'C', 'T', 'A', 'A', 'T', 'A', 'A', 'C', 'C', 'T', 'G', 'C', 'T', 'T', 'G', 'C', 'T', 'T', 'A', 'T', 'T', 'T', 'A', 'T', 'A', 'C', 'C', 'A', 'C', 'T', 'T', 'G', 'T', 'C', 'G', 'C', 'G', 'A', 'G', 'G', 'T', 'T', 'A', 'T', 'A', 'T', 'T', 'C', 'C', 'A', 'T', 'G', 'A', 'C', 'A', 'T', 'A', 'C', 'C', 'A', 'T', 'C', 'G', 'G', 'C', 'T', 'A', 'C', 'C', 'T', 'T', 'A', 'C', 'G', 'T', 'A', 'T', 'G', 'C', 'G', 'A', 'A', 'A', 'C', 'T', 'A', 'C', 'C', 'A', 'A', 'C', 'A', 'A', 'C', 'A', 'T', 'A', 'C', 'G', 'G', 'G', 'A', 'G', 'C', 'T', 'C', 'A', 'G', 'T', 'C', 'T', 'A', 'A', 'C', 'T', 'T', 'G', 'G', 'G', 'T', 'T', 'A', 'T', 'C', 'A', 'T', 'A', 'A', 'C', 'A', 'T', 'G', 'G', 'G', 'G', 'C', 'A', 'T', 'G', 'C', 'A', 'A', 'A', 'T', 'G', 'G', 'C', 'G', 'C', 'G', 'G', 'T', 'G', 'C', 'A', 'T', 'C', 'G', 'C', 'C', 'A', 'C', 'A', 'C', 'T', 'G', 'G', 'T', 'C', 'C', 'A', 'A', 'T', 'T', 'A', 'C', 'C', 'T', 'G', 'A', 'G', 'T', 'T', 'T', 'G', 'T', 'T', 'G', 'C', 'A', 'A', 'G', 'A', 'C', 'T', 'T', 'C', 'C', 'A', 'G', 'T', 'C', 'G', 'C', 'G', 'A', 'T', 'C', 'A', 'A', 'A', 'T', 'T', 'A', 'G', 'T', 'T', 'T', 'A', 'G', 'T', 'C', 'C', 'A', 'G', 'T', 'C', 'C', 'C', 'G', 'C', 'T', 'A', 'T', 'A', 'T', 'G', 'C', 'T', 'C', 'T', 'A', 'G', 'A', 'A', 'C', 'G', 'T', 'T', 'A', 'A', 'C', 'C', 'A', 'C', 'T', 'A', 'T', 'A', 'C', 'C', 'T', 'A', 'A', 'G', 'C', 'C', 'G', 'G', 'T', 'G', 'A', 'T', 'A', 'A', 'T', 'T', 'C', 'T', 'G', 'G', 'G', 'T', 'G', 'A', 'C', 'C', 'A', 'T', 'G', 'T', 'T', 'G', 'G', 'T', 'G', 'A', 'C', 'A', 'A', 'A', 'C', 'A', 'G', 'G', 'G', 'C', 'T', 'C', 'A', 'C', 'A', 'T', 'G', 'T', 'T', 'G', 'C', 'T', 'G', 'G', 'A', 'T', 'G', 'A', 'G', 'C', 'T', 'A', 'G', 'A', 'C', 'C', 'A', 'C', 'T', 'C', 'T', 'A', 'G', 'T', 'G', 'T', 'C', 'A', 'C', 'A', 'C', 'C', 'A', 'T', 'G', 'T', 'T', 'G', 'C', 'C', 'A', 'G', 'C', 'G', 'C', 'G', 'T', 'T', 'G', 'C', 'T', 'A', 'G', 'G', 'T', 'G', 'C', 'G', 'A', 'C', 'T', 'A', 'A', 'C', 'A', 'G', 'C', 'A', 'T', 'C', 'A', 'A', 'C', 'C', 'C', 'T', 'A', 'C', 'T', 'C', 'T', 'C', 'G', 'C', 'G', 'C', 'A', 'T', 'G', 'T', 'C', 'C', 'C', 'C', 'A', 'G', 'T', 'T', 'C', 'A', 'A', 'A', 'G', 'G', 'C', 'T', 'G', 'A', 'T', 'T', 'C', 'C', 'T', 'G', 'G', 'C', 'A', 'T', 'C', 'A', 'A', 'A', 'T', 'T', 'G', 'C', 'T', 'A', 'C', 'A', 'A', 'A', 'T', 'T', 'C', 'G', 'G', 'G', 'T', 'A', 'C', 'G', 'C', 'C', 'G', 'T', 'T', 'C', 'G', 'C', 'T', 'G', 'A', 'A', 'G', 'C', 'A', 'A', 'T', 'G', 'A', 'T', 'C', 'A', 'T', 'T', 'T', 'A', 'C', 'G', 'A', 'G', 'T', 'G', 'C', 'C', 'A', 'G', 'G', 'G', 'C', 'C', 'T', 'A', 'A', 'C', 'C', 'C', 'A', 'C', 'C', 'C', 'G', 'A', 'A', 'C', 'G', 'T', 'A', 'G', 'A', 'A', 'G', 'A', 'C', 'C', 'G', 'G', 'A', 'A', 'C', 'A', 'C', 'C', 'T', 'A', 'C', 'T', 'C', 'A', 'G', 'G', 'C', 'G', 'T', 'C', 'C', 'T', 'G', 'C', 'C', 'T', 'T', 'A', 'A', 'C', 'T', 'A', 'G', 'C', 'C', 'A', 'A', 'G', 'T', 'A', 'T', 'G', 'A', 'A', 'T', 'A', 'T', 'T', 'T', 'C', 'G', 'C', 'A', 'C', 'A', 'C', 'T', 'T', 'C', 'A', 'A', 'A', 'A', 'A', 'C', 'G', 'G', 'C', 'T', 'C', 'C', 'T', 'T', 'G', 'T', 'A', 'C', 'T', 'C', 'T', 'G', 'C', 'C', 'A', 'T', 'T', 'C', 'T', 'C', 'C', 'G', 'C', 'T', 'C', 'T', 'C', 'C', 'G', 'G', 'A', 'C', 'A', 'C', 'C', 'A', 'A', 'A', 'C', 'T', 'C', 'A', 'G', 'C', 'G', 'A', 'T', 'G', 'G', 'T', 'G', 'A', 'C', 'A', 'T', 'C', 'G', 'A', 'C', 'A', 'G', 'C', 'G', 'C', 'T', 'T', 'C', 'C', 'A', 'A', 'G', 'T', 'G', 'T', 'G', 'T', 'A', 'C', 'T', 'A', 'C', 'C', 'C', 'C', 'G', 'G', 'T', 'C', 'A', 'G', 'C', 'G', 'A', 'A', 'C', 'C', 'T', 'C', 'C', 'T', 'G', 'C', 'T', 'T', 'A', 'C', 'G', 'A', 'T', 'C', 'A', 'G', 'T', 'G', 'G', 'T', 'A', 'T', 'T', 'G', 'C', 'A', 'A', 'C', 'A', 'A', 'A', 'C', 'A', 'A', 'A', 'A', 'A', 'G', 'C', 'A', 'G', 'C', 'T', 'C', 'T', 'G', 'G', 'A', 'A', 'T', 'C', 'G', 'T', 'T', 'C', 'A', 'T', 'T', 'A', 'T', 'C', 'C', 'A', 'T', 'A', 'T', 'T', 'A', 'C', 'G', 'T', 'C', 'C', 'T', 'G', 'T', 'T', 'C', 'A', 'T', 'T', 'G', 'A', 'A', 'C', 'G', 'A', 'A', 'G', 'T', 'T', 'G', 'A', 'T', 'C', 'G', 'A', 'C', 'C', 'C', 'C', 'G', 'C', 'G', 'A', 'G', 'A', 'A', 'T', 'T', 'A', 'G', 'A', 'A', 'C', 'C', 'A', 'T', 'G', 'T', 'C', 'C', 'C', 'T', 'G', 'C', 'G', 'A', 'T', 'A', 'A', 'G', 'G', 'G', 'A', 'T', 'C', 'T', 'T', 'C', 'A', 'T', 'A', 'C', 'T', 'C', 'T', 'A', 'T', 'G', 'A', 'A', 'T', 'T', 'A', 'A', 'A', 'A', 'A', 'G', 'T', 'T', 'G', 'G', 'C', 'C', 'A', 'C', 'T', 'G', 'C', 'T', 'C', 'T', 'C', 'G', 'A', 'A', 'G', 'G', 'A', 'A', 'A', 'C', 'T', 'G', 'T', 'G', 'T', 'T', 'A', 'A', 'C', 'A', 'C', 'T', 'T', 'T', 'G', 'T', 'C', 'G', 'T', 'A', 'G', 'T', 'C', 'G', 'C', 'A', 'A', 'A', 'A', 'G', 'G', 'G', 'G', 'C', 'C', 'G', 'T', 'C', 'C', 'C', 'A', 'G', 'G', 'T', 'G', 'A', 'A', 'A', 'C', 'C', 'G', 'A', 'T', 'T', 'A', 'G', 'C', 'G', 'A', 'A', 'G', 'C', 'G', 'C', 'G', 'T', 'G', 'G', 'A', 'A', 'A', 'G', 'G', 'T', 'C', 'A', 'C', 'C', 'T', 'A', 'C', 'G', 'G', 'G', 'G', 'C', 'T', 'G', 'T', 'A', 'C', 'G', 'C', 'A', 'C', 'A', 'C', 'G', 'G', 'G', 'C', 'C', 'G', 'G', 'C', 'C', 'A', 'T', 'C', 'A', 'C', 'A', 'C', 'T', 'C', 'G', 'G', 'C', 'A', 'G', 'G', 'T', 'T', 'G', 'T', 'A', 'T', 'C', 'G', 'C', 'C', 'A', 'G', 'A', 'T', 'C', 'T', 'C', 'A', 'G', 'A', 'A', 'G', 'G', 'C', 'C', 'A', 'G', 'G', 'A', 'A', 'G', 'A', 'A', 'G', 'A', 'A', 'T', 'G', 'T', 'C', 'T', 'T', 'C', 'G', 'T', 'T', 'C', 'T', 'A', 'A', 'A', 'G', 'C', 'T', 'T', 'C', 'T', 'A', 'G', 'G', 'T', 'C', 'C', 'C', 'G', 'C', 'C', 'G', 'G', 'G', 'G', 'C', 'T', 'T', 'C', 'G', 'G', 'C', 'G', 'C', 'G', 'T', 'A', 'C', 'C', 'C', 'G', 'C', 'A', 'C', 'T', 'A', 'T', 'A', 'G', 'T', 'T', 'C', 'G', 'G', 'T', 'C', 'C', 'T', 'C', 'T', 'G', 'T', 'T', 'G', 'A', 'A', 'T', 'T', 'T', 'T', 'C', 'C', 'T', 'T', 'T', 'A', 'T', 'G', 'A', 'A', 'A', 'T', 'G', 'T', 'C', 'G', 'T', 'G', 'C', 'A', 'G', 'T', 'C', 'G', 'T', 'C', 'A', 'C', 'G', 'C', 'G', 'C', 'A', 'G', 'A', 'T', 'C', 'T', 'A', 'A', 'T', 'C', 'G', 'A', 'A', 'G', 'C', 'G', 'A', 'A', 'A', 'G', 'G', 'A', 'T', 'T', 'A', 'C', 'G', 'G', 'T', 'C', 'G', 'T', 'C', 'A', 'C', 'G', 'A', 'G', 'G', 'A', 'A', 'C', 'G', 'A', 'A', 'C', 'A', 'A', 'T', 'G', 'C', 'G', 'T', 'A', 'T', 'A', 'G', 'A', 'A', 'A', 'G', 'T', 'G', 'C', 'T', 'C', 'T', 'T', 'G', 'G', 'A', 'C', 'C', 'T', 'C', 'C', 'T', 'C', 'T', 'C', 'T', 'T', 'A', 'T', 'C', 'T', 'A', 'C', 'A', 'A', 'C', 'T', 'C', 'G', 'A', 'C', 'T', 'C', 'G', 'C', 'A', 'T', 'T', 'G', 'T', 'T', 'C', 'C', 'T', 'A', 'T', 'G', 'C', 'A', 'G', 'T', 'G', 'C', 'A', 'T', 'C', 'G', 'A', 'C', 'G', 'A', 'C', 'T', 'C', 'C', 'A', 'T', 'C', 'T', 'T', 'A', 'G', 'G', 'G', 'A', 'G', 'G', 'A', 'G', 'A', 'T', 'C', 'T', 'A', 'C', 'C', 'C', 'C', 'T', 'G', 'A', 'A', 'G', 'T', 'G', 'G', 'A', 'T', 'C', 'A', 'T', 'C', 'A', 'A', 'T', 'T', 'T', 'T', 'T', 'A', 'T', 'T', 'T', 'T', 'T', 'C', 'T', 'A', 'G', 'T', 'C', 'C', 'C', 'G', 'G', 'G', 'C', 'A', 'G', 'C', 'C', 'C', 'G', 'G', 'G', 'C', 'C', 'G', 'A', 'A', 'T', 'G', 'G', 'C', 'T', 'T', 'T', 'T', 'A', 'G', 'A', 'G', 'C', 'T', 'C', 'T', 'T', 'G', 'C', 'T', 'G', 'A', 'C', 'T', 'C', 'T', 'G', 'T', 'A', 'G', 'G', 'G', 'C', 'G', 'C', 'A', 'A', 'C', 'T', 'G', 'T', 'G', 'C', 'G', 'C', 'T', 'G', 'A', 'T', 'G', 'G', 'G', 'C', 'T', 'C', 'G', 'A', 'A', 'G', 'G', 'C', 'A', 'T', 'C', 'C', 'G', 'C', 'A', 'G', 'T', 'A', 'A', 'C', 'C', 'A', 'A', 'G', 'A', 'G', 'C', 'T', 'T', 'T', 'G', 'C', 'C', 'A', 'T', 'T', 'A', 'T', 'C', 'T', 'G', 'T', 'G', 'G', 'G', 'C', 'C', 'C', 'G', 'G', 'G', 'G', 'G', 'T', 'A', 'A', 'A', 'C', 'G', 'T', 'G', 'T', 'C', 'T']\n"
     ]
    }
   ],
   "source": [
    "import random as rn\n",
    "DNA_1= [rn.choice(['A','T','G','C']) for i in range(10000)]\n",
    "print(DNA_1)"
   ]
  },
  {
   "cell_type": "code",
   "execution_count": 6,
   "id": "a87791fe",
   "metadata": {},
   "outputs": [
    {
     "name": "stdout",
     "output_type": "stream",
     "text": [
      "GCGCCCCGGATAAGCCTGATGCACTTTGTCCGGTATCTAAACGCTTGTGTTGGAACTCTGGCGCATAAGTTCCTAAAGGGGTAAGGGCAACTATCGCGGTACACGTTCACGAGCACTTCCGCGACTCCTCTCCCGCCCCTGTTACGAGCCCCCATACGATGAGCCAAAGGCAAGACCAGTTATGGAAAGGAGCTGAACAGGAGCTCCTAACGATTTGGGAATTGTGCGGACACGTTTGCTGCATCGGCCCCGCATAGGTTTCAGCATGTTCTGGCATAATCTTCCGTGCCCGAGCACTAATACGAAGCGCGTTAAAACATGCTTATCGTGTGCATCTTAATCGTTTTCATTACCAGCCAATTACTAGACCAGTCGACTGCGAGTCTAAACAAAGTGTACCATATATGACTAAAGCATTGCGAGTCAGGGGTGATTTAGGATTCCACTGCTGGTTTGAGACAATGGCACTGAACGTCAATATGTCATCAAGAGCGTAAGGTGCCCTTAGGTGGAACTCGGTGTGTGAAGTACTAGTCAATCAGTCCTATGGGTTCGGTCAGAAACATGTGCTTGTGCTCCCTTGTCGAAAGCTACGGCGGCTACTACGGTCACTCAAAGGGCACTCTAGGCCCGCCTAGTCAAGCCTGTAAGAGAAGTGTAGGGCGTCGCATTTTCTTACGGACTCCACTTGGCGACTCCACACTACAATGAACAATAAACTTCCTGTAAACAAGGCTCTTGGAAGATACAAATTTACTCTGAATTATACGGCTTTCGCGTGTCGCGGGTATGTGTAACGTACGCAATGACTTAACGTGTTGAGATCCTCAGGCACAGTAAGTACAGCCGCCACACTACAGTAGTCGGAGCCAGCTTGGCGGATTGTACCGGTTCAATCCTGAAGTGCCCGAATCCTTAGATGATAGTCGGTAGACAGACTCTAGACGATTACGACGGAGTTTATATCTGATCCTACGAGAGGCCTGAATCCAATACCTTCCACTTACTCACAAGACTTACGTTACATTACTTCCGAGCAAATTGCGTAGCTATAGGACCGCGCGTACTACGAAATCGAACTTCCTAGCCCGTCTCTTCATGAAATGGGCAGCTACTCCAGGCATGGGTTTCGAGTTCGTTCCTTTTGACGCTAGGTCAGTACCTGCATAAAATTTGACGTGTTGAGACTCGAAGGACCGAATTAATCGAACCTAAACGGTAGATACCTCTGCCAGATTAAATACAAACACCTTGTGCTTGCTTGTCTATGCTTCCTCAGCCGCTAGTAGCGTTGACTTCCGATGCAAGTTAATTAATGGCCCAGTTTCAAATACTATCGTCGGGAGGGGGAGCCTATCTGTTCCGCTTCGATACTCCACCTAAGCAACAGAGATGGGTTTTGCTGGGAATCATAGCGGAGGCAGCTAGGAGAATCGGGAGCTTAACAGTAGTGTAACGAGTGGGTAAGCCCGATTGCGTTATACCGCCGCTGTCACCATTGATTGTCCCAAGGTTGCACACTTTAGTTGTGATTGCGTTGCATTACGCACGCCTCATAGTCGCTCAAGCGACAAACCAGGTAAAGGACTGGCTGGTTGAAGATGTACTTGTATTACGGAGGCTTCTCTCCGACAACGCATTCCCTGGATACCCACATTTCATCAACCGCAGCATGGAATTGTAGGGGCCGGCGGATAGTTTCACGTAGCTTAGCCGCAAATTGTTCTTCGCCCAGTTTCGGAATGACCAAGTTTGCTTTGCGGGTGGGCCTCGTTGCGATCCCCCACTATATCGCGGGTGTACGCTTCGTAGGATTGTTGGCGACTGATCTCGTGGTGTAGTCACAACCCCACGAAATTATACTATCAAGTGAATACAACGTCCCCTAACTCAACTCGCTTCAGGATGTCATGTTCGCGAATTAGGGTTTATAATGGAGCTTTATAGAAAACAGTTGGTGGCCTACATGTTCCGGAAGTGGTGCAAGCTGTTAGCCGACTTGTATTGGATACTGCCGTCGTCGACCAACAATAGCATGACTACGTTGTAGACGAACTGTTTAGTCCACCCTTTTGAAGTCATTGCTTGAAATACAGCATTGGAGTAAGATGCCAGTTGGGTCCCGGTCTGGGTCGCCCCTGCTTATATCTCTCCCGTTATATGCAGTACCTAACCGCGTCAAGAGGGTCCAGTTCGTGGCATATCACGATCCCGTGGCGTTCCATTCCCTATTGAAGGTGTTACAACTATTGGGAAATAGACTTTACCGAATACACGGATGTCCTCCAGCGGTATCGCTTAACACGAACGTACGTGACATCGGATCTGAAGCAGGGCCCCACTACTTGTTTGAGAACTGGCTGAGGGTCTTATCGCTGCGACCCGAACGCGTGTGCACGACTTCTAGGAGCACAAGGTGAGGCATGGCACAGGCCCCGGATAGCAGTGAGATCACCTAGGGCTCTCAACCCCGTCGCCGGCCAAGCGACCACTTAGCCCACCTTAGTGTCTGCCTTGAGTTTTTAGTTGGGGTACATACGCCCAAGGGCCTATATTAGTGGCACTATTTCTTGTCCGATGTCCCTTAATGCTAGGCCTTAGACCATGCGACCATAATGGTTCACGTCAGCTTAAACAATTCACAGCACTAGCGTCTCTTCTCCCGCCTACCATCGGGAAAAAAGGCTATTGATTTACTTCAGGGACCCCGATGCATCGACCTAGATCAGGAACAGGCTCAGGGGAGTTTAAATAGAGGTTCGGGTAACCCGTTCAGGGCAAGCTAAGAAGGGAGTGTGAAGAAGGACGTCGGTGGTGCGGCTGGAGCACGTTACGATAAAAAATCCTGCCCATGAATCAAACGTATAGTCACTTTGCTTGTTTTCCTGTGCTTGGTCGAAATTGTAGTACAGTGGAAAATGCGGCCGCAGTCGAGGACTCCCAGTACCGCGGGCTCCAGCTATAACACAGTTTATCTAACTGGGGACCAACCACTCGGGACGCTTGTGGCGAAAAGCACCGAAATGCTGCCGGCCCGGGTGACGACCAACGATGGCGAGCAGCACATCGGCTAACTCGAACATCGCAGGTTCGGACAGCTGTGGTGTCGTGCGGAGTATTTAGCGTGCTGAATGGCTGCCACAGTGCCCGACTGCTTACGCTATTCGCGGAGTACAAGCAACGGGACAACCAGAATTACACTACTTGGTACGATAATCCGACTGACTGCTACGTGGAAACTGTGTGATTTCCCGGCAGCAGCCCATAAGGGCCAGCACGATGTTCCGGCCCCGAGTCTTTTCTTCAACACTGATGGCTTGTAACCTGTCCACTTTACAACGACCGGTTCTTATCGCTAAAGCGACACCGCCAAGCCCTTTAGGATTAACCAGCGTGCTCTCACGATTCGGCTAACGCGAAGGAGAGAATGACAGGACTCCTGGGGCGAACTAGATTAGGTTTCGGATAGATTACAGGGTTATATCCCGTTGTAAGATGTGTAGAAGGGTGCGAGCAGCTTGTTGCCACGGGGCAGCTATGCTTTCTTACCCAGAGTCCAGTCTACAGACCGGGACCATGGAGCCGTTTAGTCCGTTGGTGCACTGAAGTCCTGGGATCGCACATAGATCCAGATCATAGGCCTATCTACCCGGTAGATTAGGTCGTACTGCTAACGATCTAGTCTTGTCAGATGAGTTCTCACAGTCGGGAATGGACTAGCTACAACCCAGAACTGCCATGCCTAGGGGAATAGTCCCAACTCACGATCAGCGCCGCCCGTCTTTGACACGTGCGAGGACCTGACGGTTTCACGGTGAGTGAAATCGTAGGAGTCAGCTTCTATACCATTAAACTCCATTAAGAGTGTGTGCGCACAGTTAACGAGAGTCGACCGAGGGCTCTTTCCTAATGCATTGATCGTGTCAGTCATACCTCTAACATTTTCTTGACTGTGATCTGCAGAAAGGACGGACGTGCAAACCGGTTCGTTTACAACCTGCTCTGAGGGTTTCGCGCTAGGGGAGCCTGAGAGTCGATTTGATCATTGCACCACAGACCCACAGGCGATTCTGGCTAATGCCATCCATTACCGTTTGAATGATTTGGTCATGACGTAAGACTGCCCCAAGCTGCCAGATAGCAACTCACGGGGCGCGCCGAATCATAACGAACGCGCACATTATCCGTTTCGAGTATAAAATGGGGTGGCGAATGGGTCCCCAATAGAGAGCCTCTTGAATTCACTCAGTTCGTGAATCACCCTACTTCTGCGCCCATCAAACCAGCGATCACAACGCAGGCCTGATTTACCCGACGCTTAGAACACGACAGTTGACAGAGGCCCGTAGAATAGTAAGATTACAAATAATTTAATCGTGCGCATGTTAAGAACCTTTCCCCCTCCGGCGTATGACGAGTCAAATGGCAGGAACCACATGACATGTATGAACCACGGTACCTTCGGGTCCCCTCTCGCTTGTGGATGAAGAAACTATCTAGGCGTAAGGGGTTCTATAGACCAGAATACCGTTTTCAAGGAACCTTGATGATTGAAGGCCATGTCGAATTATCTAGAGAGTTGTCGATGCAGTATCTTGTCTACGCATATCACCCGTACTCTAAAGTAAACAGTTAAAGTGTATAGCTAGGATCTCCTGAACAGATGGGACGTGTAGTTGTTCTCCAAGTAGAGTTGATCCAGCGATTCTGCACTTGCCTGTATTCCACGGCTGGCCGGTTGACCCGAGACGATCAATGACACCATTCATGCGTGTCCGGGGAGCTTTACGAGCGAACAATTGTACCCGGGCGCAGTGCAGCCGTATGCAACCTGCCCTACCTTCCATTGGTGGCTCTAAATCCGTTATCATTCCCAGCCTTGGTATGCAGTTCCCGACGGTAATTAATACCGTGGCTGTTTATGAGGACTTTAAGGCCCATACCGTTGGCCGGCCATGTTAACAATGCTCCACGAGAAAGAAGCATGAGGCAATTAATGCGAGGCCCTTTGGCTGCACCCGAAGATAGGTTCTGCGATCAAAACTGGATCATATCTTGAGAACCATTTGGCAGTTCAAATCAAGGCGGACTTTGCGCTCCCGTTAGTAAGAAGCTAGAAATTTTGTGAACGACGCTTTGAACATACCACGCTCGCAATGAATTCCGTCCCCAGGCAAGGATTAATTTACGGCACTAGGCAAAGCTAATGCGTGAAAAGATCAAATAAAGCTAAATTACTCGCATTCATCGCCATGAAGATCCCTACGAAGGCATTAGTCTCACCAATGTGGGGTATACTGCAGACTGGGCATCATCGCCTTTGGAAACCGGTACTGTTCTCTCCATCCGTGGCCGTGGTTTGAAGGAATCGGCTGGGGCAATTCGGAAGTGAGCACGACCGATTAGAGTCGATGGAACGGTTTTGTTTAATACGATTTAGTTATGTGAGGCGATGCAGTGATTGAGTCCCCAAAGACATCTGTTACACCTTAATACCTCACTAAAAATCGCCTGATATTCGTACGCCTCTCGTAGGAATTAGGAGATACCACTTCACAGTAGCGGATCTTGAGCACGCCGGGCTAGGCATAAGTAGAATTCCAGCCCGAACAAAAGGTCATTACTACCCTTACGGAGGCCAATTCCAAGTGGATTGTACCCAGAAACGCGTGTGCCTGCTAAACGTCAATGTACTCGAGTGAGTAATGTACCCGTGGCTCCAGCTCGATCTACCCAACTTGGATGGATGGATAGTGGAGCAGCTAACCGAGGATGGTGAACTTTCCACTTTACAGTTCCTTGGGTGCTGTAGTCGTTTTCCCCAACTTACAAGATGCATAGTGCCGTTTAGATTATTTCTAGGACAAAGGCGCACATGATCAGCTAGGGATTCCGGCTTACAAATAGGCACCAAGACGGTGACTGCCGGATATCGTCCTATGGTGTGATCTGTGCCTTATCTAAACCTCTATCGCACCAGTCGATCGAGGGGGCAATTCCCTTACATTCTAGCTATATCTCAGCGACACGCGAGTGCCGGCATTTGGTGCCTAATGCCTGCGTAGGCAGTCAATGAAACCATAGTGGGTAAGGAAGGTGCGCACCGAGGTTCCACCACCTACTCGAATCCTGTTATAACGCACTCCTGGTGGTCAGAACCCGATGCTTTCCCCGACGCTAAGTGTCTTGCGCCCCGTTGAATACTAATATTTTCTTTGGATCTGTAGCCATACCTCTTGTGCGCGCAGGGCGGTAACCTTTGGATGATAACAGTATGAACGGCTTGGGGAATCAGCGTGCAGTGGACGCCCTTGAATTACCTTGAATTAACTCTACTGGAGATGGGAAGGCTACTATCTATCCATTATCGAAAAGATGATGAGCATTTTCCGGACCCCAGTGCGACCGCATTCGTGTGGCTCCTTAGTACAGGATACGATCGATACACAGGCCGTGCGAAGCCCTACCATAGTGTTTCATCGTCATGCATGCTGCCTCTCATTTGTGCGCGCCCCCGACACTTCCCAGGCGAGAGTGCACAACTCAGCCACTACCCGGTGAAGCGCATGATTTGAATTCGAAGAAGTCGGCGCTCACCAGTGGACAGGACTCTCCCTCCTTGCGTAAACCCTAAGATCTACAACCCTAAATACAAGGTCCTCTAGAGGAGTAACCGGTTAACATCGGGTTGCAAAATCACCACGCCTCTGCCGTCCTCGAAGCGAGCATGAGTTCGCGGCACTCCCAGGCCGATATCTCTATAGGGCCTAGGTACGAGATGTCAGCCTCGGTCCTACTAAATAGCGAGGCGTGTATTTTAGTTATTAGTCGGAGTGGGTACCCTATTCATAGGCAATGTAATTCTATCCTGTAAAAGTAGGTTATAAAAAAGATGCCACGGATACGATGGTTCCCCTTGAGAGAAGTCCATCGCTGGTTCGCCTGAGCACTTTGCTCAAGAGGCCTGGGTTATGTTTCAGGTCTCACGGACAGGCGACCTCAAATTTCAGCTCTAAACACCAAATAGTCAACGCTGCTTGTCCCAACTGCGTGCCTGAGCCGCTTATGAAATTGGTCCTCGTGTTAACTCCGAACAGCTCCGGGCCCGGGAGCCCAGACAAATCGACTGCGTCAGGTGGTCTAGAAGGAGATAAGTATGGACGAGGCCCGGCGTCTGCCACAGCGCGCTATAGCAGCGTGCCGTGCGGGAAGCGTAAACGAGATTGTCTCGGATGCTGACCTTCGCCGGGCCCTTAATTTCAGGGGCGGAGAGATAGGAGCCGTCGTAAAAGCGTTGGCATGCCTATTCTACATGCATTAAACTACAAACGAAATATGGCGCGAGCCGTGTAAGCTGAAGGTTGGCCACCGCGTCGGACACGTAGTTTCCTCCCAGTGAGGTTTAGTAGCACATTCAGAATTAGACCATTATGTTGTTGAGACTCGGGGATAGGTACTGTGATCCCGCCCTGGGATGAAAATACATCGAAGTATCACGAATGTTTTGCGTCTTTGTTGGTTATGAGGGTTATCTTACAAGAGTGCACTGCAGTATCTAGGGGTATACTTTTGGGCGACCAGGTCACGGTGCAAGTGCTCCGCATGACCCTAATGCAAAATACCGCATAACTGGCATGATTTCCGTAGTACTTACTTTTATGTTAATTACACCGAGGCCAGTACCAACAATAGCGTCAGTCAATCATCAAAGTCTTGCCCCCTAGTGGTTAATCGAAAAATGGTGTCACGGTACACGGGGACTCTCCACAGCCCTACGGGTAAGGCAGGGAAGAAATCTATAGGCACCGTATGGGTGGACGGTCTAGTTCCAAACTGGATGTCGGAAAAAAGCGGTGGACAACTAGACAGACTTGTCTCAAATACATATTATAAGAACGTGGGGAAGATTGTAACGGCGCGGGCGGAGTCCACGCTCGCAGATACATCCATATGCCATTGTAATGATGTCTACAGATTGCGAAGACGCAGAGAGCGCTCTTAGAGACCCTCGATACGCGAAGTGTGTAGCTTGGGATCGGTTGTTTGATCGAGTCAGTTCCACGTAAGCAGCGTGGCACCCTCTCGCAGGTGGGCCGAAGTCGGGCGTCATTAGACCCTGATGGTCGAAAGGGATGATGTGTATGTACAATCATTTGTACTCGGAGTTAGTGTATGTACAAGTTGAGTCGTAACCTCCTATCGACTGCGGAACTTGTGAGAAGACATTAAACGAGTCCACGTTATGGGGGAACAGCGACATCACCACCTTATACCAGGAGCACCAGATTAGTGACACGACACATTTGTGCTTATGTCGCTCGCATGTAGAACATACGCCATATTGTGTCACGATACCTGTCATACATCGCCCGCAAAAAACTGCAAGAGGACGTACTATTGAATTGGTTCGCGACCAGTGCTTTTTATTGTAGTCTACTCCCTCATTAAGCCCACATCTCGAGAATGGTTCTGCGAATCCAGATGCGCTCCGCTGGAGACGTAGACCCGCAATTGAGTGTCCTCGGTTGTACAAGCTACTAATAACCTGCTTGCTTATTTATACCACTTGTCGCGAGGTTATATTCCATGACATACCATCGGCTACCTTACGTATGCGAAACTACCAACAACATACGGGAGCTCAGTCTAACTTGGGTTATCATAACATGGGGCATGCAAATGGCGCGGTGCATCGCCACACTGGTCCAATTACCTGAGTTTGTTGCAAGACTTCCAGTCGCGATCAAATTAGTTTAGTCCAGTCCCGCTATATGCTCTAGAACGTTAACCACTATACCTAAGCCGGTGATAATTCTGGGTGACCATGTTGGTGACAAACAGGGCTCACATGTTGCTGGATGAGCTAGACCACTCTAGTGTCACACCATGTTGCCAGCGCGTTGCTAGGTGCGACTAACAGCATCAACCCTACTCTCGCGCATGTCCCCAGTTCAAAGGCTGATTCCTGGCATCAAATTGCTACAAATTCGGGTACGCCGTTCGCTGAAGCAATGATCATTTACGAGTGCCAGGGCCTAACCCACCCGAACGTAGAAGACCGGAACACCTACTCAGGCGTCCTGCCTTAACTAGCCAAGTATGAATATTTCGCACACTTCAAAAACGGCTCCTTGTACTCTGCCATTCTCCGCTCTCCGGACACCAAACTCAGCGATGGTGACATCGACAGCGCTTCCAAGTGTGTACTACCCCGGTCAGCGAACCTCCTGCTTACGATCAGTGGTATTGCAACAAACAAAAAGCAGCTCTGGAATCGTTCATTATCCATATTACGTCCTGTTCATTGAACGAAGTTGATCGACCCCGCGAGAATTAGAACCATGTCCCTGCGATAAGGGATCTTCATACTCTATGAATTAAAAAGTTGGCCACTGCTCTCGAAGGAAACTGTGTTAACACTTTGTCGTAGTCGCAAAAGGGGCCGTCCCAGGTGAAACCGATTAGCGAAGCGCGTGGAAAGGTCACCTACGGGGCTGTACGCACACGGGCCGGCCATCACACTCGGCAGGTTGTATCGCCAGATCTCAGAAGGCCAGGAAGAAGAATGTCTTCGTTCTAAAGCTTCTAGGTCCCGCCGGGGCTTCGGCGCGTACCCGCACTATAGTTCGGTCCTCTGTTGAATTTTCCTTTATGAAATGTCGTGCAGTCGTCACGCGCAGATCTAATCGAAGCGAAAGGATTACGGTCGTCACGAGGAACGAACAATGCGTATAGAAAGTGCTCTTGGACCTCCTCTCTTATCTACAACTCGACTCGCATTGTTCCTATGCAGTGCATCGACGACTCCATCTTAGGGAGGAGATCTACCCCTGAAGTGGATCATCAATTTTTATTTTTCTAGTCCCGGGCAGCCCGGGCCGAATGGCTTTTAGAGCTCTTGCTGACTCTGTAGGGCGCAACTGTGCGCTGATGGGCTCGAAGGCATCCGCAGTAACCAAGAGCTTTGCCATTATCTGTGGGCCCGGGGGTAAACGTGTCT\n"
     ]
    }
   ],
   "source": [
    "DNA_2=''.join(DNA_1)\n",
    "print(DNA_2)"
   ]
  },
  {
   "cell_type": "code",
   "execution_count": 7,
   "id": "55961d3d",
   "metadata": {},
   "outputs": [
    {
     "data": {
      "text/plain": [
       "(2525, 2487, 2489, 2499, 615, 163, 40)"
      ]
     },
     "execution_count": 7,
     "metadata": {},
     "output_type": "execute_result"
    }
   ],
   "source": [
    "DNA_2.count('A'),DNA_2.count('T'),DNA_2.count('G'),DNA_2.count('C'),DNA_2.count('AT'),DNA_2.count('ATG'),DNA_2.count('ATGC')"
   ]
  },
  {
   "cell_type": "code",
   "execution_count": null,
   "id": "69a3fda2",
   "metadata": {},
   "outputs": [],
   "source": []
  }
 ],
 "metadata": {
  "kernelspec": {
   "display_name": "Python 3",
   "language": "python",
   "name": "python3"
  },
  "language_info": {
   "codemirror_mode": {
    "name": "ipython",
    "version": 3
   },
   "file_extension": ".py",
   "mimetype": "text/x-python",
   "name": "python",
   "nbconvert_exporter": "python",
   "pygments_lexer": "ipython3",
   "version": "3.8.8"
  }
 },
 "nbformat": 4,
 "nbformat_minor": 5
}

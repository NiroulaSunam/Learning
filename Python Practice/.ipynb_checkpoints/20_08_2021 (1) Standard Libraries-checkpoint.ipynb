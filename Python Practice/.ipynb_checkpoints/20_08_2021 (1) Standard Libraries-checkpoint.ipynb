{
 "cells": [
  {
   "cell_type": "markdown",
   "id": "5b69cead",
   "metadata": {},
   "source": [
    "# Python Standard Libraries"
   ]
  },
  {
   "cell_type": "markdown",
   "id": "f6a361cc",
   "metadata": {},
   "source": [
    "## String"
   ]
  },
  {
   "cell_type": "code",
   "execution_count": 1,
   "id": "e3e14ec7",
   "metadata": {},
   "outputs": [
    {
     "name": "stdout",
     "output_type": "stream",
     "text": [
      "this is (0,0) integer\n",
      "this is (0,1) integer\n",
      "this is (1,0) integer\n",
      "this is (1,1) integer\n",
      "this is (2,0) integer\n",
      "this is (2,1) integer\n",
      "this is (3,0) integer\n",
      "this is (3,1) integer\n",
      "this is (4,0) integer\n",
      "this is (4,1) integer\n"
     ]
    }
   ],
   "source": [
    "for i in range(5):\n",
    "    for j in range(2):\n",
    "        print(\"this is ({},{}) integer\".format(i,j))"
   ]
  },
  {
   "cell_type": "code",
   "execution_count": 3,
   "id": "8ef56bef",
   "metadata": {},
   "outputs": [
    {
     "name": "stdout",
     "output_type": "stream",
     "text": [
      "['shubhamg199630@gmail.com', 'priya@yahoo.com', 'abc@example.com.', 'shubhamg@gmail.com', 'priya2@yahoo.com', 'abcd@example.com.', 'shubhamg19@gmail.com', 'priya5@yahoo.com', 'abct@example.com.']\n"
     ]
    }
   ],
   "source": [
    "import re\n",
    "\n",
    "s = 'Hello from shubhamg199630@gmail.com to priya@yahoo.com about\\\n",
    "    the meeting @2PM. Can we meet today for an important decision?\\\n",
    "    Based on previous meeting minute we had decided to write an emailto\\\n",
    "    abc@example.com. In case we do not get reply.\\\n",
    "    Hello from shubhamg@gmail.com to priya2@yahoo.com about\\\n",
    "    the meeting @2PM. Can we meet today for an important decision?\\\n",
    "    Based on previous meeting minute we had decided to write an emailto\\\n",
    "    abcd@example.com. In case we do not get reply\\\n",
    "    Hello from shubhamg19@gmail.com to priya5@yahoo.com about\\\n",
    "    the meeting @2PM. Can we meet today for an important decision?\\\n",
    "    Based on previous meeting minute we had decided to write an emailto\\\n",
    "    abct@example.com. In case we do not get reply'\n",
    "\n",
    "lst = re.findall('\\S+@\\S+', s)\n",
    "print(lst)"
   ]
  },
  {
   "cell_type": "code",
   "execution_count": 4,
   "id": "bab2c3ff",
   "metadata": {},
   "outputs": [
    {
     "name": "stdout",
     "output_type": "stream",
     "text": [
      "['@gmail.com', '@yahoo.com', '@2PM.', '@example.com.', '@gmail.com', '@yahoo.com', '@2PM.', '@example.com.', '@gmail.com', '@yahoo.com', '@2PM.', '@example.com.']\n"
     ]
    }
   ],
   "source": [
    "lst_1 = re.findall('@\\S+', s)\n",
    "print(lst_1)"
   ]
  },
  {
   "cell_type": "markdown",
   "id": "b95ac693",
   "metadata": {},
   "source": [
    "## Collections"
   ]
  },
  {
   "cell_type": "code",
   "execution_count": 5,
   "id": "7034b908",
   "metadata": {},
   "outputs": [],
   "source": [
    "from collections import namedtuple"
   ]
  },
  {
   "cell_type": "code",
   "execution_count": 7,
   "id": "5d550b4d",
   "metadata": {},
   "outputs": [],
   "source": [
    "point = namedtuple('Point', ['x','y'])"
   ]
  },
  {
   "cell_type": "code",
   "execution_count": 8,
   "id": "10578d4d",
   "metadata": {},
   "outputs": [
    {
     "data": {
      "text/plain": [
       "Point(x=11, y=12)"
      ]
     },
     "execution_count": 8,
     "metadata": {},
     "output_type": "execute_result"
    }
   ],
   "source": [
    "point(11,12)"
   ]
  },
  {
   "cell_type": "code",
   "execution_count": 9,
   "id": "54506601",
   "metadata": {},
   "outputs": [
    {
     "data": {
      "text/plain": [
       "Point(x=2, y=3)"
      ]
     },
     "execution_count": 9,
     "metadata": {},
     "output_type": "execute_result"
    }
   ],
   "source": [
    "point(2,3)"
   ]
  },
  {
   "cell_type": "code",
   "execution_count": 11,
   "id": "495abf1a",
   "metadata": {},
   "outputs": [],
   "source": [
    "from collections import Counter"
   ]
  },
  {
   "cell_type": "code",
   "execution_count": 12,
   "id": "22b5aeb0",
   "metadata": {},
   "outputs": [
    {
     "data": {
      "text/plain": [
       "Counter({1: 1, 3: 2, 5: 2, 6: 3, 7: 1, 4: 1, 2: 1})"
      ]
     },
     "execution_count": 12,
     "metadata": {},
     "output_type": "execute_result"
    }
   ],
   "source": [
    "A = [1,3,5,6,7,6,5,6,4,3,2]\n",
    "Counter(A)"
   ]
  },
  {
   "cell_type": "markdown",
   "id": "8a58601a",
   "metadata": {},
   "source": [
    "## Intertools"
   ]
  },
  {
   "cell_type": "code",
   "execution_count": 14,
   "id": "7509d612",
   "metadata": {},
   "outputs": [
    {
     "name": "stdout",
     "output_type": "stream",
     "text": [
      "('a', 'b')\n",
      "('a', 'c')\n",
      "('a', 'd')\n",
      "('a', 'e')\n",
      "('b', 'a')\n",
      "('b', 'c')\n",
      "('b', 'd')\n",
      "('b', 'e')\n",
      "('c', 'a')\n",
      "('c', 'b')\n",
      "('c', 'd')\n",
      "('c', 'e')\n",
      "('d', 'a')\n",
      "('d', 'b')\n",
      "('d', 'c')\n",
      "('d', 'e')\n",
      "('e', 'a')\n",
      "('e', 'b')\n",
      "('e', 'c')\n",
      "('e', 'd')\n"
     ]
    }
   ],
   "source": [
    "from itertools import permutations\n",
    "L = ['a',\"b\",\"c\",\"d\",\"e\"]\n",
    "for item in permutations(L,2):\n",
    "    print(item)"
   ]
  },
  {
   "cell_type": "code",
   "execution_count": 15,
   "id": "5c7e1899",
   "metadata": {},
   "outputs": [
    {
     "name": "stdout",
     "output_type": "stream",
     "text": [
      "('a', 'b', 'c')\n",
      "('a', 'b', 'd')\n",
      "('a', 'b', 'e')\n",
      "('a', 'c', 'b')\n",
      "('a', 'c', 'd')\n",
      "('a', 'c', 'e')\n",
      "('a', 'd', 'b')\n",
      "('a', 'd', 'c')\n",
      "('a', 'd', 'e')\n",
      "('a', 'e', 'b')\n",
      "('a', 'e', 'c')\n",
      "('a', 'e', 'd')\n",
      "('b', 'a', 'c')\n",
      "('b', 'a', 'd')\n",
      "('b', 'a', 'e')\n",
      "('b', 'c', 'a')\n",
      "('b', 'c', 'd')\n",
      "('b', 'c', 'e')\n",
      "('b', 'd', 'a')\n",
      "('b', 'd', 'c')\n",
      "('b', 'd', 'e')\n",
      "('b', 'e', 'a')\n",
      "('b', 'e', 'c')\n",
      "('b', 'e', 'd')\n",
      "('c', 'a', 'b')\n",
      "('c', 'a', 'd')\n",
      "('c', 'a', 'e')\n",
      "('c', 'b', 'a')\n",
      "('c', 'b', 'd')\n",
      "('c', 'b', 'e')\n",
      "('c', 'd', 'a')\n",
      "('c', 'd', 'b')\n",
      "('c', 'd', 'e')\n",
      "('c', 'e', 'a')\n",
      "('c', 'e', 'b')\n",
      "('c', 'e', 'd')\n",
      "('d', 'a', 'b')\n",
      "('d', 'a', 'c')\n",
      "('d', 'a', 'e')\n",
      "('d', 'b', 'a')\n",
      "('d', 'b', 'c')\n",
      "('d', 'b', 'e')\n",
      "('d', 'c', 'a')\n",
      "('d', 'c', 'b')\n",
      "('d', 'c', 'e')\n",
      "('d', 'e', 'a')\n",
      "('d', 'e', 'b')\n",
      "('d', 'e', 'c')\n",
      "('e', 'a', 'b')\n",
      "('e', 'a', 'c')\n",
      "('e', 'a', 'd')\n",
      "('e', 'b', 'a')\n",
      "('e', 'b', 'c')\n",
      "('e', 'b', 'd')\n",
      "('e', 'c', 'a')\n",
      "('e', 'c', 'b')\n",
      "('e', 'c', 'd')\n",
      "('e', 'd', 'a')\n",
      "('e', 'd', 'b')\n",
      "('e', 'd', 'c')\n"
     ]
    }
   ],
   "source": [
    "for item in permutations(L,3):\n",
    "    print(item)"
   ]
  },
  {
   "cell_type": "markdown",
   "id": "4ad4ec63",
   "metadata": {},
   "source": [
    "## OS"
   ]
  },
  {
   "cell_type": "code",
   "execution_count": 16,
   "id": "62113640",
   "metadata": {},
   "outputs": [],
   "source": [
    "import os"
   ]
  },
  {
   "cell_type": "code",
   "execution_count": 17,
   "id": "e9eb031b",
   "metadata": {},
   "outputs": [
    {
     "data": {
      "text/plain": [
       "False"
      ]
     },
     "execution_count": 17,
     "metadata": {},
     "output_type": "execute_result"
    }
   ],
   "source": [
    "path = \"plot\"\n",
    "os.path.isdir(path)"
   ]
  },
  {
   "cell_type": "code",
   "execution_count": 18,
   "id": "495069a4",
   "metadata": {},
   "outputs": [
    {
     "data": {
      "text/plain": [
       "True"
      ]
     },
     "execution_count": 18,
     "metadata": {},
     "output_type": "execute_result"
    }
   ],
   "source": [
    "path = \"17_08_2021 File Handling, JSON,CSV file.ipynb\"\n",
    "os.path.isfile(path)"
   ]
  },
  {
   "cell_type": "code",
   "execution_count": 19,
   "id": "fec3680b",
   "metadata": {},
   "outputs": [
    {
     "data": {
      "text/plain": [
       "['.ipynb_checkpoints',\n",
       " '10_08_2021 Data Structure_Lists.ipynb',\n",
       " '12_08_2021 DataStructure_Tuples,Dictionary,Numpy,Pandas,Matplotlib.ipynb',\n",
       " '12_08_2021 Loops and Conditions.ipynb',\n",
       " '16_08_2021 Functions and Classes.ipynb',\n",
       " '17_08_2021 File Handling, JSON,CSV file.ipynb',\n",
       " '20_08_2021 Standard Libraries.ipynb',\n",
       " 'data']"
      ]
     },
     "execution_count": 19,
     "metadata": {},
     "output_type": "execute_result"
    }
   ],
   "source": [
    "os.listdir()"
   ]
  },
  {
   "cell_type": "code",
   "execution_count": 21,
   "id": "d6a96f7e",
   "metadata": {},
   "outputs": [
    {
     "name": "stdout",
     "output_type": "stream",
     "text": [
      "Description                          ProcessId  \n",
      "\n",
      "System Idle Process                  0          \n",
      "\n",
      "System                               4          \n",
      "\n",
      "Registry                             100        \n",
      "\n",
      "smss.exe                             368        \n",
      "\n",
      "csrss.exe                            540        \n",
      "\n",
      "wininit.exe                          632        \n",
      "\n",
      "services.exe                         720        \n",
      "\n",
      "lsass.exe                            832        \n",
      "\n",
      "svchost.exe                          960        \n",
      "\n",
      "fontdrvhost.exe                      992        \n",
      "\n",
      "svchost.exe                          460        \n",
      "\n",
      "svchost.exe                          908        \n",
      "\n",
      "svchost.exe                          1208       \n",
      "\n",
      "svchost.exe                          1276       \n",
      "\n",
      "svchost.exe                          1272       \n",
      "\n",
      "svchost.exe                          1288       \n",
      "\n",
      "svchost.exe                          1292       \n",
      "\n",
      "svchost.exe                          1316       \n",
      "\n",
      "svchost.exe                          1324       \n",
      "\n",
      "\n"
     ]
    }
   ],
   "source": [
    "import os\n",
    "\n",
    "# Running the aforementioned command and saving its output\n",
    "output = os.popen('wmic process get description, processid').read()\n",
    "\n",
    "# Displaying the output\n",
    "print(output[0:1000])"
   ]
  },
  {
   "cell_type": "markdown",
   "id": "f9e81452",
   "metadata": {},
   "source": [
    "## Glob"
   ]
  },
  {
   "cell_type": "code",
   "execution_count": 22,
   "id": "a7114e25",
   "metadata": {},
   "outputs": [
    {
     "data": {
      "text/plain": [
       "['10_08_2021 Data Structure_Lists.ipynb',\n",
       " '12_08_2021 DataStructure_Tuples,Dictionary,Numpy,Pandas,Matplotlib.ipynb',\n",
       " '12_08_2021 Loops and Conditions.ipynb',\n",
       " '16_08_2021 Functions and Classes.ipynb',\n",
       " '17_08_2021 File Handling, JSON,CSV file.ipynb',\n",
       " '20_08_2021 Standard Libraries.ipynb']"
      ]
     },
     "execution_count": 22,
     "metadata": {},
     "output_type": "execute_result"
    }
   ],
   "source": [
    "import glob\n",
    "glob.glob('*.ipynb')"
   ]
  },
  {
   "cell_type": "markdown",
   "id": "0a8e7adb",
   "metadata": {},
   "source": [
    "## Time"
   ]
  },
  {
   "cell_type": "code",
   "execution_count": 24,
   "id": "312369fc",
   "metadata": {},
   "outputs": [
    {
     "name": "stdout",
     "output_type": "stream",
     "text": [
      "done!\n"
     ]
    },
    {
     "data": {
      "text/plain": [
       "0.016995906829833984"
      ]
     },
     "execution_count": 24,
     "metadata": {},
     "output_type": "execute_result"
    }
   ],
   "source": [
    "import time\n",
    "\n",
    "t1 = time.time()\n",
    "for i in range(100001):\n",
    "    if i ==100000:\n",
    "        print(\"done!\")\n",
    "        \n",
    "t2 = time.time()\n",
    "t2 - t1"
   ]
  },
  {
   "cell_type": "markdown",
   "id": "f88e1427",
   "metadata": {},
   "source": [
    "## Urllib"
   ]
  },
  {
   "cell_type": "code",
   "execution_count": 25,
   "id": "dc6ae52e",
   "metadata": {},
   "outputs": [],
   "source": [
    "ff = open('data/web.txt', 'w')"
   ]
  },
  {
   "cell_type": "code",
   "execution_count": 40,
   "id": "2a7109be",
   "metadata": {},
   "outputs": [],
   "source": [
    "import urllib.request\n",
    "import urllib.parse\n",
    "params = urllib.parse.urlencode({'spam':1, 'eggs':2, 'bacon':0})\n",
    "url = \"https://www.python.org/\"\n",
    "    \n",
    "with urllib.request.urlopen(url) as f:\n",
    "    ff.write(f.read().decode('utf-8'))\n",
    "    \n",
    "ff.close()"
   ]
  },
  {
   "cell_type": "markdown",
   "id": "47657c6b",
   "metadata": {},
   "source": [
    "## tqdm"
   ]
  },
  {
   "cell_type": "code",
   "execution_count": 45,
   "id": "5824197e",
   "metadata": {},
   "outputs": [
    {
     "name": "stderr",
     "output_type": "stream",
     "text": [
      "100%|██████████| 100/100 [00:20<00:00,  4.77it/s]\n"
     ]
    }
   ],
   "source": [
    "import time\n",
    "from tqdm import tqdm\n",
    "mylist = [i for i in range(100)]\n",
    "\n",
    "for i in tqdm(mylist):\n",
    "    time.sleep(0.2)"
   ]
  },
  {
   "cell_type": "code",
   "execution_count": 46,
   "id": "11cafc7f",
   "metadata": {},
   "outputs": [],
   "source": [
    "tqdm?"
   ]
  },
  {
   "cell_type": "code",
   "execution_count": null,
   "id": "479e4199",
   "metadata": {},
   "outputs": [],
   "source": []
  }
 ],
 "metadata": {
  "kernelspec": {
   "display_name": "Python 3",
   "language": "python",
   "name": "python3"
  },
  "language_info": {
   "codemirror_mode": {
    "name": "ipython",
    "version": 3
   },
   "file_extension": ".py",
   "mimetype": "text/x-python",
   "name": "python",
   "nbconvert_exporter": "python",
   "pygments_lexer": "ipython3",
   "version": "3.8.8"
  }
 },
 "nbformat": 4,
 "nbformat_minor": 5
}

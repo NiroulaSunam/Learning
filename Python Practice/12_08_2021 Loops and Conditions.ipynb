{
 "cells": [
  {
   "cell_type": "markdown",
   "id": "17abe62a",
   "metadata": {},
   "source": [
    "## For Loop"
   ]
  },
  {
   "cell_type": "code",
   "execution_count": 1,
   "id": "e089c79a",
   "metadata": {},
   "outputs": [
    {
     "name": "stdout",
     "output_type": "stream",
     "text": [
      "apple\n",
      "ball\n",
      "cat\n",
      "dog\n"
     ]
    }
   ],
   "source": [
    "L = ['apple','ball','cat','dog']\n",
    "for item in L:\n",
    "    print(item)"
   ]
  },
  {
   "cell_type": "code",
   "execution_count": 2,
   "id": "b5386f77",
   "metadata": {},
   "outputs": [
    {
     "data": {
      "text/plain": [
       "(range(0, 5), range(1, 100), 4950)"
      ]
     },
     "execution_count": 2,
     "metadata": {},
     "output_type": "execute_result"
    }
   ],
   "source": [
    "range(5),range(1,100),sum(range(100))"
   ]
  },
  {
   "cell_type": "code",
   "execution_count": 5,
   "id": "c889bf47",
   "metadata": {},
   "outputs": [
    {
     "name": "stdout",
     "output_type": "stream",
     "text": [
      "[0]\n",
      "[0, 10]\n",
      "[0, 10, 20]\n",
      "[0, 10, 20, 30]\n",
      "[0, 10, 20, 30, 40]\n",
      "[0, 10, 20, 30, 40, 50]\n",
      "[0, 10, 20, 30, 40, 50, 60]\n",
      "[0, 10, 20, 30, 40, 50, 60, 70]\n",
      "[0, 10, 20, 30, 40, 50, 60, 70, 80]\n",
      "[0, 10, 20, 30, 40, 50, 60, 70, 80, 90]\n",
      "[0, 10, 20, 30, 40, 50, 60, 70, 80, 90]\n"
     ]
    }
   ],
   "source": [
    "L=[]\n",
    "for i in range(10):\n",
    "    L.append(10*i)\n",
    "    print(L)\n",
    "print(L)"
   ]
  },
  {
   "cell_type": "code",
   "execution_count": 8,
   "id": "d7148782",
   "metadata": {},
   "outputs": [
    {
     "name": "stdout",
     "output_type": "stream",
     "text": [
      "{(0, 0): 0, (0, 1): 1, (0, 2): 2, (0, 3): 3, (0, 4): 4, (1, 0): 10, (1, 1): 101, (1, 2): 12, (1, 3): 13, (1, 4): 14, (2, 0): 20, (2, 1): 21, (2, 2): 202, (2, 3): 23, (2, 4): 24, (3, 0): 30, (3, 1): 31, (3, 2): 32, (3, 3): 303, (3, 4): 34, (4, 0): 40, (4, 1): 41, (4, 2): 42, (4, 3): 43, (4, 4): 404}\n"
     ]
    }
   ],
   "source": [
    "D={}  # Nested Loop using Dictionart\n",
    "for i in range(5):\n",
    "    for j in range(5):\n",
    "        if i==j:\n",
    "            D.update({(i,j) :100*i+j})\n",
    "        elif i!= j:\n",
    "            D.update({(i,j) :10*i+j})\n",
    "print(D)"
   ]
  },
  {
   "cell_type": "code",
   "execution_count": 3,
   "id": "ea5b8379",
   "metadata": {},
   "outputs": [
    {
     "name": "stdout",
     "output_type": "stream",
     "text": [
      "apple | 0 | k\n",
      "banana | 1 | k\n",
      "cat | 2 | k\n",
      "cellphone | 3 | k\n",
      "pen | 4 | k\n"
     ]
    }
   ],
   "source": [
    "# To iterate two elements from two separate Lists\n",
    "for item,j,k in zip(['apple','banana','cat','cellphone','pen'],range(5),[12,43,54,67,34]): \n",
    "    print (item,\"|\",j,\"|\",\"k\")"
   ]
  },
  {
   "cell_type": "code",
   "execution_count": 4,
   "id": "714a491c",
   "metadata": {},
   "outputs": [],
   "source": [
    "zip?"
   ]
  },
  {
   "cell_type": "code",
   "execution_count": 5,
   "id": "51d967f2",
   "metadata": {},
   "outputs": [],
   "source": [
    "enumerate?"
   ]
  },
  {
   "cell_type": "code",
   "execution_count": 8,
   "id": "a404473c",
   "metadata": {},
   "outputs": [
    {
     "name": "stdout",
     "output_type": "stream",
     "text": [
      "0 apple\n",
      "1 ball\n"
     ]
    }
   ],
   "source": [
    "# To iterate and enumerate both together.\n",
    "for i,item in enumerate(['apple','ball']):\n",
    "    print(i,item)"
   ]
  },
  {
   "cell_type": "code",
   "execution_count": 17,
   "id": "958f7107",
   "metadata": {},
   "outputs": [
    {
     "data": {
      "text/plain": [
       "[[1, 11, 41], [6, 16, 46], [11, 21, 51], [16, 26, 56]]"
      ]
     },
     "execution_count": 17,
     "metadata": {},
     "output_type": "execute_result"
    }
   ],
   "source": [
    "#To create a list with for loop\n",
    "A = [[10*k**2+5*y+1 for k in range(3)] for y in range(4)]\n",
    "A"
   ]
  },
  {
   "cell_type": "code",
   "execution_count": 18,
   "id": "a45c5be5",
   "metadata": {},
   "outputs": [
    {
     "name": "stdout",
     "output_type": "stream",
     "text": [
      "The ( 0 , 0 ) th element is 1\n",
      "The ( 0 , 1 ) th element is 11\n",
      "The ( 0 , 2 ) th element is 41\n",
      "The ( 1 , 0 ) th element is 6\n",
      "The ( 1 , 1 ) th element is 16\n",
      "The ( 1 , 2 ) th element is 46\n",
      "The ( 2 , 0 ) th element is 11\n",
      "The ( 2 , 1 ) th element is 21\n",
      "The ( 2 , 2 ) th element is 51\n",
      "The ( 3 , 0 ) th element is 16\n",
      "The ( 3 , 1 ) th element is 26\n",
      "The ( 3 , 2 ) th element is 56\n"
     ]
    }
   ],
   "source": [
    "# To iterate over list of list\n",
    "for i in range(4):\n",
    "    for j in range(3):\n",
    "        print(\"The\",\"(\",i,\",\",j,\")\",\"th element is\",A[i][j])"
   ]
  },
  {
   "cell_type": "code",
   "execution_count": 20,
   "id": "8524e851",
   "metadata": {},
   "outputs": [
    {
     "name": "stdout",
     "output_type": "stream",
     "text": [
      "0 th turn\n",
      "1 th turn\n",
      "2 th turn\n",
      "3 th turn\n",
      "4 th turn\n"
     ]
    }
   ],
   "source": [
    "#While Loop\n",
    "i = 0\n",
    "while i <5:\n",
    "    print(i, \"th turn\")\n",
    "    i = i+1"
   ]
  },
  {
   "cell_type": "code",
   "execution_count": 21,
   "id": "605af233",
   "metadata": {},
   "outputs": [
    {
     "name": "stdout",
     "output_type": "stream",
     "text": [
      "0\n",
      "1\n",
      "2\n",
      "3\n"
     ]
    }
   ],
   "source": [
    "# To break for loop implementing if conidition\n",
    "for i in range(10):\n",
    "    print(i)\n",
    "    if i ==3:\n",
    "        break"
   ]
  },
  {
   "cell_type": "code",
   "execution_count": 23,
   "id": "4aa6a2bf",
   "metadata": {},
   "outputs": [
    {
     "name": "stdout",
     "output_type": "stream",
     "text": [
      "Smaller than 2 and greater than 0 | 1.6014751503485134\n",
      "Smaller than 4 and greater than 2 | 2.5341760094499572\n",
      "Smaller than 6 and greater than 4 | 5.569132464194342\n",
      "Smaller than 4 and greater than 2 | 2.56699508287669\n",
      "Smaller than 4 and greater than 2 | 2.40948975434146\n",
      "Smaller than 4 and greater than 2 | 2.8785369207841285\n",
      "Smaller than 6 and greater than 4 | 5.570990147231495\n",
      "Smaller than 2 and greater than 0 | 1.4082461267229536\n",
      "Smaller than 4 and greater than 2 | 3.612805125993949\n",
      "Smaller than 4 and greater than 2 | 3.8190445033172877\n"
     ]
    }
   ],
   "source": [
    "#To test the if conditions\n",
    "import random\n",
    "for i in range(10):\n",
    "    r = random.uniform(1,6)\n",
    "    if r<2 and r>0:\n",
    "        print(\"Smaller than 2 and greater than 0\",\"|\",r)\n",
    "    elif r<4 and r>2:\n",
    "        print(\"Smaller than 4 and greater than 2\",\"|\",r)\n",
    "    elif r<6 and r>4:\n",
    "        print(\"Smaller than 6 and greater than 4\",\"|\",r)\n"
   ]
  },
  {
   "cell_type": "code",
   "execution_count": 24,
   "id": "a1b4366c",
   "metadata": {},
   "outputs": [],
   "source": [
    "random.uniform?"
   ]
  },
  {
   "cell_type": "code",
   "execution_count": 32,
   "id": "7e4e919a",
   "metadata": {},
   "outputs": [
    {
     "data": {
      "text/plain": [
       "500500"
      ]
     },
     "execution_count": 32,
     "metadata": {},
     "output_type": "execute_result"
    }
   ],
   "source": [
    "#To find sum from 0 to 1000\n",
    "s = 0\n",
    "for i in range(1000+1):\n",
    "    s = s+i\n",
    "s"
   ]
  },
  {
   "cell_type": "code",
   "execution_count": 33,
   "id": "ca5bf277",
   "metadata": {},
   "outputs": [
    {
     "data": {
      "text/plain": [
       "range(0, 12)"
      ]
     },
     "execution_count": 33,
     "metadata": {},
     "output_type": "execute_result"
    }
   ],
   "source": [
    "range(10+2)"
   ]
  },
  {
   "cell_type": "code",
   "execution_count": 34,
   "id": "b3ad7730",
   "metadata": {},
   "outputs": [
    {
     "data": {
      "text/plain": [
       "(250500, 250500)"
      ]
     },
     "execution_count": 34,
     "metadata": {},
     "output_type": "execute_result"
    }
   ],
   "source": [
    "#To find sum from 0 to 1000(even only)\n",
    "s=0\n",
    "LE=[]\n",
    "for i in range(1001):\n",
    "    if i%2==0:\n",
    "        LE.append(i)\n",
    "        s=s+i\n",
    "s, sum(LE)"
   ]
  },
  {
   "cell_type": "code",
   "execution_count": null,
   "id": "9b75a558",
   "metadata": {},
   "outputs": [],
   "source": []
  }
 ],
 "metadata": {
  "kernelspec": {
   "display_name": "Python 3",
   "language": "python",
   "name": "python3"
  },
  "language_info": {
   "codemirror_mode": {
    "name": "ipython",
    "version": 3
   },
   "file_extension": ".py",
   "mimetype": "text/x-python",
   "name": "python",
   "nbconvert_exporter": "python",
   "pygments_lexer": "ipython3",
   "version": "3.8.8"
  }
 },
 "nbformat": 4,
 "nbformat_minor": 5
}

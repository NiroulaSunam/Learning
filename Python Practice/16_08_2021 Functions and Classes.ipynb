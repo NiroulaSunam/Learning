{
 "cells": [
  {
   "cell_type": "code",
   "execution_count": 3,
   "id": "4f049b5b",
   "metadata": {},
   "outputs": [],
   "source": [
    "import numpy as np\n",
    "import random as random"
   ]
  },
  {
   "cell_type": "code",
   "execution_count": 2,
   "id": "37d6e087",
   "metadata": {},
   "outputs": [
    {
     "data": {
      "text/plain": [
       "5"
      ]
     },
     "execution_count": 2,
     "metadata": {},
     "output_type": "execute_result"
    }
   ],
   "source": [
    "sum([2,3])"
   ]
  },
  {
   "cell_type": "code",
   "execution_count": 3,
   "id": "c1c7887f",
   "metadata": {},
   "outputs": [],
   "source": [
    "def printer(message):\n",
    "    print(\"your message is:\",message)\n",
    "    return"
   ]
  },
  {
   "cell_type": "code",
   "execution_count": 4,
   "id": "eb7b7843",
   "metadata": {},
   "outputs": [
    {
     "name": "stdout",
     "output_type": "stream",
     "text": [
      "your message is: Howdy?\n"
     ]
    }
   ],
   "source": [
    "printer(\"Howdy?\")"
   ]
  },
  {
   "cell_type": "code",
   "execution_count": 5,
   "id": "d2c29bbf",
   "metadata": {},
   "outputs": [
    {
     "name": "stdout",
     "output_type": "stream",
     "text": [
      "your message is: 0\n",
      "your message is: 1\n",
      "your message is: 2\n",
      "your message is: 3\n",
      "your message is: 4\n"
     ]
    }
   ],
   "source": [
    "for i in range(5):\n",
    "    printer(i)"
   ]
  },
  {
   "cell_type": "code",
   "execution_count": 7,
   "id": "85b7b916",
   "metadata": {},
   "outputs": [],
   "source": [
    "def list2dict(L):\n",
    "    D ={}\n",
    "    for e in L:\n",
    "        D.update({e:L.index(e)})\n",
    "    return D"
   ]
  },
  {
   "cell_type": "code",
   "execution_count": 9,
   "id": "8caa86d6",
   "metadata": {},
   "outputs": [
    {
     "name": "stdout",
     "output_type": "stream",
     "text": [
      "{34: 0, 54: 1, 6: 2, 7: 3, 8: 4, 65: 5}\n"
     ]
    }
   ],
   "source": [
    "list = [34,54,6,7,8,65]\n",
    "x = list2dict(list)\n",
    "print(x)"
   ]
  },
  {
   "cell_type": "code",
   "execution_count": 10,
   "id": "e2f95bfb",
   "metadata": {},
   "outputs": [],
   "source": [
    "def dice(N):\n",
    "    roll =[]\n",
    "    for i in range(N):\n",
    "        s = random.choice([1,2,3,4,5,6])\n",
    "        roll.append(s)\n",
    "    return roll"
   ]
  },
  {
   "cell_type": "code",
   "execution_count": 11,
   "id": "965b7c38",
   "metadata": {},
   "outputs": [
    {
     "name": "stdout",
     "output_type": "stream",
     "text": [
      "[5, 6, 3, 1, 3, 3, 3, 6, 1, 4]\n"
     ]
    }
   ],
   "source": [
    "print(dice(10))"
   ]
  },
  {
   "cell_type": "code",
   "execution_count": 13,
   "id": "1d85fa3d",
   "metadata": {},
   "outputs": [],
   "source": [
    "def grader(g):\n",
    "    if g >80:\n",
    "        return \"A\"\n",
    "    elif g<80 and g>60:\n",
    "        return \"B\"\n",
    "    else:\n",
    "        return \"C\""
   ]
  },
  {
   "cell_type": "code",
   "execution_count": 16,
   "id": "1bd2e866",
   "metadata": {},
   "outputs": [
    {
     "data": {
      "text/plain": [
       "('C', 'B')"
      ]
     },
     "execution_count": 16,
     "metadata": {},
     "output_type": "execute_result"
    }
   ],
   "source": [
    "grader(23),grader(69)"
   ]
  },
  {
   "cell_type": "code",
   "execution_count": 17,
   "id": "c36ed9c1",
   "metadata": {},
   "outputs": [],
   "source": [
    "def plo(x):\n",
    "    A = 2.9\n",
    "    B = 8.7\n",
    "    C = 8.1\n",
    "    \n",
    "    y = A*x**2 + B*x + C + np.pi\n",
    "    \n",
    "    return y"
   ]
  },
  {
   "cell_type": "code",
   "execution_count": 18,
   "id": "34c9dec5",
   "metadata": {},
   "outputs": [
    {
     "data": {
      "text/plain": [
       "1745.4415926535896"
      ]
     },
     "execution_count": 18,
     "metadata": {},
     "output_type": "execute_result"
    }
   ],
   "source": [
    "plo(23)"
   ]
  },
  {
   "cell_type": "markdown",
   "id": "abc4ed2d",
   "metadata": {},
   "source": [
    "## Class Circle"
   ]
  },
  {
   "cell_type": "code",
   "execution_count": 19,
   "id": "25b53f2e",
   "metadata": {},
   "outputs": [],
   "source": [
    "def area(r):\n",
    "    A =np.pi*r**2\n",
    "    return A"
   ]
  },
  {
   "cell_type": "code",
   "execution_count": 20,
   "id": "3473c0a6",
   "metadata": {},
   "outputs": [
    {
     "data": {
      "text/plain": [
       "12.566370614359172"
      ]
     },
     "execution_count": 20,
     "metadata": {},
     "output_type": "execute_result"
    }
   ],
   "source": [
    "area(2)"
   ]
  },
  {
   "cell_type": "code",
   "execution_count": 1,
   "id": "761a74a4",
   "metadata": {},
   "outputs": [],
   "source": [
    "def circumference(r):\n",
    "    C = 2*np.pi*r\n",
    "    return C"
   ]
  },
  {
   "cell_type": "code",
   "execution_count": 4,
   "id": "992a3faf",
   "metadata": {},
   "outputs": [
    {
     "data": {
      "text/plain": [
       "31.41592653589793"
      ]
     },
     "execution_count": 4,
     "metadata": {},
     "output_type": "execute_result"
    }
   ],
   "source": [
    "circumference(5)"
   ]
  },
  {
   "cell_type": "code",
   "execution_count": 5,
   "id": "e6eb9835",
   "metadata": {},
   "outputs": [],
   "source": [
    "class Circle():\n",
    "    def __init__(self,supplied_r):\n",
    "        self.r = supplied_r\n",
    "    \n",
    "    def area(self):\n",
    "        A = np.pi*self.r**2\n",
    "        return A\n",
    "    \n",
    "    def circumference(self):\n",
    "        C = 2*np.pi*self.r\n",
    "        return C\n",
    "        "
   ]
  },
  {
   "cell_type": "code",
   "execution_count": 7,
   "id": "cfcdd175",
   "metadata": {},
   "outputs": [
    {
     "data": {
      "text/plain": [
       "78.53981633974483"
      ]
     },
     "execution_count": 7,
     "metadata": {},
     "output_type": "execute_result"
    }
   ],
   "source": [
    "C = Circle(5)\n",
    "C.area()"
   ]
  },
  {
   "cell_type": "code",
   "execution_count": 11,
   "id": "51e4cb68",
   "metadata": {},
   "outputs": [
    {
     "data": {
      "text/plain": [
       "__main__.Circle"
      ]
     },
     "execution_count": 11,
     "metadata": {},
     "output_type": "execute_result"
    }
   ],
   "source": [
    "type(C)"
   ]
  },
  {
   "cell_type": "code",
   "execution_count": 12,
   "id": "a560a751",
   "metadata": {},
   "outputs": [
    {
     "data": {
      "text/plain": [
       "5"
      ]
     },
     "execution_count": 12,
     "metadata": {},
     "output_type": "execute_result"
    }
   ],
   "source": [
    "C.r"
   ]
  },
  {
   "cell_type": "code",
   "execution_count": 13,
   "id": "d3cc5aba",
   "metadata": {},
   "outputs": [
    {
     "data": {
      "text/plain": [
       "31.41592653589793"
      ]
     },
     "execution_count": 13,
     "metadata": {},
     "output_type": "execute_result"
    }
   ],
   "source": [
    "C.circumference()"
   ]
  },
  {
   "cell_type": "code",
   "execution_count": 14,
   "id": "d7af44b9",
   "metadata": {},
   "outputs": [
    {
     "data": {
      "text/plain": [
       "28.274333882308138"
      ]
     },
     "execution_count": 14,
     "metadata": {},
     "output_type": "execute_result"
    }
   ],
   "source": [
    "Circle(3).area()"
   ]
  },
  {
   "cell_type": "code",
   "execution_count": 20,
   "id": "ca24ce19",
   "metadata": {},
   "outputs": [
    {
     "name": "stdout",
     "output_type": "stream",
     "text": [
      "radius: 2 area 12.566370614359172 circumference 12.566370614359172\n",
      "radius: 4 area 50.26548245743669 circumference 25.132741228718345\n",
      "radius: 6 area 113.09733552923255 circumference 37.69911184307752\n",
      "radius: 8 area 201.06192982974676 circumference 50.26548245743669\n",
      "radius: 67 area 14102.609421964582 circumference 420.97341558103227\n",
      "[2, 4, 6, 8, 67] [12.566370614359172, 50.26548245743669, 113.09733552923255, 201.06192982974676, 14102.609421964582] [12.566370614359172, 25.132741228718345, 37.69911184307752, 50.26548245743669, 420.97341558103227]\n"
     ]
    }
   ],
   "source": [
    "# To use class and object multiple time\n",
    "R = []\n",
    "A = []\n",
    "C = []\n",
    "for r in [2,4,6,8,67]:\n",
    "    CC = Circle(r)\n",
    "    print(\"radius:\",CC.r,\"area\",CC.area(),\"circumference\",CC.circumference())\n",
    "    R.append(CC.r)\n",
    "    A.append(CC.area())\n",
    "    C.append(CC.circumference())\n",
    "print(R,A,C)"
   ]
  },
  {
   "cell_type": "code",
   "execution_count": 27,
   "id": "00ec197d",
   "metadata": {},
   "outputs": [
    {
     "data": {
      "image/png": "[encoded data removed]",
      "text/plain": [
       "<Figure size 432x288 with 1 Axes>"
      ]
     },
     "metadata": {
      "needs_background": "light"
     },
     "output_type": "display_data"
    }
   ],
   "source": [
    "import matplotlib.pyplot as plt\n",
    "plt.plot(R,A)\n",
    "plt.show()"
   ]
  },
  {
   "cell_type": "code",
   "execution_count": 28,
   "id": "679581a8",
   "metadata": {},
   "outputs": [
    {
     "data": {
      "text/plain": [
       "<function matplotlib.pyplot.show(close=None, block=None)>"
      ]
     },
     "execution_count": 28,
     "metadata": {},
     "output_type": "execute_result"
    },
    {
     "data": {
      "image/png": "[encoded data removed]",
      "text/plain": [
       "<Figure size 432x288 with 1 Axes>"
      ]
     },
     "metadata": {
      "needs_background": "light"
     },
     "output_type": "display_data"
    }
   ],
   "source": [
    "plt.plot(R,C)\n",
    "plt.show"
   ]
  },
  {
   "cell_type": "markdown",
   "id": "3bb1b454",
   "metadata": {},
   "source": [
    "## Class Gravity"
   ]
  },
  {
   "cell_type": "code",
   "execution_count": 29,
   "id": "f1cb025c",
   "metadata": {},
   "outputs": [],
   "source": [
    "class Newton():\n",
    "    def __init__(self,value_of_G, value_of_g, supplied_info):\n",
    "        self.G = value_of_G\n",
    "        self.info = supplied_info\n",
    "        self.g = value_of_g\n",
    "        \n",
    "    def gravity(self,m1,m2,d):\n",
    "        F = self.G*(m1*m2)/d**2\n",
    "        print(self.info)\n",
    "        return F\n",
    "    \n",
    "    def gravity_pot(self,m1):\n",
    "        F = m1*self.g\n",
    "        return F"
   ]
  },
  {
   "cell_type": "code",
   "execution_count": 35,
   "id": "19271d0b",
   "metadata": {},
   "outputs": [
    {
     "name": "stdout",
     "output_type": "stream",
     "text": [
      "great job\n",
      "2.5125\n",
      "19.6\n"
     ]
    }
   ],
   "source": [
    "N1 = Newton(value_of_G =6.7, value_of_g= 9.8,supplied_info = \"great job\")\n",
    "print(N1.gravity(2,3,4))\n",
    "print(N1.gravity_pot(2))"
   ]
  },
  {
   "cell_type": "markdown",
   "id": "09a1d7ce",
   "metadata": {},
   "source": [
    "## Class Dice"
   ]
  },
  {
   "cell_type": "code",
   "execution_count": 36,
   "id": "9630891d",
   "metadata": {},
   "outputs": [],
   "source": [
    "class Dice(object):\n",
    "    \n",
    "    def __init__(self,A_value,B_value,C_value):\n",
    "        self.pi = 3.14\n",
    "        self.A = A_value\n",
    "        self.B = B_value\n",
    "        self.C = C_value\n",
    "        \n",
    "    def find_sum(self,n1,n2):\n",
    "        S = n1+n2\n",
    "        return S\n",
    "    \n",
    "    def find_product(self,n1,n2):\n",
    "        P = n1*n2\n",
    "        return P\n",
    "    \n",
    "    def poly(self,x):\n",
    "        pl = self.A*self.find_product(x,x)+self.B*x +self.C\n",
    "        \n",
    "    def roll_dice(self):\n",
    "        side = random.choice([1,2,3,4,5,6])\n",
    "        return side\n",
    "    \n",
    "    def roll_two_dices(self):\n",
    "        d1 = self.roll_dice()\n",
    "        d2 = self.roll_dice()\n",
    "        p = self.find_product(d1,d2)\n",
    "        s = self.find_sum(d1,d2)\n",
    "        return d1,d2,s,p"
   ]
  },
  {
   "cell_type": "code",
   "execution_count": 37,
   "id": "7ef2c14c",
   "metadata": {},
   "outputs": [],
   "source": [
    "A = 2.3; B=4.5; C =8.9\n",
    "D = Dice(A,B,C)"
   ]
  },
  {
   "cell_type": "code",
   "execution_count": 38,
   "id": "c9e5de11",
   "metadata": {},
   "outputs": [
    {
     "data": {
      "text/plain": [
       "3"
      ]
     },
     "execution_count": 38,
     "metadata": {},
     "output_type": "execute_result"
    }
   ],
   "source": [
    "D.roll_dice()"
   ]
  },
  {
   "cell_type": "code",
   "execution_count": 39,
   "id": "07c5506a",
   "metadata": {},
   "outputs": [
    {
     "data": {
      "text/plain": [
       "(4, 6, 10, 24)"
      ]
     },
     "execution_count": 39,
     "metadata": {},
     "output_type": "execute_result"
    }
   ],
   "source": [
    "D.roll_two_dices()"
   ]
  },
  {
   "cell_type": "code",
   "execution_count": 44,
   "id": "127e0b58",
   "metadata": {},
   "outputs": [],
   "source": [
    "d = D.roll_dice()\n",
    "D.poly(d)"
   ]
  },
  {
   "cell_type": "code",
   "execution_count": null,
   "id": "cc32a43c",
   "metadata": {},
   "outputs": [],
   "source": []
  }
 ],
 "metadata": {
  "kernelspec": {
   "display_name": "Python 3",
   "language": "python",
   "name": "python3"
  },
  "language_info": {
   "codemirror_mode": {
    "name": "ipython",
    "version": 3
   },
   "file_extension": ".py",
   "mimetype": "text/x-python",
   "name": "python",
   "nbconvert_exporter": "python",
   "pygments_lexer": "ipython3",
   "version": "3.8.8"
  }
 },
 "nbformat": 4,
 "nbformat_minor": 5
}

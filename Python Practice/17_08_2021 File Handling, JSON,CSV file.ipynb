{
 "cells": [
  {
   "cell_type": "code",
   "execution_count": 1,
   "id": "86c0b133",
   "metadata": {},
   "outputs": [],
   "source": [
    "import json as json\n",
    "import pandas as pd\n",
    "import numpy as np\n",
    "import matplotlib.pyplot as plt\n",
    "import random as random\n",
    "%matplotlib inline"
   ]
  },
  {
   "cell_type": "code",
   "execution_count": 2,
   "id": "279989e6",
   "metadata": {},
   "outputs": [],
   "source": [
    "#mkdir newfolder"
   ]
  },
  {
   "cell_type": "code",
   "execution_count": 2,
   "id": "39ac9b27",
   "metadata": {},
   "outputs": [
    {
     "name": "stderr",
     "output_type": "stream",
     "text": [
      "A subdirectory or file data already exists.\n"
     ]
    }
   ],
   "source": [
    "mkdir data"
   ]
  },
  {
   "cell_type": "code",
   "execution_count": 3,
   "id": "100b713c",
   "metadata": {},
   "outputs": [],
   "source": [
    "with open('data/text.txt', 'w') as file:\n",
    "    for k in range(100):\n",
    "        file.write(\"it is your\" + str(k) + \"th turn! \\n\")"
   ]
  },
  {
   "cell_type": "code",
   "execution_count": 4,
   "id": "53fc5cbb",
   "metadata": {},
   "outputs": [],
   "source": [
    "txtfile = open(\"data/text.txt\", 'w')"
   ]
  },
  {
   "cell_type": "code",
   "execution_count": 5,
   "id": "731add50",
   "metadata": {},
   "outputs": [],
   "source": [
    "for i in range(1000):\n",
    "    '''chech even or odd'''\n",
    "    if i%2 ==0:\n",
    "        txtfile.write(str(i)+\"|It is even \\n\")\n",
    "        \n",
    "        '''check above or below 500'''\n",
    "        if i<500:\n",
    "            txtfile.write(str(i) + \"|It is below 500 \\n\")\n",
    "        else:\n",
    "            txtfile.write(str(i) + \"|It is above 500 \\n\")\n",
    "\n",
    "    else:\n",
    "        txtfile.write(str(i) + \"|It is odd \\n\")\n",
    "        '''check above or below 500'''\n",
    "        if i<500:\n",
    "            txtfile.write(str(i) + \"|It is below 500 \\n\")\n",
    "        else:\n",
    "            txtfile.write(str(i) + \"|It is above 500 \\n\")\n",
    "txtfile.close()"
   ]
  },
  {
   "cell_type": "code",
   "execution_count": 8,
   "id": "872a1780",
   "metadata": {},
   "outputs": [
    {
     "name": "stdout",
     "output_type": "stream",
     "text": [
      "0|It is even \n",
      "\n",
      "0|It is below 500 \n",
      "\n",
      "1|It is odd \n",
      "\n",
      "1|It is below 500 \n",
      "\n",
      "2|It is even \n",
      "\n",
      "2|It is below 500 \n",
      "\n",
      "3|It is odd \n",
      "\n",
      "3|It is below 500 \n",
      "\n",
      "4|It is even \n",
      "\n",
      "4|It is below 500 \n",
      "\n",
      "5|It is odd \n",
      "\n",
      "5|It is below 500 \n",
      "\n",
      "6|It is even \n",
      "\n",
      "6|It is below 500 \n",
      "\n"
     ]
    }
   ],
   "source": [
    "with open('data/text.txt','r') as f:\n",
    "    i = 0\n",
    "    for line in f:\n",
    "        print(line)\n",
    "        if i >12:\n",
    "            break\n",
    "        i = i+1"
   ]
  },
  {
   "cell_type": "markdown",
   "id": "995f7490",
   "metadata": {},
   "source": [
    "## JSON file"
   ]
  },
  {
   "cell_type": "code",
   "execution_count": 9,
   "id": "0346afd7",
   "metadata": {},
   "outputs": [],
   "source": [
    "Data = []\n",
    "for k in range(1000):\n",
    "    Data.append({\"x\": np.random.uniform(0,10),\\\n",
    "                \"y\": np.random.uniform(0,10),\\\n",
    "                \"z\": np.random.uniform(0,10)})"
   ]
  },
  {
   "cell_type": "code",
   "execution_count": 14,
   "id": "4385f8f5",
   "metadata": {},
   "outputs": [
    {
     "data": {
      "text/plain": [
       "[{'x': 8.846878541434469, 'y': 0.9100902536206412, 'z': 4.311493259117528},\n",
       " {'x': 0.03880881089774468, 'y': 9.282279167206053, 'z': 5.363032700959395},\n",
       " {'x': 6.11376715402805, 'y': 2.240259118887743, 'z': 8.612852853987375},\n",
       " {'x': 1.144454615497017, 'y': 6.930250489512382, 'z': 4.280892588175947}]"
      ]
     },
     "execution_count": 14,
     "metadata": {},
     "output_type": "execute_result"
    }
   ],
   "source": [
    "Data[101:105]"
   ]
  },
  {
   "cell_type": "code",
   "execution_count": 15,
   "id": "ee2ac26f",
   "metadata": {},
   "outputs": [
    {
     "name": "stderr",
     "output_type": "stream",
     "text": [
      "A subdirectory or file data already exists.\n"
     ]
    }
   ],
   "source": [
    "mkdir data"
   ]
  },
  {
   "cell_type": "code",
   "execution_count": 16,
   "id": "cea6df64",
   "metadata": {},
   "outputs": [],
   "source": [
    "with open(\"data/sample_data.json\", 'w') as f:\n",
    "    json.dump(Data,f)"
   ]
  },
  {
   "cell_type": "code",
   "execution_count": 17,
   "id": "1461e9a1",
   "metadata": {},
   "outputs": [],
   "source": [
    "with open(\"data/sample_data.json\", 'r') as f:\n",
    "    uploaded_data = json.load(f)"
   ]
  },
  {
   "cell_type": "code",
   "execution_count": 18,
   "id": "0d1464f6",
   "metadata": {},
   "outputs": [
    {
     "data": {
      "text/plain": [
       "[{'x': 8.964258055863658, 'y': 7.324761700200089, 'z': 0.02409740596417076},\n",
       " {'x': 2.604872447178707, 'y': 5.217801203083596, 'z': 1.7845944368721411}]"
      ]
     },
     "execution_count": 18,
     "metadata": {},
     "output_type": "execute_result"
    }
   ],
   "source": [
    "uploaded_data[0:2]"
   ]
  },
  {
   "cell_type": "markdown",
   "id": "ee2909df",
   "metadata": {},
   "source": [
    "## CSV file"
   ]
  },
  {
   "cell_type": "code",
   "execution_count": 20,
   "id": "1727ff7f",
   "metadata": {},
   "outputs": [
    {
     "data": {
      "text/html": [
       "<div>\n",
       "<style scoped>\n",
       "    .dataframe tbody tr th:only-of-type {\n",
       "        vertical-align: middle;\n",
       "    }\n",
       "\n",
       "    .dataframe tbody tr th {\n",
       "        vertical-align: top;\n",
       "    }\n",
       "\n",
       "    .dataframe thead th {\n",
       "        text-align: right;\n",
       "    }\n",
       "</style>\n",
       "<table border=\"1\" class=\"dataframe\">\n",
       "  <thead>\n",
       "    <tr style=\"text-align: right;\">\n",
       "      <th></th>\n",
       "      <th>x</th>\n",
       "      <th>y</th>\n",
       "      <th>z</th>\n",
       "    </tr>\n",
       "  </thead>\n",
       "  <tbody>\n",
       "    <tr>\n",
       "      <th>0</th>\n",
       "      <td>8.964258</td>\n",
       "      <td>7.324762</td>\n",
       "      <td>0.024097</td>\n",
       "    </tr>\n",
       "    <tr>\n",
       "      <th>1</th>\n",
       "      <td>2.604872</td>\n",
       "      <td>5.217801</td>\n",
       "      <td>1.784594</td>\n",
       "    </tr>\n",
       "    <tr>\n",
       "      <th>2</th>\n",
       "      <td>8.746483</td>\n",
       "      <td>4.315208</td>\n",
       "      <td>9.764050</td>\n",
       "    </tr>\n",
       "    <tr>\n",
       "      <th>3</th>\n",
       "      <td>0.967390</td>\n",
       "      <td>8.072818</td>\n",
       "      <td>3.484379</td>\n",
       "    </tr>\n",
       "    <tr>\n",
       "      <th>4</th>\n",
       "      <td>4.308542</td>\n",
       "      <td>5.383924</td>\n",
       "      <td>6.937674</td>\n",
       "    </tr>\n",
       "  </tbody>\n",
       "</table>\n",
       "</div>"
      ],
      "text/plain": [
       "          x         y         z\n",
       "0  8.964258  7.324762  0.024097\n",
       "1  2.604872  5.217801  1.784594\n",
       "2  8.746483  4.315208  9.764050\n",
       "3  0.967390  8.072818  3.484379\n",
       "4  4.308542  5.383924  6.937674"
      ]
     },
     "execution_count": 20,
     "metadata": {},
     "output_type": "execute_result"
    }
   ],
   "source": [
    "DF = pd.DataFrame(Data)\n",
    "DF.head()"
   ]
  },
  {
   "cell_type": "code",
   "execution_count": 21,
   "id": "581ca8fd",
   "metadata": {},
   "outputs": [],
   "source": [
    "DF.to_csv('data/sampledata.csv')"
   ]
  },
  {
   "cell_type": "code",
   "execution_count": 23,
   "id": "3b711621",
   "metadata": {},
   "outputs": [],
   "source": [
    "uploaded_data = pd.read_csv(\"data/sampledata.csv\")"
   ]
  },
  {
   "cell_type": "code",
   "execution_count": 24,
   "id": "eb977d9e",
   "metadata": {},
   "outputs": [
    {
     "data": {
      "text/html": [
       "<div>\n",
       "<style scoped>\n",
       "    .dataframe tbody tr th:only-of-type {\n",
       "        vertical-align: middle;\n",
       "    }\n",
       "\n",
       "    .dataframe tbody tr th {\n",
       "        vertical-align: top;\n",
       "    }\n",
       "\n",
       "    .dataframe thead th {\n",
       "        text-align: right;\n",
       "    }\n",
       "</style>\n",
       "<table border=\"1\" class=\"dataframe\">\n",
       "  <thead>\n",
       "    <tr style=\"text-align: right;\">\n",
       "      <th></th>\n",
       "      <th>Unnamed: 0</th>\n",
       "      <th>x</th>\n",
       "      <th>y</th>\n",
       "      <th>z</th>\n",
       "    </tr>\n",
       "  </thead>\n",
       "  <tbody>\n",
       "    <tr>\n",
       "      <th>0</th>\n",
       "      <td>0</td>\n",
       "      <td>8.964258</td>\n",
       "      <td>7.324762</td>\n",
       "      <td>0.024097</td>\n",
       "    </tr>\n",
       "    <tr>\n",
       "      <th>1</th>\n",
       "      <td>1</td>\n",
       "      <td>2.604872</td>\n",
       "      <td>5.217801</td>\n",
       "      <td>1.784594</td>\n",
       "    </tr>\n",
       "    <tr>\n",
       "      <th>2</th>\n",
       "      <td>2</td>\n",
       "      <td>8.746483</td>\n",
       "      <td>4.315208</td>\n",
       "      <td>9.764050</td>\n",
       "    </tr>\n",
       "    <tr>\n",
       "      <th>3</th>\n",
       "      <td>3</td>\n",
       "      <td>0.967390</td>\n",
       "      <td>8.072818</td>\n",
       "      <td>3.484379</td>\n",
       "    </tr>\n",
       "    <tr>\n",
       "      <th>4</th>\n",
       "      <td>4</td>\n",
       "      <td>4.308542</td>\n",
       "      <td>5.383924</td>\n",
       "      <td>6.937674</td>\n",
       "    </tr>\n",
       "  </tbody>\n",
       "</table>\n",
       "</div>"
      ],
      "text/plain": [
       "   Unnamed: 0         x         y         z\n",
       "0           0  8.964258  7.324762  0.024097\n",
       "1           1  2.604872  5.217801  1.784594\n",
       "2           2  8.746483  4.315208  9.764050\n",
       "3           3  0.967390  8.072818  3.484379\n",
       "4           4  4.308542  5.383924  6.937674"
      ]
     },
     "execution_count": 24,
     "metadata": {},
     "output_type": "execute_result"
    }
   ],
   "source": [
    "uploaded_data.head()"
   ]
  },
  {
   "cell_type": "code",
   "execution_count": null,
   "id": "e8bef8dd",
   "metadata": {},
   "outputs": [],
   "source": []
  }
 ],
 "metadata": {
  "kernelspec": {
   "display_name": "Python 3",
   "language": "python",
   "name": "python3"
  },
  "language_info": {
   "codemirror_mode": {
    "name": "ipython",
    "version": 3
   },
   "file_extension": ".py",
   "mimetype": "text/x-python",
   "name": "python",
   "nbconvert_exporter": "python",
   "pygments_lexer": "ipython3",
   "version": "3.8.8"
  }
 },
 "nbformat": 4,
 "nbformat_minor": 5
}

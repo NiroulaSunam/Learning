{
 "cells": [
  {
   "cell_type": "markdown",
   "metadata": {},
   "source": [
    "# Class"
   ]
  },
  {
   "cell_type": "code",
   "execution_count": 5,
   "metadata": {},
   "outputs": [
    {
     "name": "stdout",
     "output_type": "stream",
     "text": [
      "Ram\n",
      "Sharma\n",
      "Ram.Singh@gmail.com\n"
     ]
    }
   ],
   "source": [
    "class Student():\n",
    "    \n",
    "    def __init__(self,first,last,marks):\n",
    "        self.first = first\n",
    "        self.last = last\n",
    "        self.marks = marks\n",
    "        self.email = first + '.' + last + '@gmail.com'\n",
    "        \n",
    "Std_1 = Student('Ram','Singh',45)\n",
    "Std_2 = Student('Shyam','Sharma',56)\n",
    "\n",
    "print(Std_1.first)\n",
    "print(Std_2.last)\n",
    "print(Std_1.email)"
   ]
  },
  {
   "cell_type": "markdown",
   "metadata": {},
   "source": [
    "Here, we tried to use class to make it easier to find the name. \n",
    "\n",
    "Either we had to do it separately for every student which is not possible for a very large number of students\n",
    "\n",
    "So, we made a class which contains all the documents that we have to enter and we can just add a variable to add the names."
   ]
  },
  {
   "cell_type": "code",
   "execution_count": 6,
   "metadata": {},
   "outputs": [
    {
     "name": "stdout",
     "output_type": "stream",
     "text": [
      "Ram Singh\n"
     ]
    }
   ],
   "source": [
    "class Student():\n",
    "    \n",
    "    def __init__(self,first,last,marks):\n",
    "        self.first = first\n",
    "        self.last = last\n",
    "        self.marks = marks\n",
    "        self.email = first + '.' + last + '@gmail.com'\n",
    "        \n",
    "Std_1 = Student('Ram','Singh',45)\n",
    "Std_2 = Student('Shyam','Sharma',56)\n",
    "\n",
    "print('{} {}'.format(Std_1.first,Std_1.last))"
   ]
  },
  {
   "cell_type": "markdown",
   "metadata": {},
   "source": [
    "Printing Full name of Student 1 but it will be a long code for a large number of students. \n",
    "\n",
    "So we use the following code to make it more easier and to know more deeply the about the self used in the class"
   ]
  },
  {
   "cell_type": "code",
   "execution_count": 7,
   "metadata": {},
   "outputs": [
    {
     "name": "stdout",
     "output_type": "stream",
     "text": [
      "Ram Singh\n",
      "Shyam Sharma\n"
     ]
    }
   ],
   "source": [
    "class Student():\n",
    "    \n",
    "    def __init__(self,first,last,marks):\n",
    "        self.first = first\n",
    "        self.last = last\n",
    "        self.marks = marks\n",
    "        self.email = first + '.' + last + '@gmail.com'\n",
    "        \n",
    "    def fullname(self):\n",
    "        \n",
    "        return '{} {}'.format(self.first,self.last)\n",
    "        \n",
    "Std_1 = Student('Ram','Singh',45)\n",
    "Std_2 = Student('Shyam','Sharma',56)\n",
    "\n",
    "print(Std_1.fullname())\n",
    "print(Std_2.fullname())"
   ]
  },
  {
   "cell_type": "markdown",
   "metadata": {},
   "source": [
    "Here, we printed the fullname easily for all the students by defining a function inside the class"
   ]
  },
  {
   "cell_type": "code",
   "execution_count": 8,
   "metadata": {},
   "outputs": [
    {
     "name": "stdout",
     "output_type": "stream",
     "text": [
      "45\n",
      "47\n",
      "56\n",
      "58\n"
     ]
    }
   ],
   "source": [
    "class Student():\n",
    "    \n",
    "    perc_raise = 1.05\n",
    "    \n",
    "    def __init__(self,first,last,marks):\n",
    "        self.first = first\n",
    "        self.last = last\n",
    "        self.marks = marks\n",
    "        self.email = first + '.' + last + '@gmail.com'\n",
    "        \n",
    "    def fullname(self):\n",
    "        \n",
    "        return '{} {}'.format(self.first,self.last)\n",
    "    \n",
    "    def apply_raise(self):\n",
    "        self.marks = int(self.marks * 1.05)\n",
    "        \n",
    "Std_1 = Student('Ram','Singh',45)\n",
    "Std_2 = Student('Shyam','Sharma',56)\n",
    "\n",
    "print(Std_1.marks)\n",
    "Std_1.apply_raise()\n",
    "print(Std_1.marks)\n",
    "\n",
    "print(Std_2.marks)\n",
    "Std_2.apply_raise()\n",
    "print(Std_2.marks)\n"
   ]
  },
  {
   "cell_type": "markdown",
   "metadata": {},
   "source": [
    "Here, we applied a raise to the marks obtained and also we defined an float variable"
   ]
  },
  {
   "cell_type": "code",
   "execution_count": 9,
   "metadata": {},
   "outputs": [
    {
     "name": "stdout",
     "output_type": "stream",
     "text": [
      "{'first': 'Ram', 'last': 'Singh', 'marks': 47, 'email': 'Ram.Singh@gmail.com'}\n",
      "{'__module__': '__main__', 'perc_raise': 1.05, '__init__': <function Student.__init__ at 0x000002ACA77E3DC0>, 'fullname': <function Student.fullname at 0x000002ACA77E3820>, 'apply_raise': <function Student.apply_raise at 0x000002ACA77E3310>, '__dict__': <attribute '__dict__' of 'Student' objects>, '__weakref__': <attribute '__weakref__' of 'Student' objects>, '__doc__': None}\n"
     ]
    }
   ],
   "source": [
    "print(Std_1.__dict__)\n",
    "print(Student.__dict__)"
   ]
  },
  {
   "cell_type": "markdown",
   "metadata": {},
   "source": [
    "The first only gives the dictionary values of the Student 1 along with the function that defines it fullname\n",
    "\n",
    "While the second also gives the integer that are defined in the class"
   ]
  },
  {
   "cell_type": "markdown",
   "metadata": {},
   "source": [
    "## Class Inheritance"
   ]
  },
  {
   "cell_type": "markdown",
   "metadata": {},
   "source": [
    "We can use Class Inheritance for following:\n",
    "- when i need to change to two different phases of the equations depending on the answers. If I have a main class to determine the main work and sub classes for defining two different ways on which the main work can go to; the I can use if statement to use those classes separately and going on parallels depending on the point at which the main work crosses to sub classes"
   ]
  },
  {
   "cell_type": "code",
   "execution_count": 5,
   "metadata": {},
   "outputs": [
    {
     "name": "stdout",
     "output_type": "stream",
     "text": [
      "1.1\n"
     ]
    }
   ],
   "source": [
    "class Student():\n",
    "    \n",
    "    perc_raise = 1.05\n",
    "    \n",
    "    def __init__(self,first,last,marks):\n",
    "        self.first = first\n",
    "        self.last = last\n",
    "        self.marks = marks\n",
    "        self.email = first + '.' + last + '@gmail.com'\n",
    "        \n",
    "    def fullname(self):\n",
    "        \n",
    "        return '{} {}'.format(self.first,self.last)\n",
    "    \n",
    "    def apply_raise(self):\n",
    "        self.marks = int(self.marks * 1.05)\n",
    "        \n",
    "class Dumb(Student):\n",
    "    \n",
    "    perc_raise = 1.10\n",
    "\n",
    "Std_1 = Dumb('Ram','Singh',45)\n",
    "print(Std_1.perc_raise)       "
   ]
  },
  {
   "cell_type": "markdown",
   "metadata": {},
   "source": [
    "Here, we have changed the variable for the per_raise of Dumb class. When we use dumb class we will get per_raise of 1.1 while we use Student class, we will still get per_raise of 1.05"
   ]
  },
  {
   "cell_type": "code",
   "execution_count": 6,
   "metadata": {},
   "outputs": [
    {
     "name": "stdout",
     "output_type": "stream",
     "text": [
      "Python\n"
     ]
    }
   ],
   "source": [
    "class Student():\n",
    "    \n",
    "    perc_raise = 1.05\n",
    "    \n",
    "    def __init__(self,first,last,marks):\n",
    "        self.first = first\n",
    "        self.last = last\n",
    "        self.marks = marks\n",
    "        self.email = first + '.' + last + '@gmail.com'\n",
    "        \n",
    "    def fullname(self):\n",
    "        \n",
    "        return '{} {}'.format(self.first,self.last)\n",
    "    \n",
    "    def apply_raise(self):\n",
    "        self.marks = int(self.marks * 1.05)\n",
    "        \n",
    "class Dumb(Student):\n",
    "    \n",
    "    per_raise = 1.10\n",
    "    \n",
    "    def __init__(self,first,last,marks,prog_lang):\n",
    "        super().__init__(first,last,marks)  # We are using the super to get the init defined from student to dumb using few codes\n",
    "        self.prog_lang = prog_lang\n",
    "        \n",
    "Std_1 = Dumb('Ram','Singh',45,'Python')\n",
    "print(Std_1.prog_lang)       "
   ]
  },
  {
   "cell_type": "markdown",
   "metadata": {},
   "source": [
    "Here we used **Super** function to get the init defined on the main class to the sub class and we extended the prog_lang in the Dumb class which will not affect the Student class."
   ]
  },
  {
   "cell_type": "markdown",
   "metadata": {},
   "source": [
    "## Abstract Classes"
   ]
  },
  {
   "cell_type": "code",
   "execution_count": 7,
   "metadata": {},
   "outputs": [
    {
     "name": "stdout",
     "output_type": "stream",
     "text": [
      "11000.0\n",
      "Web Developer\n"
     ]
    }
   ],
   "source": [
    "from abc import ABC, abstractmethod # ABC = Abstract Base class\n",
    "\n",
    "class Employee():\n",
    "    @abstractmethod\n",
    "    \n",
    "    def cal_sal(self,sal):  # Calculate Salary\n",
    "        \n",
    "        pass\n",
    "    \n",
    "class Developer(Employee):\n",
    "    \n",
    "    def cal_sal(self,sal):\n",
    "        finalsal = sal*1.10\n",
    "        return finalsal\n",
    "    \n",
    "    def position_1(self,Post):\n",
    "        self.Post = Post\n",
    "        return Post\n",
    "    \n",
    "emp_1 = Developer()\n",
    "print(emp_1.cal_sal(10000))\n",
    "print(emp_1.position_1('Web Developer'))   "
   ]
  },
  {
   "cell_type": "markdown",
   "metadata": {},
   "source": [
    "Here, In the above equation, we cannot use **Employee** class directly but instead we use **Developer** class to use the salary part of the Employee. Doing this, we can use **Employee** class for not only **Developer** class but we can also use it for many other classes by using the same **abstract class** Employee"
   ]
  }
 ],
 "metadata": {
  "kernelspec": {
   "display_name": "Python 3",
   "language": "python",
   "name": "python3"
  },
  "language_info": {
   "codemirror_mode": {
    "name": "ipython",
    "version": 3
   },
   "file_extension": ".py",
   "mimetype": "text/x-python",
   "name": "python",
   "nbconvert_exporter": "python",
   "pygments_lexer": "ipython3",
   "version": "3.8.3"
  }
 },
 "nbformat": 4,
 "nbformat_minor": 4
}

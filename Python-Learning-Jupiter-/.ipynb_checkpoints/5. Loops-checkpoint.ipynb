{
 "cells": [
  {
   "cell_type": "markdown",
   "metadata": {},
   "source": [
    "# Control Flow (Loops)"
   ]
  },
  {
   "cell_type": "code",
   "execution_count": 12,
   "metadata": {},
   "outputs": [
    {
     "name": "stdout",
     "output_type": "stream",
     "text": [
      "Max iterations: 11\n",
      "1\n",
      "2\n",
      "3\n",
      "4\n",
      "5\n",
      "6\n",
      "7\n",
      "8\n",
      "9\n",
      "10\n",
      "11\n",
      "done\n"
     ]
    }
   ],
   "source": [
    "n = int(input('Max iterations: '))\n",
    "i = 1\n",
    "while  i<=n :\n",
    "    print(i)\n",
    "    i += 1      # i = i + 1\n",
    "print('done')"
   ]
  },
  {
   "cell_type": "markdown",
   "metadata": {},
   "source": [
    "## Finding out the even numbers till a given number"
   ]
  },
  {
   "cell_type": "code",
   "execution_count": 15,
   "metadata": {},
   "outputs": [
    {
     "name": "stdout",
     "output_type": "stream",
     "text": [
      "Enter the number till which you want to find the even numbers: 23\n",
      "The given even numbers are:\n",
      "2\n",
      "4\n",
      "6\n",
      "8\n",
      "10\n",
      "12\n",
      "14\n",
      "16\n",
      "18\n",
      "20\n",
      "22\n",
      "Program End\n"
     ]
    }
   ],
   "source": [
    "n = int(input('Enter the number till which you want to find the even numbers: '))\n",
    "i = 1\n",
    "print(\"The given even numbers are:\")\n",
    "while i<=n:\n",
    "    if i%2 == 0:\n",
    "        print(i)\n",
    "    i += 1\n",
    "print('Program End')"
   ]
  },
  {
   "cell_type": "markdown",
   "metadata": {},
   "source": [
    "## Loops: Breaks and Continue"
   ]
  },
  {
   "cell_type": "markdown",
   "metadata": {},
   "source": [
    "### Find out whether any number under a number is divisible by 13"
   ]
  },
  {
   "cell_type": "code",
   "execution_count": 13,
   "metadata": {},
   "outputs": [
    {
     "name": "stdout",
     "output_type": "stream",
     "text": [
      "Enter the number: 13\n",
      " is   divisible by 3\n"
     ]
    }
   ],
   "source": [
    "n = int(input('Enter the number: '))\n",
    "i = 1\n",
    "print(\" is \",\"\" if(n%13==0) else \" not \",\"divisible by 3\")"
   ]
  },
  {
   "cell_type": "markdown",
   "metadata": {},
   "source": [
    "#### The above is solved using Ternary operation"
   ]
  },
  {
   "cell_type": "code",
   "execution_count": 17,
   "metadata": {},
   "outputs": [
    {
     "name": "stdout",
     "output_type": "stream",
     "text": [
      "Enter the number: 14\n",
      "break...\n",
      "13\n"
     ]
    }
   ],
   "source": [
    "n = int(input('Enter the number: '))\n",
    "i = 1\n",
    "while i <= n: # can even use True (boolean) but I think that would create an infinte loop if the code have a mistake.\n",
    "    if i%13== 0:\n",
    "        print('break...')\n",
    "        break\n",
    "    else:\n",
    "        i += 1\n",
    "        continue\n",
    "print(i)"
   ]
  },
  {
   "cell_type": "code",
   "execution_count": 1,
   "metadata": {},
   "outputs": [
    {
     "name": "stdout",
     "output_type": "stream",
     "text": [
      "Enter the number: 56\n",
      "13\n",
      "26\n",
      "39\n",
      "52\n"
     ]
    }
   ],
   "source": [
    "n = int(input('Enter the number: '))\n",
    "i = 1\n",
    "while i <= n:\n",
    "    if i%13 == 0:\n",
    "        print(i)\n",
    "    i += 1"
   ]
  },
  {
   "cell_type": "code",
   "execution_count": 16,
   "metadata": {},
   "outputs": [
    {
     "name": "stdout",
     "output_type": "stream",
     "text": [
      "1 ) Odd number Found\n",
      "2 ) Even number Continue\n",
      "3 ) Odd number Found\n",
      "4 ) Even number Continue\n",
      "5 ) Odd number Found\n",
      "6 ) Even number Continue\n",
      "7 ) Odd number Found\n",
      "8 ) Even number Continue\n",
      "9 ) Odd number Found\n",
      "10 ) Breaking the code\n"
     ]
    }
   ],
   "source": [
    "i=0\n",
    "while i<=1000:\n",
    "    i+=1\n",
    "    print(i,end=\" ) \")\n",
    "    if i==10:\n",
    "        print(\"Breaking the code\")\n",
    "        break\n",
    "    else:\n",
    "        if i%2==0:\n",
    "            print(\"Even number Continue\")\n",
    "            continue\n",
    "        print(\"Odd number Found\")\n",
    "    \n",
    "        \n",
    "        \n",
    "        "
   ]
  },
  {
   "cell_type": "markdown",
   "metadata": {},
   "source": [
    "#### The above is a clear and simple example of the **break** and **continue**.\n",
    "Break stops the code\n",
    "Continue will stop the code till a particular line and return it back to the loop"
   ]
  },
  {
   "cell_type": "markdown",
   "metadata": {},
   "source": [
    "# For Loop"
   ]
  },
  {
   "cell_type": "code",
   "execution_count": 19,
   "metadata": {},
   "outputs": [
    {
     "name": "stdout",
     "output_type": "stream",
     "text": [
      "1\n",
      "2\n",
      "3\n",
      "4\n",
      "5\n",
      "6\n",
      "7\n",
      "8\n",
      "9\n",
      "10\n"
     ]
    }
   ],
   "source": [
    "L = []\n",
    "for i in range(10):\n",
    "    print(i+1)\n",
    "    L.append(i**2)"
   ]
  },
  {
   "cell_type": "markdown",
   "metadata": {},
   "source": [
    "#### range - it is the serialization of number i.e a number in a serial order\n",
    "eg: range(5) means 1 to 5 in serial order \n",
    "\n",
    "range(5,10) means the serial order starts from 5 and ends in 10 i.e 5,6,7,8,9,10\n",
    "\n",
    "range(5,15,2) means the serial order starts from 5 and adds by 2 everytime until it ends at 15 i.e 5,7,9,11,13\n",
    "\n",
    "#### L.append - means adding the number to the last of the list given in L=[a,b,c]"
   ]
  },
  {
   "cell_type": "code",
   "execution_count": 20,
   "metadata": {},
   "outputs": [
    {
     "name": "stdout",
     "output_type": "stream",
     "text": [
      "[0, 1, 4, 9, 16, 25, 36, 49, 64, 81]\n"
     ]
    }
   ],
   "source": [
    "print(L)"
   ]
  },
  {
   "cell_type": "code",
   "execution_count": 23,
   "metadata": {},
   "outputs": [
    {
     "name": "stdout",
     "output_type": "stream",
     "text": [
      "5\n",
      "7\n",
      "9\n",
      "11\n",
      "13\n",
      "[5, 7, 9, 11, 13]\n"
     ]
    }
   ],
   "source": [
    "M = []\n",
    "for j in range (5,15,2):\n",
    "    print(j)\n",
    "    M.append(j)\n",
    "print(M)"
   ]
  },
  {
   "cell_type": "markdown",
   "metadata": {},
   "source": [
    "## else in For loop"
   ]
  },
  {
   "cell_type": "code",
   "execution_count": 29,
   "metadata": {},
   "outputs": [
    {
     "name": "stdout",
     "output_type": "stream",
     "text": [
      "apple\n",
      "4.9\n",
      "cat\n",
      "Loop terminated with success and moved to the else part\n",
      "Out of the Loop totally\n"
     ]
    }
   ],
   "source": [
    "S = {\"apple\",4.9,\"cat\"}\n",
    "for x in S:\n",
    "    print(x)\n",
    "else:\n",
    "    print(\"Loop terminated with success and moved to the else part\")\n",
    "print(\"Out of the Loop totally\")"
   ]
  },
  {
   "cell_type": "markdown",
   "metadata": {},
   "source": [
    "#### The above loop will not work when the loop is stopped by the break loop in the middle\n",
    "\n",
    "S denotes set and is denoted by {} unlike a list which is denoted by []\n",
    "and Set was not organized when I used more than 3 items"
   ]
  },
  {
   "cell_type": "markdown",
   "metadata": {},
   "source": [
    "## Exploring a Dictionary (For Loop)"
   ]
  },
  {
   "cell_type": "code",
   "execution_count": 31,
   "metadata": {},
   "outputs": [
    {
     "name": "stdout",
     "output_type": "stream",
     "text": [
      "Apple 44\n",
      "Ball game\n"
     ]
    }
   ],
   "source": [
    "D = {\"Apple\":44,\"Ball\":\"game\"}\n",
    "for x in D:\n",
    "    print(x,D[x])"
   ]
  },
  {
   "cell_type": "markdown",
   "metadata": {},
   "source": [
    "Dictionary\n",
    "\n",
    "D = {\"Key\":\"Value\"}\n",
    "\n",
    "eg: D = {\"Apple\":44,\"Ball\":\"game\"}\n",
    "\n",
    "D[x] or D[Apple]=44\n"
   ]
  }
 ],
 "metadata": {
  "kernelspec": {
   "display_name": "Python 3",
   "language": "python",
   "name": "python3"
  },
  "language_info": {
   "codemirror_mode": {
    "name": "ipython",
    "version": 3
   },
   "file_extension": ".py",
   "mimetype": "text/x-python",
   "name": "python",
   "nbconvert_exporter": "python",
   "pygments_lexer": "ipython3",
   "version": "3.8.3"
  }
 },
 "nbformat": 4,
 "nbformat_minor": 4
}

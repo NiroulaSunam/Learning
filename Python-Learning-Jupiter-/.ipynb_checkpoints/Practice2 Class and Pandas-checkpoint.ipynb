{
 "cells": [
  {
   "cell_type": "markdown",
   "metadata": {},
   "source": [
    "##  Q. Create a name, marks, email etc. input by the user and create a .csv file or excel file by using Panda Library. And download the csv library"
   ]
  },
  {
   "cell_type": "code",
   "execution_count": 1,
   "metadata": {},
   "outputs": [
    {
     "name": "stdout",
     "output_type": "stream",
     "text": [
      "Total number of students: 4\n",
      "Enter the student first name: qwe\n",
      "Enter the student last name: wer\n",
      "Enter the student marks: 25\n",
      "Enter the student first name: yre\n",
      "Enter the student last name: ert\n",
      "Enter the student marks: 45\n",
      "Enter the student first name: utyu\n",
      "Enter the student last name: 34\n",
      "Enter the student marks: tuyt\n",
      "The entered value is not integer please give an integer value\n",
      "Enter the student marks: 56\n",
      "Enter the student first name: uyt\n",
      "Enter the student last name: iy\n",
      "Enter the student marks: 38\n",
      "[['qwe wer', 25, 'qwe.wer@tcc.com'], ['yre ert', 45, 'yre.ert@tcc.com'], ['utyu 34', 56, 'utyu.34@tcc.com'], ['uyt iy', 38, 'uyt.iy@tcc.com']]\n"
     ]
    }
   ],
   "source": [
    "class Student():\n",
    "    \n",
    "    def __init__(self,first,last,marks):\n",
    "        self.first = first\n",
    "        self.last = last\n",
    "        self.marks = marks\n",
    "        self.email = first + '.' + last + '@tcc.com'\n",
    "        \n",
    "    def fullname(self):\n",
    "        \n",
    "        return '{} {}'.format(self.first,self.last)\n",
    "        \n",
    "\n",
    "a = int(input('Total number of students: '))\n",
    "St = []\n",
    "\n",
    "for i in range (0,a):\n",
    "    f = input('Enter the student first name: ')\n",
    "    l = input('Enter the student last name: ')\n",
    "    for j in range (0,10):\n",
    "        try:\n",
    "            m = int(input('Enter the student marks: '))\n",
    "            break\n",
    "        except:\n",
    "            print('The entered value is not integer please give an integer value')\n",
    "\n",
    "    S = Student(f,l,m)\n",
    "    fl = S.fullname()\n",
    "    mm = S.marks\n",
    "    ee = S.email\n",
    "    A = [fl,mm,ee]\n",
    "    St.append(A)\n",
    "print(St)\n"
   ]
  },
  {
   "cell_type": "code",
   "execution_count": 2,
   "metadata": {},
   "outputs": [
    {
     "name": "stdout",
     "output_type": "stream",
     "text": [
      "[['qwe wer', 25, 'qwe.wer@tcc.com'], ['uyt iy', 38, 'uyt.iy@tcc.com'], ['yre ert', 45, 'yre.ert@tcc.com'], ['utyu 34', 56, 'utyu.34@tcc.com']]\n"
     ]
    }
   ],
   "source": [
    "St.sort(key=lambda x: x[1])\n",
    "print(St)"
   ]
  },
  {
   "cell_type": "code",
   "execution_count": 3,
   "metadata": {},
   "outputs": [
    {
     "name": "stdout",
     "output_type": "stream",
     "text": [
      "[['utyu 34', 56, 'utyu.34@tcc.com'], ['yre ert', 45, 'yre.ert@tcc.com'], ['uyt iy', 38, 'uyt.iy@tcc.com'], ['qwe wer', 25, 'qwe.wer@tcc.com']]\n"
     ]
    }
   ],
   "source": [
    "St.reverse()\n",
    "print(St)"
   ]
  },
  {
   "cell_type": "code",
   "execution_count": 4,
   "metadata": {},
   "outputs": [],
   "source": [
    "St1 = [x[0] for x in St]\n",
    "St2 = [x[1] for x in St]\n",
    "St3 = [x[2] for x in St]\n",
    "D1 = {}\n",
    "D1.update({'Name':St1,'Marks':St2,\"Email\":St3})"
   ]
  },
  {
   "cell_type": "code",
   "execution_count": 16,
   "metadata": {},
   "outputs": [],
   "source": [
    "import pandas as pd"
   ]
  },
  {
   "cell_type": "code",
   "execution_count": 18,
   "metadata": {},
   "outputs": [],
   "source": [
    "D = pd.DataFrame(D1)\n",
    "D.to_csv('Student Information.csv')"
   ]
  },
  {
   "cell_type": "code",
   "execution_count": null,
   "metadata": {},
   "outputs": [],
   "source": []
  }
 ],
 "metadata": {
  "kernelspec": {
   "display_name": "Python 3",
   "language": "python",
   "name": "python3"
  },
  "language_info": {
   "codemirror_mode": {
    "name": "ipython",
    "version": 3
   },
   "file_extension": ".py",
   "mimetype": "text/x-python",
   "name": "python",
   "nbconvert_exporter": "python",
   "pygments_lexer": "ipython3",
   "version": "3.8.3"
  }
 },
 "nbformat": 4,
 "nbformat_minor": 4
}

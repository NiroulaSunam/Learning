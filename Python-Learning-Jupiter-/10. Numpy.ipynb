{
 "cells": [
  {
   "cell_type": "markdown",
   "metadata": {},
   "source": [
    "# NumPy\n",
    "\n",
    "We Use NumPy because its faster"
   ]
  },
  {
   "cell_type": "code",
   "execution_count": 17,
   "metadata": {},
   "outputs": [],
   "source": [
    "import numpy as np"
   ]
  },
  {
   "cell_type": "code",
   "execution_count": 8,
   "metadata": {},
   "outputs": [
    {
     "name": "stdout",
     "output_type": "stream",
     "text": [
      "[1 2 3 4 5]\n",
      "[1. 2. 3. 4. 5. 6.]\n"
     ]
    }
   ],
   "source": [
    "a = np.array([1,2,3,4,5],dtype='i')\n",
    "b = np.array((1,2,3,4,5,6),dtype='f')\n",
    "print(a)\n",
    "print(b)"
   ]
  },
  {
   "cell_type": "code",
   "execution_count": 9,
   "metadata": {},
   "outputs": [
    {
     "data": {
      "text/plain": [
       "numpy.ndarray"
      ]
     },
     "execution_count": 9,
     "metadata": {},
     "output_type": "execute_result"
    }
   ],
   "source": [
    "type(a)"
   ]
  },
  {
   "cell_type": "code",
   "execution_count": 10,
   "metadata": {},
   "outputs": [
    {
     "data": {
      "text/plain": [
       "dtype('int32')"
      ]
     },
     "execution_count": 10,
     "metadata": {},
     "output_type": "execute_result"
    }
   ],
   "source": [
    "a.dtype # data type in a; a stores all data that is int32"
   ]
  },
  {
   "cell_type": "code",
   "execution_count": 12,
   "metadata": {},
   "outputs": [
    {
     "data": {
      "text/plain": [
       "dtype('float32')"
      ]
     },
     "execution_count": 12,
     "metadata": {},
     "output_type": "execute_result"
    }
   ],
   "source": [
    "b.dtype"
   ]
  },
  {
   "cell_type": "markdown",
   "metadata": {},
   "source": [
    "## Numpy (Dimensions)"
   ]
  },
  {
   "cell_type": "code",
   "execution_count": 24,
   "metadata": {},
   "outputs": [],
   "source": [
    "a = np.array([[1,2,3,4],[6,7,8,9]])\n",
    "b = np.array([[[12,3,24],[12,45,65,23]],[[34,23,54,64],[34,23,12,43,54]]])"
   ]
  },
  {
   "cell_type": "markdown",
   "metadata": {},
   "source": [
    "#### Must have same datatypes i.e. if it is integer then all the other should be integers. np.array is not heterogenous"
   ]
  },
  {
   "cell_type": "code",
   "execution_count": 26,
   "metadata": {},
   "outputs": [
    {
     "data": {
      "text/plain": [
       "2"
      ]
     },
     "execution_count": 26,
     "metadata": {},
     "output_type": "execute_result"
    }
   ],
   "source": [
    "a.ndim # No. of dimensions it has i.e. the no. of times it has to have indexes like a[0,1] to get a file"
   ]
  },
  {
   "cell_type": "code",
   "execution_count": 27,
   "metadata": {},
   "outputs": [
    {
     "data": {
      "text/plain": [
       "9"
      ]
     },
     "execution_count": 27,
     "metadata": {},
     "output_type": "execute_result"
    }
   ],
   "source": [
    "a[1,3]"
   ]
  },
  {
   "cell_type": "markdown",
   "metadata": {},
   "source": [
    "It will not be a Dimensional array if the number of the first listed value is different from the second listed vlues"
   ]
  },
  {
   "cell_type": "code",
   "execution_count": 33,
   "metadata": {},
   "outputs": [
    {
     "data": {
      "text/plain": [
       "1"
      ]
     },
     "execution_count": 33,
     "metadata": {},
     "output_type": "execute_result"
    }
   ],
   "source": [
    "b = np.array([[1,2,3],[6,7,8,9]])\n",
    "b.ndim # It shows only one dimension because the no. of 1st array and 2nd array is not same"
   ]
  },
  {
   "cell_type": "code",
   "execution_count": 34,
   "metadata": {},
   "outputs": [
    {
     "name": "stdout",
     "output_type": "stream",
     "text": [
      "[[1 2 3 4]\n",
      " [6 7 8 9]]\n",
      "[list([1, 2, 3]) list([6, 7, 8, 9])]\n"
     ]
    }
   ],
   "source": [
    "print(a)\n",
    "print(b)"
   ]
  },
  {
   "cell_type": "code",
   "execution_count": 36,
   "metadata": {},
   "outputs": [
    {
     "name": "stdout",
     "output_type": "stream",
     "text": [
      "<class 'numpy.ndarray'>\n"
     ]
    },
    {
     "data": {
      "text/plain": [
       "numpy.ndarray"
      ]
     },
     "execution_count": 36,
     "metadata": {},
     "output_type": "execute_result"
    }
   ],
   "source": [
    "print(type(a))\n",
    "type(b)"
   ]
  },
  {
   "cell_type": "code",
   "execution_count": 38,
   "metadata": {},
   "outputs": [
    {
     "data": {
      "text/plain": [
       "(2, 4)"
      ]
     },
     "execution_count": 38,
     "metadata": {},
     "output_type": "execute_result"
    }
   ],
   "source": [
    "a.shape #How many 1D are there in 2D; how many elements are there in the 1D "
   ]
  },
  {
   "cell_type": "code",
   "execution_count": 39,
   "metadata": {},
   "outputs": [
    {
     "data": {
      "text/plain": [
       "4"
      ]
     },
     "execution_count": 39,
     "metadata": {},
     "output_type": "execute_result"
    }
   ],
   "source": [
    "a.shape[1] #Listing the particular no. of dimensions "
   ]
  },
  {
   "cell_type": "code",
   "execution_count": 40,
   "metadata": {},
   "outputs": [
    {
     "data": {
      "text/plain": [
       "1"
      ]
     },
     "execution_count": 40,
     "metadata": {},
     "output_type": "execute_result"
    }
   ],
   "source": [
    "c = np.array([1])\n",
    "c.ndim"
   ]
  },
  {
   "cell_type": "code",
   "execution_count": 41,
   "metadata": {},
   "outputs": [
    {
     "data": {
      "text/plain": [
       "0"
      ]
     },
     "execution_count": 41,
     "metadata": {},
     "output_type": "execute_result"
    }
   ],
   "source": [
    "d = np.array(1)\n",
    "d.ndim"
   ]
  },
  {
   "cell_type": "code",
   "execution_count": 43,
   "metadata": {},
   "outputs": [
    {
     "data": {
      "text/plain": [
       "2"
      ]
     },
     "execution_count": 43,
     "metadata": {},
     "output_type": "execute_result"
    }
   ],
   "source": [
    "b.size #no. of elements in the np array"
   ]
  },
  {
   "cell_type": "code",
   "execution_count": 45,
   "metadata": {},
   "outputs": [
    {
     "data": {
      "text/plain": [
       "16"
      ]
     },
     "execution_count": 45,
     "metadata": {},
     "output_type": "execute_result"
    }
   ],
   "source": [
    "b.nbytes #no. of bytes in the np array"
   ]
  },
  {
   "cell_type": "markdown",
   "metadata": {},
   "source": [
    "We can use more functions by using b.(Tab) and ?, ??, help() to know about the function"
   ]
  },
  {
   "cell_type": "markdown",
   "metadata": {},
   "source": [
    "## Arrange, Reshape, Random"
   ]
  },
  {
   "cell_type": "code",
   "execution_count": 48,
   "metadata": {},
   "outputs": [
    {
     "name": "stdout",
     "output_type": "stream",
     "text": [
      "[ 0  1  2  3  4  5  6  7  8  9 10 11 12 13 14 15 16 17 18 19 20 21 22 23\n",
      " 24 25 26 27 28 29 30 31 32 33 34 35 36 37 38 39 40 41 42 43 44 45 46 47\n",
      " 48 49 50 51 52 53 54 55 56 57 58 59 60 61 62 63 64 65 66 67 68 69 70 71\n",
      " 72 73 74 75 76 77 78 79 80 81 82 83 84 85 86 87 88 89 90 91 92 93 94 95\n",
      " 96 97 98 99]\n"
     ]
    }
   ],
   "source": [
    "A=np.arange(100)\n",
    "print(A)"
   ]
  },
  {
   "cell_type": "code",
   "execution_count": 50,
   "metadata": {},
   "outputs": [
    {
     "name": "stdout",
     "output_type": "stream",
     "text": [
      "[20 21 22 23 24 25 26 27 28 29 30 31 32 33 34 35 36 37 38 39 40 41 42 43\n",
      " 44 45 46 47 48 49 50 51 52 53 54 55 56 57 58 59 60 61 62 63 64 65 66 67\n",
      " 68 69 70 71 72 73 74 75 76 77 78 79 80 81 82 83 84 85 86 87 88 89 90 91\n",
      " 92 93 94 95 96 97 98 99]\n"
     ]
    }
   ],
   "source": [
    "B=np.arange(20,100)\n",
    "print(B)"
   ]
  },
  {
   "cell_type": "code",
   "execution_count": 52,
   "metadata": {},
   "outputs": [
    {
     "name": "stdout",
     "output_type": "stream",
     "text": [
      "[20 23 26 29 32 35 38 41 44 47 50 53 56 59 62 65 68 71 74 77 80 83 86 89\n",
      " 92 95 98]\n"
     ]
    }
   ],
   "source": [
    "C=np.arange(20,100,3) # Have resemblence with range function of python\n",
    "print(C)"
   ]
  },
  {
   "cell_type": "code",
   "execution_count": 53,
   "metadata": {},
   "outputs": [
    {
     "name": "stdout",
     "output_type": "stream",
     "text": [
      "range(0, 10)\n"
     ]
    }
   ],
   "source": [
    "print(range(0,10))"
   ]
  },
  {
   "cell_type": "markdown",
   "metadata": {},
   "source": [
    "Range = shows the elements one by one (used in for loop) - doesnot print the list of items in the range\n",
    "\n",
    "So, to print the items of list in a particular range; we use arange"
   ]
  },
  {
   "cell_type": "code",
   "execution_count": 54,
   "metadata": {},
   "outputs": [
    {
     "name": "stdout",
     "output_type": "stream",
     "text": [
      "[0, 1, 2, 3, 4, 5, 6, 7, 8, 9]\n"
     ]
    }
   ],
   "source": [
    "print(list(range(0,10)))"
   ]
  },
  {
   "cell_type": "markdown",
   "metadata": {},
   "source": [
    "### Random"
   ]
  },
  {
   "cell_type": "code",
   "execution_count": 7,
   "metadata": {},
   "outputs": [
    {
     "name": "stdout",
     "output_type": "stream",
     "text": [
      "[6 9 3 4 1 0 2 8 5 7]\n"
     ]
    }
   ],
   "source": [
    "import numpy as np\n",
    "C = np.random.permutation(np.arange(0,10)) # Make the list of numbers from 0 to 10 in random\n",
    "print(C)"
   ]
  },
  {
   "cell_type": "code",
   "execution_count": 8,
   "metadata": {},
   "outputs": [
    {
     "data": {
      "text/plain": [
       "<function RandomState.randint>"
      ]
     },
     "execution_count": 8,
     "metadata": {},
     "output_type": "execute_result"
    }
   ],
   "source": [
    "np.random.randint"
   ]
  },
  {
   "cell_type": "code",
   "execution_count": 12,
   "metadata": {},
   "outputs": [
    {
     "name": "stdout",
     "output_type": "stream",
     "text": [
      "21\n",
      "<class 'int'>\n"
     ]
    }
   ],
   "source": [
    "D = np.random.randint(20,30) # Return a random integer between 20 and 30\n",
    "print(D)\n",
    "print(type(D))"
   ]
  },
  {
   "cell_type": "code",
   "execution_count": 16,
   "metadata": {},
   "outputs": [
    {
     "name": "stdout",
     "output_type": "stream",
     "text": [
      "[0.07780467 0.93482157 0.34587994 0.93378854 0.27824565 0.0040336\n",
      " 0.01050979 0.57028641 0.77538243 0.21519345 0.68110853 0.87825021\n",
      " 0.08803807 0.12741359 0.93729205 0.18342222 0.32965565 0.41491462\n",
      " 0.23670486 0.88643378 0.09750211 0.43823657 0.88246036 0.57971958\n",
      " 0.81679304 0.83445039 0.57335589 0.3997814  0.98560099 0.80405072\n",
      " 0.28495846 0.11712692 0.0625233  0.63327574 0.27060304 0.58180669\n",
      " 0.82547241 0.05424969 0.60617033 0.52002455 0.74611662 0.63674504\n",
      " 0.94494399 0.16550921 0.23451835 0.40587857 0.46242268 0.89459835\n",
      " 0.58697068 0.11560875 0.45032508 0.38868857 0.95252959 0.90972344\n",
      " 0.87558918 0.52554098 0.63675963 0.28850546 0.09976323 0.82912704\n",
      " 0.89856474 0.77498365 0.48518069 0.64071186 0.82412783 0.56611402\n",
      " 0.33288728 0.62033449 0.02321328 0.32029509 0.73446241 0.03055581\n",
      " 0.22532824 0.6657299  0.96037891 0.28232653 0.35395257 0.49173374\n",
      " 0.84008254 0.36295735 0.84083245 0.65779066 0.98815245 0.59766356\n",
      " 0.55418142 0.83939837 0.27428544 0.82887449 0.90693947 0.32135435\n",
      " 0.59306444 0.85957332 0.06048313 0.0028347  0.51487403 0.36914376\n",
      " 0.38818448 0.42517615 0.26098526 0.78977766]\n"
     ]
    }
   ],
   "source": [
    "E = np.random.rand(100) # Random number between 0 and 1\n",
    "print(E)"
   ]
  },
  {
   "cell_type": "code",
   "execution_count": 21,
   "metadata": {},
   "outputs": [],
   "source": [
    "import matplotlib.pyplot as plt"
   ]
  },
  {
   "cell_type": "code",
   "execution_count": 22,
   "metadata": {},
   "outputs": [
    {
     "data": {
      "text/plain": [
       "(array([12.,  5., 11., 10.,  9., 11., 10.,  5., 15., 12.]),\n",
       " array([0.0028347 , 0.10136648, 0.19989825, 0.29843003, 0.3969618 ,\n",
       "        0.49549358, 0.59402535, 0.69255713, 0.7910889 , 0.88962068,\n",
       "        0.98815245]),\n",
       " <a list of 10 Patch objects>)"
      ]
     },
     "execution_count": 22,
     "metadata": {},
     "output_type": "execute_result"
    },
    {
     "data": {
      "image/png": "[encoded data removed]",
      "text/plain": [
       "<Figure size 432x288 with 1 Axes>"
      ]
     },
     "metadata": {
      "needs_background": "light"
     },
     "output_type": "display_data"
    }
   ],
   "source": [
    "plt.hist(E)"
   ]
  },
  {
   "cell_type": "code",
   "execution_count": 27,
   "metadata": {},
   "outputs": [
    {
     "name": "stdout",
     "output_type": "stream",
     "text": [
      "[ 0.0687553  -0.41221986  1.69852568 ... -0.51427996 -1.3968472\n",
      " -0.39923446]\n"
     ]
    }
   ],
   "source": [
    "F = np.random.randn(10000) # Normal random numbers or gaussian random numbers\n",
    "print(F)"
   ]
  },
  {
   "cell_type": "code",
   "execution_count": 28,
   "metadata": {},
   "outputs": [
    {
     "data": {
      "text/plain": [
       "(array([  1.,   0.,   0.,   0.,   0.,   0.,   0.,   0.,   0.,   1.,   0.,\n",
       "          1.,   1.,   1.,   1.,   1.,   0.,   0.,   0.,   2.,   2.,   5.,\n",
       "          2.,   4.,   5.,   5.,   1.,   5.,   5.,   4.,   2.,   6.,   6.,\n",
       "          9.,   8.,   4.,  10.,  13.,  14.,   8.,  14.,  17.,  19.,  19.,\n",
       "         24.,  24.,  17.,  32.,  23.,  40.,  41.,  35.,  32.,  33.,  39.,\n",
       "         68.,  55.,  76.,  50.,  58.,  61.,  75.,  89.,  59.,  78.,  90.,\n",
       "         71., 101.,  90.,  99., 110., 114., 102.,  97., 139., 102., 134.,\n",
       "        146., 131., 124., 147., 141., 143., 133., 159., 163., 157., 150.,\n",
       "        181., 148., 187., 160., 171., 147., 162., 180., 157., 184., 180.,\n",
       "        154., 149., 146., 165., 157., 131., 155., 148., 126., 153., 133.,\n",
       "        114., 128., 120., 139., 116., 124., 111., 101.,  87.,  96.,  98.,\n",
       "         79.,  84.,  85.,  74.,  60.,  86.,  65.,  49.,  42.,  52.,  46.,\n",
       "         51.,  32.,  32.,  35.,  40.,  30.,  26.,  30.,  23.,  16.,  14.,\n",
       "         19.,  16.,  15.,  12.,  21.,  13.,  12.,  14.,  11.,   9.,   9.,\n",
       "          8.,   4.,   5.,   4.,   0.,   1.,   0.,   5.,   1.,   3.,   1.,\n",
       "          0.,   1.,   1.,   1.,   1.,   1.,   0.,   1.,   2.,   0.,   0.,\n",
       "          0.,   0.,   0.,   0.,   1.,   0.,   0.,   0.,   0.,   0.,   0.,\n",
       "          0.,   0.,   0.,   0.,   0.,   0.,   0.,   0.,   0.,   0.,   0.,\n",
       "          0.,   1.]),\n",
       " array([-3.88719299, -3.84551826, -3.80384352, -3.76216878, -3.72049404,\n",
       "        -3.67881931, -3.63714457, -3.59546983, -3.55379509, -3.51212036,\n",
       "        -3.47044562, -3.42877088, -3.38709614, -3.34542141, -3.30374667,\n",
       "        -3.26207193, -3.22039719, -3.17872246, -3.13704772, -3.09537298,\n",
       "        -3.05369824, -3.01202351, -2.97034877, -2.92867403, -2.88699929,\n",
       "        -2.84532456, -2.80364982, -2.76197508, -2.72030034, -2.67862561,\n",
       "        -2.63695087, -2.59527613, -2.55360139, -2.51192666, -2.47025192,\n",
       "        -2.42857718, -2.38690244, -2.34522771, -2.30355297, -2.26187823,\n",
       "        -2.22020349, -2.17852876, -2.13685402, -2.09517928, -2.05350454,\n",
       "        -2.01182981, -1.97015507, -1.92848033, -1.88680559, -1.84513086,\n",
       "        -1.80345612, -1.76178138, -1.72010664, -1.67843191, -1.63675717,\n",
       "        -1.59508243, -1.55340769, -1.51173296, -1.47005822, -1.42838348,\n",
       "        -1.38670875, -1.34503401, -1.30335927, -1.26168453, -1.2200098 ,\n",
       "        -1.17833506, -1.13666032, -1.09498558, -1.05331085, -1.01163611,\n",
       "        -0.96996137, -0.92828663, -0.8866119 , -0.84493716, -0.80326242,\n",
       "        -0.76158768, -0.71991295, -0.67823821, -0.63656347, -0.59488873,\n",
       "        -0.553214  , -0.51153926, -0.46986452, -0.42818978, -0.38651505,\n",
       "        -0.34484031, -0.30316557, -0.26149083, -0.2198161 , -0.17814136,\n",
       "        -0.13646662, -0.09479188, -0.05311715, -0.01144241,  0.03023233,\n",
       "         0.07190707,  0.1135818 ,  0.15525654,  0.19693128,  0.23860602,\n",
       "         0.28028075,  0.32195549,  0.36363023,  0.40530497,  0.4469797 ,\n",
       "         0.48865444,  0.53032918,  0.57200392,  0.61367865,  0.65535339,\n",
       "         0.69702813,  0.73870287,  0.7803776 ,  0.82205234,  0.86372708,\n",
       "         0.90540182,  0.94707655,  0.98875129,  1.03042603,  1.07210077,\n",
       "         1.1137755 ,  1.15545024,  1.19712498,  1.23879972,  1.28047445,\n",
       "         1.32214919,  1.36382393,  1.40549867,  1.4471734 ,  1.48884814,\n",
       "         1.53052288,  1.57219761,  1.61387235,  1.65554709,  1.69722183,\n",
       "         1.73889656,  1.7805713 ,  1.82224604,  1.86392078,  1.90559551,\n",
       "         1.94727025,  1.98894499,  2.03061973,  2.07229446,  2.1139692 ,\n",
       "         2.15564394,  2.19731868,  2.23899341,  2.28066815,  2.32234289,\n",
       "         2.36401763,  2.40569236,  2.4473671 ,  2.48904184,  2.53071658,\n",
       "         2.57239131,  2.61406605,  2.65574079,  2.69741553,  2.73909026,\n",
       "         2.780765  ,  2.82243974,  2.86411448,  2.90578921,  2.94746395,\n",
       "         2.98913869,  3.03081343,  3.07248816,  3.1141629 ,  3.15583764,\n",
       "         3.19751238,  3.23918711,  3.28086185,  3.32253659,  3.36421133,\n",
       "         3.40588606,  3.4475608 ,  3.48923554,  3.53091028,  3.57258501,\n",
       "         3.61425975,  3.65593449,  3.69760923,  3.73928396,  3.7809587 ,\n",
       "         3.82263344,  3.86430818,  3.90598291,  3.94765765,  3.98933239,\n",
       "         4.03100713,  4.07268186,  4.1143566 ,  4.15603134,  4.19770608,\n",
       "         4.23938081,  4.28105555,  4.32273029,  4.36440502,  4.40607976,\n",
       "         4.4477545 ]),\n",
       " <a list of 200 Patch objects>)"
      ]
     },
     "execution_count": 28,
     "metadata": {},
     "output_type": "execute_result"
    },
    {
     "data": {
      "image/png": "[encoded data removed]",
      "text/plain": [
       "<Figure size 432x288 with 1 Axes>"
      ]
     },
     "metadata": {
      "needs_background": "light"
     },
     "output_type": "display_data"
    }
   ],
   "source": [
    "plt.hist(F,bins=200)"
   ]
  },
  {
   "cell_type": "code",
   "execution_count": 29,
   "metadata": {},
   "outputs": [
    {
     "name": "stdout",
     "output_type": "stream",
     "text": [
      "[[0.86152892 0.4565495  0.93639857]\n",
      " [0.86347777 0.90002636 0.44283135]]\n"
     ]
    }
   ],
   "source": [
    "G = np.random.rand(2,3) # Array of 2*3 matrix\n",
    "print(G)"
   ]
  },
  {
   "cell_type": "code",
   "execution_count": 31,
   "metadata": {},
   "outputs": [
    {
     "data": {
      "text/plain": [
       "2"
      ]
     },
     "execution_count": 31,
     "metadata": {},
     "output_type": "execute_result"
    }
   ],
   "source": [
    "G.ndim #No. of dimensions of the Matrix"
   ]
  },
  {
   "cell_type": "code",
   "execution_count": 32,
   "metadata": {},
   "outputs": [
    {
     "name": "stdout",
     "output_type": "stream",
     "text": [
      "[[[[0.16945512 0.06977472]\n",
      "   [0.19075203 0.71466678]\n",
      "   [0.957665   0.78168419]]\n",
      "\n",
      "  [[0.39088226 0.26789414]\n",
      "   [0.0891514  0.57805021]\n",
      "   [0.29852142 0.25071855]]\n",
      "\n",
      "  [[0.32308505 0.69800585]\n",
      "   [0.99721509 0.22697056]\n",
      "   [0.5389193  0.99459949]]\n",
      "\n",
      "  [[0.20166614 0.28402395]\n",
      "   [0.83812319 0.23215921]\n",
      "   [0.40842918 0.44822441]]]\n",
      "\n",
      "\n",
      " [[[0.74441247 0.03424648]\n",
      "   [0.30058418 0.23090085]\n",
      "   [0.56570203 0.76289136]]\n",
      "\n",
      "  [[0.27755906 0.15289152]\n",
      "   [0.77383974 0.85688318]\n",
      "   [0.04100852 0.32442874]]\n",
      "\n",
      "  [[0.46630371 0.05805962]\n",
      "   [0.37464279 0.44731105]\n",
      "   [0.01221291 0.99804353]]\n",
      "\n",
      "  [[0.94001578 0.64922659]\n",
      "   [0.95254768 0.64725574]\n",
      "   [0.17880281 0.08680294]]]]\n"
     ]
    }
   ],
   "source": [
    "H = np.random.rand(2,4,3,2)\n",
    "print(H)"
   ]
  },
  {
   "cell_type": "code",
   "execution_count": 33,
   "metadata": {},
   "outputs": [
    {
     "data": {
      "text/plain": [
       "4"
      ]
     },
     "execution_count": 33,
     "metadata": {},
     "output_type": "execute_result"
    }
   ],
   "source": [
    "H.ndim"
   ]
  },
  {
   "cell_type": "markdown",
   "metadata": {},
   "source": [
    "### Reshape"
   ]
  },
  {
   "cell_type": "code",
   "execution_count": 34,
   "metadata": {},
   "outputs": [
    {
     "name": "stdout",
     "output_type": "stream",
     "text": [
      "[[ 0  1  2  3  4  5  6  7  8  9 10 11 12 13 14 15 16 17 18 19 20 21 22 23\n",
      "  24]\n",
      " [25 26 27 28 29 30 31 32 33 34 35 36 37 38 39 40 41 42 43 44 45 46 47 48\n",
      "  49]\n",
      " [50 51 52 53 54 55 56 57 58 59 60 61 62 63 64 65 66 67 68 69 70 71 72 73\n",
      "  74]\n",
      " [75 76 77 78 79 80 81 82 83 84 85 86 87 88 89 90 91 92 93 94 95 96 97 98\n",
      "  99]]\n"
     ]
    }
   ],
   "source": [
    "I = np.arange(100).reshape(4,25)\n",
    "print(I)"
   ]
  },
  {
   "cell_type": "code",
   "execution_count": 36,
   "metadata": {},
   "outputs": [
    {
     "data": {
      "text/plain": [
       "(4, 25)"
      ]
     },
     "execution_count": 36,
     "metadata": {},
     "output_type": "execute_result"
    }
   ],
   "source": [
    "I.shape"
   ]
  },
  {
   "cell_type": "code",
   "execution_count": 38,
   "metadata": {},
   "outputs": [
    {
     "name": "stdout",
     "output_type": "stream",
     "text": [
      "Help on built-in function zeros in module numpy:\n",
      "\n",
      "zeros(...)\n",
      "    zeros(shape, dtype=float, order='C')\n",
      "    \n",
      "    Return a new array of given shape and type, filled with zeros.\n",
      "    \n",
      "    Parameters\n",
      "    ----------\n",
      "    shape : int or tuple of ints\n",
      "        Shape of the new array, e.g., ``(2, 3)`` or ``2``.\n",
      "    dtype : data-type, optional\n",
      "        The desired data-type for the array, e.g., `numpy.int8`.  Default is\n",
      "        `numpy.float64`.\n",
      "    order : {'C', 'F'}, optional, default: 'C'\n",
      "        Whether to store multi-dimensional data in row-major\n",
      "        (C-style) or column-major (Fortran-style) order in\n",
      "        memory.\n",
      "    \n",
      "    Returns\n",
      "    -------\n",
      "    out : ndarray\n",
      "        Array of zeros with the given shape, dtype, and order.\n",
      "    \n",
      "    See Also\n",
      "    --------\n",
      "    zeros_like : Return an array of zeros with shape and type of input.\n",
      "    empty : Return a new uninitialized array.\n",
      "    ones : Return a new array setting values to one.\n",
      "    full : Return a new array of given shape filled with value.\n",
      "    \n",
      "    Examples\n",
      "    --------\n",
      "    >>> np.zeros(5)\n",
      "    array([ 0.,  0.,  0.,  0.,  0.])\n",
      "    \n",
      "    >>> np.zeros((5,), dtype=int)\n",
      "    array([0, 0, 0, 0, 0])\n",
      "    \n",
      "    >>> np.zeros((2, 1))\n",
      "    array([[ 0.],\n",
      "           [ 0.]])\n",
      "    \n",
      "    >>> s = (2,2)\n",
      "    >>> np.zeros(s)\n",
      "    array([[ 0.,  0.],\n",
      "           [ 0.,  0.]])\n",
      "    \n",
      "    >>> np.zeros((2,), dtype=[('x', 'i4'), ('y', 'i4')]) # custom dtype\n",
      "    array([(0, 0), (0, 0)],\n",
      "          dtype=[('x', '<i4'), ('y', '<i4')])\n",
      "\n"
     ]
    }
   ],
   "source": [
    "help(np.zeros)\n",
    "# There are so many other functions and you can test it like this "
   ]
  },
  {
   "cell_type": "markdown",
   "metadata": {},
   "source": [
    "## Slicing"
   ]
  },
  {
   "cell_type": "markdown",
   "metadata": {},
   "source": [
    "A[Start:Stop:Step]\n",
    "\n",
    "a[1:5] # index 1 till 5 but not 5\n",
    "\n",
    "a[:5] # index 0 till 5 but not 5\n",
    "\n",
    "a[2:] # index 2 till end including last element\n",
    "\n",
    "a[::-1] # index from end to start (reverse of the array)\n",
    "\n",
    "a[::2] # from start till end on every other element\n",
    "\n",
    "a[::2,:] ?\n",
    "\n",
    "The main difference between slicing of List and Numpy array is when List is slicied, a new list is made which is the copy of the list but when Numpy array is sliced, the slicied array is a reference to the array and when the slicied array is changed then the array is changed\n",
    "\n",
    "So to actually copy and not reference in Numpy array is to use the copy function eg:\n",
    "\n",
    "a = np.arange(100)\n",
    "\n",
    "b = a(3:10).copy()\n",
    "\n",
    "###### We can also use more slicing to use Boolean Algorithms\n",
    "\n",
    "    a[a<8] It means that only the numbers a<8 which is True will be printed\n",
    "    \n",
    "##### Difference between '&' and 'and'\n",
    "\n",
    "& is used for array when comparing different arrays of two booleans\n",
    "\n",
    "and is used when compairing single line integers/floats\n",
    "\n",
    "&   and\n",
    "\n",
    "/   or\n",
    "\n",
    "~   not"
   ]
  },
  {
   "cell_type": "markdown",
   "metadata": {},
   "source": [
    "## Broadcasting"
   ]
  },
  {
   "cell_type": "markdown",
   "metadata": {},
   "source": [
    "A = A + 5\n",
    "\n",
    "Adding a new matrix of 5 in the matrix/ array of A made easier by using Numpy Broadcasting"
   ]
  },
  {
   "cell_type": "markdown",
   "metadata": {},
   "source": [
    "## Universal Functions (hstack, vstack, sort(axis=0))"
   ]
  },
  {
   "cell_type": "markdown",
   "metadata": {},
   "source": [
    "np.hstack\n",
    "np.vstack\n",
    "..."
   ]
  }
 ],
 "metadata": {
  "kernelspec": {
   "display_name": "Python 3",
   "language": "python",
   "name": "python3"
  },
  "language_info": {
   "codemirror_mode": {
    "name": "ipython",
    "version": 3
   },
   "file_extension": ".py",
   "mimetype": "text/x-python",
   "name": "python",
   "nbconvert_exporter": "python",
   "pygments_lexer": "ipython3",
   "version": "3.8.3"
  }
 },
 "nbformat": 4,
 "nbformat_minor": 4
}
